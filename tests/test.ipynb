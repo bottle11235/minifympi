{
 "cells": [
  {
   "cell_type": "code",
   "execution_count": 1,
   "metadata": {},
   "outputs": [
    {
     "ename": "ImportError",
     "evalue": "cannot import name 'MinifyMPI' from 'minifympi.core' (/mnt/d/Python/minifympi/minifympi/core/__init__.py)",
     "output_type": "error",
     "traceback": [
      "\u001b[0;31m---------------------------------------------------------------------------\u001b[0m",
      "\u001b[0;31mImportError\u001b[0m                               Traceback (most recent call last)",
      "Cell \u001b[0;32mIn[1], line 4\u001b[0m\n\u001b[1;32m      2\u001b[0m \u001b[38;5;28;01mimport\u001b[39;00m \u001b[38;5;21;01mnumpy\u001b[39;00m \u001b[38;5;28;01mas\u001b[39;00m \u001b[38;5;21;01mnp\u001b[39;00m\n\u001b[1;32m      3\u001b[0m sys\u001b[38;5;241m.\u001b[39mpath\u001b[38;5;241m.\u001b[39mappend(\u001b[38;5;124m\"\u001b[39m\u001b[38;5;124m/mnt/d/Python/minifympi/\u001b[39m\u001b[38;5;124m\"\u001b[39m)\n\u001b[0;32m----> 4\u001b[0m \u001b[38;5;28;01mfrom\u001b[39;00m \u001b[38;5;21;01mminifympi\u001b[39;00m\u001b[38;5;21;01m.\u001b[39;00m\u001b[38;5;21;01mwrappers\u001b[39;00m \u001b[38;5;28;01mimport\u001b[39;00m parallel\n",
      "File \u001b[0;32m/mnt/d/Python/minifympi/minifympi/wrappers.py:1\u001b[0m\n\u001b[0;32m----> 1\u001b[0m \u001b[38;5;28;01mfrom\u001b[39;00m \u001b[38;5;21;01m.\u001b[39;00m\u001b[38;5;21;01mcore\u001b[39;00m \u001b[38;5;28;01mimport\u001b[39;00m MinifyMPI, MPIFunction\n\u001b[1;32m      2\u001b[0m \u001b[38;5;28;01mfrom\u001b[39;00m \u001b[38;5;21;01mmpi4py\u001b[39;00m \u001b[38;5;28;01mimport\u001b[39;00m MPI\n\u001b[1;32m      3\u001b[0m \u001b[38;5;28;01mimport\u001b[39;00m \u001b[38;5;21;01minspect\u001b[39;00m\n",
      "\u001b[0;31mImportError\u001b[0m: cannot import name 'MinifyMPI' from 'minifympi.core' (/mnt/d/Python/minifympi/minifympi/core/__init__.py)"
     ]
    }
   ],
   "source": [
    "import sys\n",
    "import numpy as np\n",
    "sys.path.append(\"/mnt/d/Python/minifympi/\")\n",
    "from minifympi.wrappers import parallel"
   ]
  },
  {
   "cell_type": "code",
   "execution_count": null,
   "metadata": {},
   "outputs": [],
   "source": [
    "n_procs = 4\n",
    "n_tasks = 10\n",
    "@parallel(n_procs, n_tasks)\n",
    "@decorator2\n",
    "def test(a:'S', b:'s', c=None, *args, **kwargs)->'G,g,g':\n",
    "    a *= 2\n",
    "    # a = np.sin(a)\n",
    "    print(c)\n",
    "    return a, b, c\n",
    "\n",
    "a = np.arange(n_tasks*2).reshape(n_tasks, -1)\n",
    "b = list(range(n_procs))\n",
    "c = np.arange(n_procs*2).reshape(n_procs, -1)\n",
    "returns = test(a, b, c, 5, 10, 11, d=3)\n",
    "print('returns', returns)"
   ]
  },
  {
   "cell_type": "code",
   "execution_count": null,
   "metadata": {},
   "outputs": [],
   "source": [
    "print('returns', returns)"
   ]
  },
  {
   "cell_type": "code",
   "execution_count": null,
   "metadata": {},
   "outputs": [],
   "source": []
  },
  {
   "cell_type": "code",
   "execution_count": null,
   "metadata": {},
   "outputs": [],
   "source": [
    "code = '''\n",
    "a = 2\n",
    "b = 3\n",
    "c = 1/0\n",
    "'''\n",
    "exec(code)"
   ]
  },
  {
   "cell_type": "code",
   "execution_count": null,
   "metadata": {},
   "outputs": [],
   "source": [
    "exec(code)"
   ]
  },
  {
   "cell_type": "code",
   "execution_count": null,
   "metadata": {},
   "outputs": [],
   "source": [
    "import traceback\n",
    "\n",
    "def test():\n",
    "    print(1/0)\n",
    "\n",
    "code = '''\n",
    "a = 2\n",
    "b = 3\n",
    "# test()\n",
    "c = 1/0\n",
    "'''\n",
    "code = compile(code, '<string>', 'exec')\n",
    "\n",
    "\n",
    "try:\n",
    "    exec(code)\n",
    "except Exception as e:\n",
    "    print(code)\n",
    "    traceback.print_exc()\n"
   ]
  },
  {
   "cell_type": "code",
   "execution_count": null,
   "metadata": {},
   "outputs": [],
   "source": [
    "exec(code)"
   ]
  },
  {
   "cell_type": "code",
   "execution_count": null,
   "metadata": {},
   "outputs": [],
   "source": [
    "%%writefile tmp.py\n",
    "def test():\n",
    "    print(1/0)\n",
    "    \n",
    "a = 2\n",
    "b = 3\n",
    "# test()\n",
    "c = e/0\n"
   ]
  },
  {
   "cell_type": "code",
   "execution_count": null,
   "metadata": {},
   "outputs": [],
   "source": []
  },
  {
   "cell_type": "code",
   "execution_count": 11,
   "metadata": {},
   "outputs": [
    {
     "name": "stdout",
     "output_type": "stream",
     "text": [
      "     \u001b[34m   1\u001b[39m \u001b[38;5;90;01mdef\u001b[39;00m \u001b[38;5;29mtest\u001b[39m():\n",
      "     \u001b[34m   2\u001b[39m     \u001b[38;5;64mprint\u001b[39m(\u001b[38;5;134m1\u001b[39m/\u001b[38;5;134m0\u001b[39m)\n",
      "     \u001b[34m   3\u001b[39m     \n",
      "     \u001b[34m   4\u001b[39m a = \u001b[38;5;134m2\u001b[39m\n",
      "     \u001b[34m   5\u001b[39m b = \u001b[38;5;134m3\u001b[39m\n",
      "     \u001b[34m   6\u001b[39m \u001b[38;5;28m# test()\u001b[39m\n",
      "\u001b[32m---->\u001b[34m   7\u001b[39m c = e/\u001b[38;5;134m0\u001b[39m\n",
      "     \u001b[34m   8\u001b[39m \n",
      "\n",
      "\u001b[31m---------------------------------------------------------------------------\u001b[39m\n",
      "Traceback (most recent call last):\n",
      "  File \u001b[38;5;167m\"\u001b[39m\u001b[38;5;167m/tmp/ipykernel_31472/2155288172.py\u001b[39m\u001b[38;5;167m\"\u001b[39m, line \u001b[38;5;134m17\u001b[39m, \u001b[38;5;90min\u001b[39m <module>\n",
      "    exec(code)\n",
      "  File \u001b[38;5;167m\"\u001b[39m\u001b[38;5;167mtmp.py\u001b[39m\u001b[38;5;167m\"\u001b[39m, line \u001b[38;5;134m7\u001b[39m, \u001b[38;5;90min\u001b[39m <module>\n",
      "    c = e/\u001b[38;5;134m0\u001b[39m\n",
      "        ^\n",
      "\u001b[38;5;29;01mNameError\u001b[39;00m: name \u001b[38;5;167m'\u001b[39m\u001b[38;5;167me\u001b[39m\u001b[38;5;167m'\u001b[39m \u001b[38;5;90mis\u001b[39m \u001b[38;5;90mnot\u001b[39m defined\n",
      "\n"
     ]
    }
   ],
   "source": [
    "import traceback\n",
    "from colorama import Fore, Back, Style\n",
    "from pygments import highlight\n",
    "from pygments.lexers import PythonLexer\n",
    "from pygments.formatters import Terminal256Formatter\n",
    "\n",
    "import re\n",
    "\n",
    "\n",
    "\n",
    "\n",
    "try:\n",
    "    filename = \"tmp.py\"\n",
    "    with open(filename, \"r\") as file:\n",
    "        source_code = file.read()\n",
    "    code = compile(source_code, filename, 'exec')\n",
    "    exec(code)\n",
    "except Exception as e:\n",
    "    style = 'perldoc'\n",
    "    exception_str = traceback.format_exc()\n",
    "    line_number = re.findall('File \"tmp.py\", line (\\d+),', exception_str)\n",
    "    line_number = int(line_number[-1])\n",
    "\n",
    "    highlighted_code = highlight(\n",
    "        source_code, \n",
    "        PythonLexer(), \n",
    "        Terminal256Formatter(style=style)\n",
    "    )\n",
    "\n",
    "    for number, line in enumerate(highlighted_code.split('\\n')):\n",
    "        number += 1\n",
    "        arrow = f'{Fore.GREEN}---->' if number == line_number else '     '\n",
    "        lineno = f'{arrow}{Fore.BLUE}{number:4d}{Fore.RESET}'\n",
    "        print(f'{lineno} {line}')\n",
    "        # number += 1\n",
    "    print()\n",
    "    print(f'{Fore.RED}{\"-\"*75}{Fore.RESET}')\n",
    "\n",
    "    highlighted_code = highlight(\n",
    "        exception_str, \n",
    "        PythonLexer(), \n",
    "        Terminal256Formatter(style=style)\n",
    "    )\n",
    "    print(highlighted_code)\n"
   ]
  },
  {
   "cell_type": "code",
   "execution_count": 7,
   "metadata": {},
   "outputs": [
    {
     "data": {
      "text/html": [
       "<pre style=\"white-space:pre;overflow-x:auto;line-height:normal;font-family:Menlo,'DejaVu Sans Mono',consolas,'Courier New',monospace\"><span style=\"color: #c1c0b8; text-decoration-color: #c1c0b8; background-color: #1d2331; font-weight: bold\">  </span><span style=\"color: #53575e; text-decoration-color: #53575e; background-color: #1d2331\">1 </span><span style=\"color: #ffad66; text-decoration-color: #ffad66; background-color: #1d2331\">def</span><span style=\"color: #d4d2c8; text-decoration-color: #d4d2c8; background-color: #1d2331\"> </span><span style=\"color: #ffd173; text-decoration-color: #ffd173; background-color: #1d2331\">test</span><span style=\"color: #d4d2c8; text-decoration-color: #d4d2c8; background-color: #1d2331\">():</span><span style=\"background-color: #1d2331\">                                                                 </span>\n",
       "<span style=\"color: #c1c0b8; text-decoration-color: #c1c0b8; background-color: #1d2331; font-weight: bold\">  </span><span style=\"color: #53575e; text-decoration-color: #53575e; background-color: #1d2331\">2 </span><span style=\"color: #d4d2c8; text-decoration-color: #d4d2c8; background-color: #1d2331\">    </span><span style=\"color: #ffd173; text-decoration-color: #ffd173; background-color: #1d2331\">print</span><span style=\"color: #d4d2c8; text-decoration-color: #d4d2c8; background-color: #1d2331\">(</span><span style=\"color: #dfbfff; text-decoration-color: #dfbfff; background-color: #1d2331\">1</span><span style=\"color: #ffad66; text-decoration-color: #ffad66; background-color: #1d2331\">/</span><span style=\"color: #dfbfff; text-decoration-color: #dfbfff; background-color: #1d2331\">0</span><span style=\"color: #d4d2c8; text-decoration-color: #d4d2c8; background-color: #1d2331\">)</span><span style=\"background-color: #1d2331\">                                                              </span>\n",
       "<span style=\"color: #c1c0b8; text-decoration-color: #c1c0b8; background-color: #1d2331; font-weight: bold\">  </span><span style=\"color: #53575e; text-decoration-color: #53575e; background-color: #1d2331\">3 </span><span style=\"color: #d4d2c8; text-decoration-color: #d4d2c8; background-color: #1d2331\">    </span><span style=\"background-color: #1d2331\">                                                                        </span>\n",
       "<span style=\"color: #c1c0b8; text-decoration-color: #c1c0b8; background-color: #1d2331; font-weight: bold\">  </span><span style=\"color: #53575e; text-decoration-color: #53575e; background-color: #1d2331\">4 </span><span style=\"color: #d4d2c8; text-decoration-color: #d4d2c8; background-color: #1d2331\">a </span><span style=\"color: #ffad66; text-decoration-color: #ffad66; background-color: #1d2331\">=</span><span style=\"color: #d4d2c8; text-decoration-color: #d4d2c8; background-color: #1d2331\"> </span><span style=\"color: #dfbfff; text-decoration-color: #dfbfff; background-color: #1d2331\">2</span><span style=\"background-color: #1d2331\">                                                                       </span>\n",
       "<span style=\"color: #c1c0b8; text-decoration-color: #c1c0b8; background-color: #1d2331; font-weight: bold\">  </span><span style=\"color: #53575e; text-decoration-color: #53575e; background-color: #1d2331\">5 </span><span style=\"color: #d4d2c8; text-decoration-color: #d4d2c8; background-color: #1d2331\">b </span><span style=\"color: #ffad66; text-decoration-color: #ffad66; background-color: #1d2331\">=</span><span style=\"color: #d4d2c8; text-decoration-color: #d4d2c8; background-color: #1d2331\"> </span><span style=\"color: #dfbfff; text-decoration-color: #dfbfff; background-color: #1d2331\">3</span><span style=\"background-color: #1d2331\">                                                                       </span>\n",
       "<span style=\"color: #c1c0b8; text-decoration-color: #c1c0b8; background-color: #1d2331; font-weight: bold\">  </span><span style=\"color: #53575e; text-decoration-color: #53575e; background-color: #1d2331\">6 </span><span style=\"color: #7e8aa1; text-decoration-color: #7e8aa1; background-color: #1d2331\"># test()</span><span style=\"background-color: #1d2331\">                                                                    </span>\n",
       "<span style=\"color: #c1c0b8; text-decoration-color: #c1c0b8; background-color: #1d2331; font-weight: bold\">  </span><span style=\"color: #53575e; text-decoration-color: #53575e; background-color: #1d2331\">7 </span><span style=\"color: #d4d2c8; text-decoration-color: #d4d2c8; background-color: #1d2331\">c </span><span style=\"color: #ffad66; text-decoration-color: #ffad66; background-color: #1d2331\">=</span><span style=\"color: #d4d2c8; text-decoration-color: #d4d2c8; background-color: #1d2331\"> e</span><span style=\"color: #ffad66; text-decoration-color: #ffad66; background-color: #1d2331\">/</span><span style=\"color: #dfbfff; text-decoration-color: #dfbfff; background-color: #1d2331\">0</span><span style=\"background-color: #1d2331\">                                                                     </span>\n",
       "<span style=\"color: #c1c0b8; text-decoration-color: #c1c0b8; background-color: #1d2331; font-weight: bold\">  </span><span style=\"color: #53575e; text-decoration-color: #53575e; background-color: #1d2331\">8 </span><span style=\"background-color: #1d2331\">                                                                            </span>\n",
       "</pre>\n"
      ],
      "text/plain": [
       "\u001b[1;38;2;193;192;184;48;2;29;35;49m  \u001b[0m\u001b[38;2;83;87;94;48;2;29;35;49m1 \u001b[0m\u001b[38;2;255;173;102;48;2;29;35;49mdef\u001b[0m\u001b[38;2;212;210;200;48;2;29;35;49m \u001b[0m\u001b[38;2;255;209;115;48;2;29;35;49mtest\u001b[0m\u001b[38;2;212;210;200;48;2;29;35;49m(\u001b[0m\u001b[38;2;212;210;200;48;2;29;35;49m)\u001b[0m\u001b[38;2;212;210;200;48;2;29;35;49m:\u001b[0m\u001b[48;2;29;35;49m                                                                 \u001b[0m\n",
       "\u001b[1;38;2;193;192;184;48;2;29;35;49m  \u001b[0m\u001b[38;2;83;87;94;48;2;29;35;49m2 \u001b[0m\u001b[38;2;212;210;200;48;2;29;35;49m    \u001b[0m\u001b[38;2;255;209;115;48;2;29;35;49mprint\u001b[0m\u001b[38;2;212;210;200;48;2;29;35;49m(\u001b[0m\u001b[38;2;223;191;255;48;2;29;35;49m1\u001b[0m\u001b[38;2;255;173;102;48;2;29;35;49m/\u001b[0m\u001b[38;2;223;191;255;48;2;29;35;49m0\u001b[0m\u001b[38;2;212;210;200;48;2;29;35;49m)\u001b[0m\u001b[48;2;29;35;49m                                                              \u001b[0m\n",
       "\u001b[1;38;2;193;192;184;48;2;29;35;49m  \u001b[0m\u001b[38;2;83;87;94;48;2;29;35;49m3 \u001b[0m\u001b[38;2;212;210;200;48;2;29;35;49m    \u001b[0m\u001b[48;2;29;35;49m                                                                        \u001b[0m\n",
       "\u001b[1;38;2;193;192;184;48;2;29;35;49m  \u001b[0m\u001b[38;2;83;87;94;48;2;29;35;49m4 \u001b[0m\u001b[38;2;212;210;200;48;2;29;35;49ma\u001b[0m\u001b[38;2;212;210;200;48;2;29;35;49m \u001b[0m\u001b[38;2;255;173;102;48;2;29;35;49m=\u001b[0m\u001b[38;2;212;210;200;48;2;29;35;49m \u001b[0m\u001b[38;2;223;191;255;48;2;29;35;49m2\u001b[0m\u001b[48;2;29;35;49m                                                                       \u001b[0m\n",
       "\u001b[1;38;2;193;192;184;48;2;29;35;49m  \u001b[0m\u001b[38;2;83;87;94;48;2;29;35;49m5 \u001b[0m\u001b[38;2;212;210;200;48;2;29;35;49mb\u001b[0m\u001b[38;2;212;210;200;48;2;29;35;49m \u001b[0m\u001b[38;2;255;173;102;48;2;29;35;49m=\u001b[0m\u001b[38;2;212;210;200;48;2;29;35;49m \u001b[0m\u001b[38;2;223;191;255;48;2;29;35;49m3\u001b[0m\u001b[48;2;29;35;49m                                                                       \u001b[0m\n",
       "\u001b[1;38;2;193;192;184;48;2;29;35;49m  \u001b[0m\u001b[38;2;83;87;94;48;2;29;35;49m6 \u001b[0m\u001b[38;2;126;138;161;48;2;29;35;49m# test()\u001b[0m\u001b[48;2;29;35;49m                                                                    \u001b[0m\n",
       "\u001b[1;38;2;193;192;184;48;2;29;35;49m  \u001b[0m\u001b[38;2;83;87;94;48;2;29;35;49m7 \u001b[0m\u001b[38;2;212;210;200;48;2;29;35;49mc\u001b[0m\u001b[38;2;212;210;200;48;2;29;35;49m \u001b[0m\u001b[38;2;255;173;102;48;2;29;35;49m=\u001b[0m\u001b[38;2;212;210;200;48;2;29;35;49m \u001b[0m\u001b[38;2;212;210;200;48;2;29;35;49me\u001b[0m\u001b[38;2;255;173;102;48;2;29;35;49m/\u001b[0m\u001b[38;2;223;191;255;48;2;29;35;49m0\u001b[0m\u001b[48;2;29;35;49m                                                                     \u001b[0m\n",
       "\u001b[1;38;2;193;192;184;48;2;29;35;49m  \u001b[0m\u001b[38;2;83;87;94;48;2;29;35;49m8 \u001b[0m\u001b[48;2;29;35;49m                                                                            \u001b[0m\n"
      ]
     },
     "metadata": {},
     "output_type": "display_data"
    },
    {
     "data": {
      "text/html": [
       "<pre style=\"white-space:pre;overflow-x:auto;line-height:normal;font-family:Menlo,'DejaVu Sans Mono',consolas,'Courier New',monospace\"><span style=\"color: #800000; text-decoration-color: #800000; background-color: #1d2331\">╭───────────────────── </span><span style=\"color: #800000; text-decoration-color: #800000; background-color: #1d2331; font-weight: bold\">Traceback </span><span style=\"color: #bf7f7f; text-decoration-color: #bf7f7f; background-color: #1d2331; font-weight: bold\">(most recent call last)</span><span style=\"color: #800000; text-decoration-color: #800000; background-color: #1d2331\"> ──────────────────────╮</span>\n",
       "<span style=\"color: #800000; text-decoration-color: #800000; background-color: #1d2331\">│</span><span style=\"background-color: #1d2331\"> </span><span style=\"color: #d4d2c8; text-decoration-color: #d4d2c8; background-color: #1d2331\">in </span><span style=\"color: #ffd173; text-decoration-color: #ffd173; background-color: #1d2331\">&lt;module&gt;</span><span style=\"color: #d4d2c8; text-decoration-color: #d4d2c8; background-color: #1d2331\">:</span><span style=\"color: #dfbfff; text-decoration-color: #dfbfff; background-color: #1d2331\">11</span><span style=\"background-color: #1d2331\">                                                               </span><span style=\"color: #800000; text-decoration-color: #800000; background-color: #1d2331\">│</span>\n",
       "<span style=\"color: #800000; text-decoration-color: #800000; background-color: #1d2331\">│</span><span style=\"background-color: #1d2331\">                                                                              </span><span style=\"color: #800000; text-decoration-color: #800000; background-color: #1d2331\">│</span>\n",
       "<span style=\"color: #800000; text-decoration-color: #800000; background-color: #1d2331\">│</span><span style=\"background-color: #1d2331\"> </span><span style=\"color: #c1c0b8; text-decoration-color: #c1c0b8; background-color: #1d2331; font-weight: bold\">  </span><span style=\"color: #53575e; text-decoration-color: #53575e; background-color: #1d2331\"> 8 </span><span style=\"color: #bec4d0; text-decoration-color: #bec4d0; background-color: #1d2331\">│   </span><span style=\"color: #ffad66; text-decoration-color: #ffad66; background-color: #1d2331\">with</span><span style=\"color: #d4d2c8; text-decoration-color: #d4d2c8; background-color: #1d2331\"> </span><span style=\"color: #ffd173; text-decoration-color: #ffd173; background-color: #1d2331\">open</span><span style=\"color: #d4d2c8; text-decoration-color: #d4d2c8; background-color: #1d2331\">(filename, </span><span style=\"color: #d5ff80; text-decoration-color: #d5ff80; background-color: #1d2331\">\"r\"</span><span style=\"color: #d4d2c8; text-decoration-color: #d4d2c8; background-color: #1d2331\">) </span><span style=\"color: #ffad66; text-decoration-color: #ffad66; background-color: #1d2331\">as</span><span style=\"color: #d4d2c8; text-decoration-color: #d4d2c8; background-color: #1d2331\"> file:</span><span style=\"background-color: #1d2331\">                                   </span><span style=\"color: #800000; text-decoration-color: #800000; background-color: #1d2331\">│</span>\n",
       "<span style=\"color: #800000; text-decoration-color: #800000; background-color: #1d2331\">│</span><span style=\"background-color: #1d2331\"> </span><span style=\"color: #c1c0b8; text-decoration-color: #c1c0b8; background-color: #1d2331; font-weight: bold\">  </span><span style=\"color: #53575e; text-decoration-color: #53575e; background-color: #1d2331\"> 9 </span><span style=\"color: #bec4d0; text-decoration-color: #bec4d0; background-color: #1d2331\">│   │   </span><span style=\"color: #d4d2c8; text-decoration-color: #d4d2c8; background-color: #1d2331\">source_code </span><span style=\"color: #ffad66; text-decoration-color: #ffad66; background-color: #1d2331\">=</span><span style=\"color: #d4d2c8; text-decoration-color: #d4d2c8; background-color: #1d2331\"> file</span><span style=\"color: #ffad66; text-decoration-color: #ffad66; background-color: #1d2331\">.</span><span style=\"color: #d4d2c8; text-decoration-color: #d4d2c8; background-color: #1d2331\">read()</span><span style=\"background-color: #1d2331\">                                       </span><span style=\"color: #800000; text-decoration-color: #800000; background-color: #1d2331\">│</span>\n",
       "<span style=\"color: #800000; text-decoration-color: #800000; background-color: #1d2331\">│</span><span style=\"background-color: #1d2331\"> </span><span style=\"color: #c1c0b8; text-decoration-color: #c1c0b8; background-color: #1d2331; font-weight: bold\">  </span><span style=\"color: #53575e; text-decoration-color: #53575e; background-color: #1d2331\">10 </span><span style=\"color: #bec4d0; text-decoration-color: #bec4d0; background-color: #1d2331\">│   </span><span style=\"color: #d4d2c8; text-decoration-color: #d4d2c8; background-color: #1d2331\">code </span><span style=\"color: #ffad66; text-decoration-color: #ffad66; background-color: #1d2331\">=</span><span style=\"color: #d4d2c8; text-decoration-color: #d4d2c8; background-color: #1d2331\"> </span><span style=\"color: #ffd173; text-decoration-color: #ffd173; background-color: #1d2331\">compile</span><span style=\"color: #d4d2c8; text-decoration-color: #d4d2c8; background-color: #1d2331\">(source_code, filename, </span><span style=\"color: #d5ff80; text-decoration-color: #d5ff80; background-color: #1d2331\">'exec'</span><span style=\"color: #d4d2c8; text-decoration-color: #d4d2c8; background-color: #1d2331\">)</span><span style=\"background-color: #1d2331\">                       </span><span style=\"color: #800000; text-decoration-color: #800000; background-color: #1d2331\">│</span>\n",
       "<span style=\"color: #800000; text-decoration-color: #800000; background-color: #1d2331\">│</span><span style=\"background-color: #1d2331\"> </span><span style=\"color: #800000; text-decoration-color: #800000; background-color: #1d2331\">❱ </span><span style=\"color: #c1c0b8; text-decoration-color: #c1c0b8; background-color: #1d2331; font-weight: bold\">11 </span><span style=\"color: #bec4d0; text-decoration-color: #bec4d0; background-color: #1d2331\">│   </span><span style=\"color: #d4d2c8; text-decoration-color: #d4d2c8; background-color: #1d2331\">exec(code)</span><span style=\"background-color: #1d2331\">                                                          </span><span style=\"color: #800000; text-decoration-color: #800000; background-color: #1d2331\">│</span>\n",
       "<span style=\"color: #800000; text-decoration-color: #800000; background-color: #1d2331\">│</span><span style=\"background-color: #1d2331\"> </span><span style=\"color: #c1c0b8; text-decoration-color: #c1c0b8; background-color: #1d2331; font-weight: bold\">  </span><span style=\"color: #53575e; text-decoration-color: #53575e; background-color: #1d2331\">12 </span><span style=\"color: #ffad66; text-decoration-color: #ffad66; background-color: #1d2331\">except</span><span style=\"color: #d4d2c8; text-decoration-color: #d4d2c8; background-color: #1d2331\"> </span><span style=\"color: #73d0ff; text-decoration-color: #73d0ff; background-color: #1d2331\">Exception</span><span style=\"color: #d4d2c8; text-decoration-color: #d4d2c8; background-color: #1d2331\"> </span><span style=\"color: #ffad66; text-decoration-color: #ffad66; background-color: #1d2331\">as</span><span style=\"color: #d4d2c8; text-decoration-color: #d4d2c8; background-color: #1d2331\"> e:</span><span style=\"background-color: #1d2331\">                                                  </span><span style=\"color: #800000; text-decoration-color: #800000; background-color: #1d2331\">│</span>\n",
       "<span style=\"color: #800000; text-decoration-color: #800000; background-color: #1d2331\">│</span><span style=\"background-color: #1d2331\"> </span><span style=\"color: #c1c0b8; text-decoration-color: #c1c0b8; background-color: #1d2331; font-weight: bold\">  </span><span style=\"color: #53575e; text-decoration-color: #53575e; background-color: #1d2331\">13 </span><span style=\"color: #bec4d0; text-decoration-color: #bec4d0; background-color: #1d2331\">│   </span><span style=\"color: #7e8aa1; text-decoration-color: #7e8aa1; background-color: #1d2331\">#LINK - for more style, please read https://pygments.org/styles/</span><span style=\"background-color: #1d2331\">    </span><span style=\"color: #800000; text-decoration-color: #800000; background-color: #1d2331\">│</span>\n",
       "<span style=\"color: #800000; text-decoration-color: #800000; background-color: #1d2331\">│</span><span style=\"background-color: #1d2331\"> </span><span style=\"color: #c1c0b8; text-decoration-color: #c1c0b8; background-color: #1d2331; font-weight: bold\">  </span><span style=\"color: #53575e; text-decoration-color: #53575e; background-color: #1d2331\">14 </span><span style=\"color: #bec4d0; text-decoration-color: #bec4d0; background-color: #1d2331\">│   </span><span style=\"color: #d4d2c8; text-decoration-color: #d4d2c8; background-color: #1d2331\">theme </span><span style=\"color: #ffad66; text-decoration-color: #ffad66; background-color: #1d2331\">=</span><span style=\"color: #d4d2c8; text-decoration-color: #d4d2c8; background-color: #1d2331\"> </span><span style=\"color: #d5ff80; text-decoration-color: #d5ff80; background-color: #1d2331\">'lightbulb'</span><span style=\"background-color: #1d2331\">                                                 </span><span style=\"color: #800000; text-decoration-color: #800000; background-color: #1d2331\">│</span>\n",
       "<span style=\"color: #800000; text-decoration-color: #800000; background-color: #1d2331\">│</span><span style=\"background-color: #1d2331\">                                                                              </span><span style=\"color: #800000; text-decoration-color: #800000; background-color: #1d2331\">│</span>\n",
       "<span style=\"color: #800000; text-decoration-color: #800000; background-color: #1d2331\">│</span><span style=\"background-color: #1d2331\"> </span><span style=\"color: #eaffbf; text-decoration-color: #eaffbf; background-color: #1d2331\">/mnt/d/Python/minifympi/tests/</span><span style=\"color: #d5ff80; text-decoration-color: #d5ff80; background-color: #1d2331; font-weight: bold\">tmp.py</span><span style=\"color: #d4d2c8; text-decoration-color: #d4d2c8; background-color: #1d2331\">:</span><span style=\"color: #dfbfff; text-decoration-color: #dfbfff; background-color: #1d2331\">7</span><span style=\"color: #d4d2c8; text-decoration-color: #d4d2c8; background-color: #1d2331\"> in </span><span style=\"color: #ffd173; text-decoration-color: #ffd173; background-color: #1d2331\">&lt;module&gt;</span><span style=\"background-color: #1d2331\">                           </span><span style=\"color: #800000; text-decoration-color: #800000; background-color: #1d2331\">│</span>\n",
       "<span style=\"color: #800000; text-decoration-color: #800000; background-color: #1d2331\">│</span><span style=\"background-color: #1d2331\">                                                                              </span><span style=\"color: #800000; text-decoration-color: #800000; background-color: #1d2331\">│</span>\n",
       "<span style=\"color: #800000; text-decoration-color: #800000; background-color: #1d2331\">│</span><span style=\"background-color: #1d2331\"> </span><span style=\"color: #c1c0b8; text-decoration-color: #c1c0b8; background-color: #1d2331; font-weight: bold\">  </span><span style=\"color: #53575e; text-decoration-color: #53575e; background-color: #1d2331\">4 </span><span style=\"color: #d4d2c8; text-decoration-color: #d4d2c8; background-color: #1d2331\">a </span><span style=\"color: #ffad66; text-decoration-color: #ffad66; background-color: #1d2331\">=</span><span style=\"color: #d4d2c8; text-decoration-color: #d4d2c8; background-color: #1d2331\"> </span><span style=\"color: #dfbfff; text-decoration-color: #dfbfff; background-color: #1d2331\">2</span><span style=\"background-color: #1d2331\">                                                                    </span><span style=\"color: #800000; text-decoration-color: #800000; background-color: #1d2331\">│</span>\n",
       "<span style=\"color: #800000; text-decoration-color: #800000; background-color: #1d2331\">│</span><span style=\"background-color: #1d2331\"> </span><span style=\"color: #c1c0b8; text-decoration-color: #c1c0b8; background-color: #1d2331; font-weight: bold\">  </span><span style=\"color: #53575e; text-decoration-color: #53575e; background-color: #1d2331\">5 </span><span style=\"color: #d4d2c8; text-decoration-color: #d4d2c8; background-color: #1d2331\">b </span><span style=\"color: #ffad66; text-decoration-color: #ffad66; background-color: #1d2331\">=</span><span style=\"color: #d4d2c8; text-decoration-color: #d4d2c8; background-color: #1d2331\"> </span><span style=\"color: #dfbfff; text-decoration-color: #dfbfff; background-color: #1d2331\">3</span><span style=\"background-color: #1d2331\">                                                                    </span><span style=\"color: #800000; text-decoration-color: #800000; background-color: #1d2331\">│</span>\n",
       "<span style=\"color: #800000; text-decoration-color: #800000; background-color: #1d2331\">│</span><span style=\"background-color: #1d2331\"> </span><span style=\"color: #c1c0b8; text-decoration-color: #c1c0b8; background-color: #1d2331; font-weight: bold\">  </span><span style=\"color: #53575e; text-decoration-color: #53575e; background-color: #1d2331\">6 </span><span style=\"color: #7e8aa1; text-decoration-color: #7e8aa1; background-color: #1d2331\"># test()</span><span style=\"background-color: #1d2331\">                                                                 </span><span style=\"color: #800000; text-decoration-color: #800000; background-color: #1d2331\">│</span>\n",
       "<span style=\"color: #800000; text-decoration-color: #800000; background-color: #1d2331\">│</span><span style=\"background-color: #1d2331\"> </span><span style=\"color: #800000; text-decoration-color: #800000; background-color: #1d2331\">❱ </span><span style=\"color: #c1c0b8; text-decoration-color: #c1c0b8; background-color: #1d2331; font-weight: bold\">7 </span><span style=\"color: #d4d2c8; text-decoration-color: #d4d2c8; background-color: #1d2331\">c </span><span style=\"color: #ffad66; text-decoration-color: #ffad66; background-color: #1d2331\">=</span><span style=\"color: #d4d2c8; text-decoration-color: #d4d2c8; background-color: #1d2331\"> e</span><span style=\"color: #ffad66; text-decoration-color: #ffad66; background-color: #1d2331\">/</span><span style=\"color: #dfbfff; text-decoration-color: #dfbfff; background-color: #1d2331\">0</span><span style=\"background-color: #1d2331\">                                                                  </span><span style=\"color: #800000; text-decoration-color: #800000; background-color: #1d2331\">│</span>\n",
       "<span style=\"color: #800000; text-decoration-color: #800000; background-color: #1d2331\">│</span><span style=\"background-color: #1d2331\"> </span><span style=\"color: #c1c0b8; text-decoration-color: #c1c0b8; background-color: #1d2331; font-weight: bold\">  </span><span style=\"color: #53575e; text-decoration-color: #53575e; background-color: #1d2331\">8 </span><span style=\"background-color: #1d2331\">                                                                         </span><span style=\"color: #800000; text-decoration-color: #800000; background-color: #1d2331\">│</span>\n",
       "<span style=\"color: #800000; text-decoration-color: #800000; background-color: #1d2331\">╰──────────────────────────────────────────────────────────────────────────────╯</span>\n",
       "<span style=\"color: #ff0000; text-decoration-color: #ff0000; font-weight: bold\">NameError: </span>name <span style=\"color: #008000; text-decoration-color: #008000\">'e'</span> is not defined\n",
       "</pre>\n"
      ],
      "text/plain": [
       "\u001b[31;48;2;29;35;49m╭─\u001b[0m\u001b[31;48;2;29;35;49m────────────────────\u001b[0m\u001b[31;48;2;29;35;49m \u001b[0m\u001b[1;31;48;2;29;35;49mTraceback \u001b[0m\u001b[1;2;31;48;2;29;35;49m(most recent call last)\u001b[0m\u001b[31;48;2;29;35;49m \u001b[0m\u001b[31;48;2;29;35;49m─────────────────────\u001b[0m\u001b[31;48;2;29;35;49m─╮\u001b[0m\n",
       "\u001b[31;48;2;29;35;49m│\u001b[0m\u001b[48;2;29;35;49m \u001b[0m\u001b[38;2;212;210;200;48;2;29;35;49min \u001b[0m\u001b[38;2;255;209;115;48;2;29;35;49m<module>\u001b[0m\u001b[38;2;212;210;200;48;2;29;35;49m:\u001b[0m\u001b[38;2;223;191;255;48;2;29;35;49m11\u001b[0m\u001b[48;2;29;35;49m                                                              \u001b[0m\u001b[48;2;29;35;49m \u001b[0m\u001b[31;48;2;29;35;49m│\u001b[0m\n",
       "\u001b[31;48;2;29;35;49m│\u001b[0m\u001b[48;2;29;35;49m \u001b[0m\u001b[48;2;29;35;49m                                                                            \u001b[0m\u001b[48;2;29;35;49m \u001b[0m\u001b[31;48;2;29;35;49m│\u001b[0m\n",
       "\u001b[31;48;2;29;35;49m│\u001b[0m\u001b[48;2;29;35;49m \u001b[0m\u001b[1;38;2;193;192;184;48;2;29;35;49m  \u001b[0m\u001b[38;2;83;87;94;48;2;29;35;49m 8 \u001b[0m\u001b[2;38;2;126;138;161;48;2;29;35;49m│   \u001b[0m\u001b[38;2;255;173;102;48;2;29;35;49mwith\u001b[0m\u001b[38;2;212;210;200;48;2;29;35;49m \u001b[0m\u001b[38;2;255;209;115;48;2;29;35;49mopen\u001b[0m\u001b[38;2;212;210;200;48;2;29;35;49m(\u001b[0m\u001b[38;2;212;210;200;48;2;29;35;49mfilename\u001b[0m\u001b[38;2;212;210;200;48;2;29;35;49m,\u001b[0m\u001b[38;2;212;210;200;48;2;29;35;49m \u001b[0m\u001b[38;2;213;255;128;48;2;29;35;49m\"\u001b[0m\u001b[38;2;213;255;128;48;2;29;35;49mr\u001b[0m\u001b[38;2;213;255;128;48;2;29;35;49m\"\u001b[0m\u001b[38;2;212;210;200;48;2;29;35;49m)\u001b[0m\u001b[38;2;212;210;200;48;2;29;35;49m \u001b[0m\u001b[38;2;255;173;102;48;2;29;35;49mas\u001b[0m\u001b[38;2;212;210;200;48;2;29;35;49m \u001b[0m\u001b[38;2;212;210;200;48;2;29;35;49mfile\u001b[0m\u001b[38;2;212;210;200;48;2;29;35;49m:\u001b[0m\u001b[48;2;29;35;49m                                  \u001b[0m\u001b[48;2;29;35;49m \u001b[0m\u001b[31;48;2;29;35;49m│\u001b[0m\n",
       "\u001b[31;48;2;29;35;49m│\u001b[0m\u001b[48;2;29;35;49m \u001b[0m\u001b[1;38;2;193;192;184;48;2;29;35;49m  \u001b[0m\u001b[38;2;83;87;94;48;2;29;35;49m 9 \u001b[0m\u001b[2;38;2;126;138;161;48;2;29;35;49m│   │   \u001b[0m\u001b[38;2;212;210;200;48;2;29;35;49msource_code\u001b[0m\u001b[38;2;212;210;200;48;2;29;35;49m \u001b[0m\u001b[38;2;255;173;102;48;2;29;35;49m=\u001b[0m\u001b[38;2;212;210;200;48;2;29;35;49m \u001b[0m\u001b[38;2;212;210;200;48;2;29;35;49mfile\u001b[0m\u001b[38;2;255;173;102;48;2;29;35;49m.\u001b[0m\u001b[38;2;212;210;200;48;2;29;35;49mread\u001b[0m\u001b[38;2;212;210;200;48;2;29;35;49m(\u001b[0m\u001b[38;2;212;210;200;48;2;29;35;49m)\u001b[0m\u001b[48;2;29;35;49m                                      \u001b[0m\u001b[48;2;29;35;49m \u001b[0m\u001b[31;48;2;29;35;49m│\u001b[0m\n",
       "\u001b[31;48;2;29;35;49m│\u001b[0m\u001b[48;2;29;35;49m \u001b[0m\u001b[1;38;2;193;192;184;48;2;29;35;49m  \u001b[0m\u001b[38;2;83;87;94;48;2;29;35;49m10 \u001b[0m\u001b[2;38;2;126;138;161;48;2;29;35;49m│   \u001b[0m\u001b[38;2;212;210;200;48;2;29;35;49mcode\u001b[0m\u001b[38;2;212;210;200;48;2;29;35;49m \u001b[0m\u001b[38;2;255;173;102;48;2;29;35;49m=\u001b[0m\u001b[38;2;212;210;200;48;2;29;35;49m \u001b[0m\u001b[38;2;255;209;115;48;2;29;35;49mcompile\u001b[0m\u001b[38;2;212;210;200;48;2;29;35;49m(\u001b[0m\u001b[38;2;212;210;200;48;2;29;35;49msource_code\u001b[0m\u001b[38;2;212;210;200;48;2;29;35;49m,\u001b[0m\u001b[38;2;212;210;200;48;2;29;35;49m \u001b[0m\u001b[38;2;212;210;200;48;2;29;35;49mfilename\u001b[0m\u001b[38;2;212;210;200;48;2;29;35;49m,\u001b[0m\u001b[38;2;212;210;200;48;2;29;35;49m \u001b[0m\u001b[38;2;213;255;128;48;2;29;35;49m'\u001b[0m\u001b[38;2;213;255;128;48;2;29;35;49mexec\u001b[0m\u001b[38;2;213;255;128;48;2;29;35;49m'\u001b[0m\u001b[38;2;212;210;200;48;2;29;35;49m)\u001b[0m\u001b[48;2;29;35;49m                      \u001b[0m\u001b[48;2;29;35;49m \u001b[0m\u001b[31;48;2;29;35;49m│\u001b[0m\n",
       "\u001b[31;48;2;29;35;49m│\u001b[0m\u001b[48;2;29;35;49m \u001b[0m\u001b[31;48;2;29;35;49m❱ \u001b[0m\u001b[1;38;2;193;192;184;48;2;29;35;49m11 \u001b[0m\u001b[2;38;2;126;138;161;48;2;29;35;49m│   \u001b[0m\u001b[38;2;212;210;200;48;2;29;35;49mexec\u001b[0m\u001b[38;2;212;210;200;48;2;29;35;49m(\u001b[0m\u001b[38;2;212;210;200;48;2;29;35;49mcode\u001b[0m\u001b[38;2;212;210;200;48;2;29;35;49m)\u001b[0m\u001b[48;2;29;35;49m                                                         \u001b[0m\u001b[48;2;29;35;49m \u001b[0m\u001b[31;48;2;29;35;49m│\u001b[0m\n",
       "\u001b[31;48;2;29;35;49m│\u001b[0m\u001b[48;2;29;35;49m \u001b[0m\u001b[1;38;2;193;192;184;48;2;29;35;49m  \u001b[0m\u001b[38;2;83;87;94;48;2;29;35;49m12 \u001b[0m\u001b[38;2;255;173;102;48;2;29;35;49mexcept\u001b[0m\u001b[38;2;212;210;200;48;2;29;35;49m \u001b[0m\u001b[38;2;115;208;255;48;2;29;35;49mException\u001b[0m\u001b[38;2;212;210;200;48;2;29;35;49m \u001b[0m\u001b[38;2;255;173;102;48;2;29;35;49mas\u001b[0m\u001b[38;2;212;210;200;48;2;29;35;49m \u001b[0m\u001b[38;2;212;210;200;48;2;29;35;49me\u001b[0m\u001b[38;2;212;210;200;48;2;29;35;49m:\u001b[0m\u001b[48;2;29;35;49m                                                 \u001b[0m\u001b[48;2;29;35;49m \u001b[0m\u001b[31;48;2;29;35;49m│\u001b[0m\n",
       "\u001b[31;48;2;29;35;49m│\u001b[0m\u001b[48;2;29;35;49m \u001b[0m\u001b[1;38;2;193;192;184;48;2;29;35;49m  \u001b[0m\u001b[38;2;83;87;94;48;2;29;35;49m13 \u001b[0m\u001b[2;38;2;126;138;161;48;2;29;35;49m│   \u001b[0m\u001b[38;2;126;138;161;48;2;29;35;49m#LINK - for more style, please read https://pygments.org/styles/\u001b[0m\u001b[48;2;29;35;49m   \u001b[0m\u001b[48;2;29;35;49m \u001b[0m\u001b[31;48;2;29;35;49m│\u001b[0m\n",
       "\u001b[31;48;2;29;35;49m│\u001b[0m\u001b[48;2;29;35;49m \u001b[0m\u001b[1;38;2;193;192;184;48;2;29;35;49m  \u001b[0m\u001b[38;2;83;87;94;48;2;29;35;49m14 \u001b[0m\u001b[2;38;2;126;138;161;48;2;29;35;49m│   \u001b[0m\u001b[38;2;212;210;200;48;2;29;35;49mtheme\u001b[0m\u001b[38;2;212;210;200;48;2;29;35;49m \u001b[0m\u001b[38;2;255;173;102;48;2;29;35;49m=\u001b[0m\u001b[38;2;212;210;200;48;2;29;35;49m \u001b[0m\u001b[38;2;213;255;128;48;2;29;35;49m'\u001b[0m\u001b[38;2;213;255;128;48;2;29;35;49mlightbulb\u001b[0m\u001b[38;2;213;255;128;48;2;29;35;49m'\u001b[0m\u001b[48;2;29;35;49m                                                \u001b[0m\u001b[48;2;29;35;49m \u001b[0m\u001b[31;48;2;29;35;49m│\u001b[0m\n",
       "\u001b[31;48;2;29;35;49m│\u001b[0m\u001b[48;2;29;35;49m \u001b[0m\u001b[48;2;29;35;49m                                                                            \u001b[0m\u001b[48;2;29;35;49m \u001b[0m\u001b[31;48;2;29;35;49m│\u001b[0m\n",
       "\u001b[31;48;2;29;35;49m│\u001b[0m\u001b[48;2;29;35;49m \u001b[0m\u001b[2;38;2;213;255;128;48;2;29;35;49m/mnt/d/Python/minifympi/tests/\u001b[0m\u001b[1;38;2;213;255;128;48;2;29;35;49mtmp.py\u001b[0m\u001b[38;2;212;210;200;48;2;29;35;49m:\u001b[0m\u001b[38;2;223;191;255;48;2;29;35;49m7\u001b[0m\u001b[38;2;212;210;200;48;2;29;35;49m in \u001b[0m\u001b[38;2;255;209;115;48;2;29;35;49m<module>\u001b[0m\u001b[48;2;29;35;49m                          \u001b[0m\u001b[48;2;29;35;49m \u001b[0m\u001b[31;48;2;29;35;49m│\u001b[0m\n",
       "\u001b[31;48;2;29;35;49m│\u001b[0m\u001b[48;2;29;35;49m \u001b[0m\u001b[48;2;29;35;49m                                                                            \u001b[0m\u001b[48;2;29;35;49m \u001b[0m\u001b[31;48;2;29;35;49m│\u001b[0m\n",
       "\u001b[31;48;2;29;35;49m│\u001b[0m\u001b[48;2;29;35;49m \u001b[0m\u001b[1;38;2;193;192;184;48;2;29;35;49m  \u001b[0m\u001b[38;2;83;87;94;48;2;29;35;49m4 \u001b[0m\u001b[38;2;212;210;200;48;2;29;35;49ma\u001b[0m\u001b[38;2;212;210;200;48;2;29;35;49m \u001b[0m\u001b[38;2;255;173;102;48;2;29;35;49m=\u001b[0m\u001b[38;2;212;210;200;48;2;29;35;49m \u001b[0m\u001b[38;2;223;191;255;48;2;29;35;49m2\u001b[0m\u001b[48;2;29;35;49m                                                                   \u001b[0m\u001b[48;2;29;35;49m \u001b[0m\u001b[31;48;2;29;35;49m│\u001b[0m\n",
       "\u001b[31;48;2;29;35;49m│\u001b[0m\u001b[48;2;29;35;49m \u001b[0m\u001b[1;38;2;193;192;184;48;2;29;35;49m  \u001b[0m\u001b[38;2;83;87;94;48;2;29;35;49m5 \u001b[0m\u001b[38;2;212;210;200;48;2;29;35;49mb\u001b[0m\u001b[38;2;212;210;200;48;2;29;35;49m \u001b[0m\u001b[38;2;255;173;102;48;2;29;35;49m=\u001b[0m\u001b[38;2;212;210;200;48;2;29;35;49m \u001b[0m\u001b[38;2;223;191;255;48;2;29;35;49m3\u001b[0m\u001b[48;2;29;35;49m                                                                   \u001b[0m\u001b[48;2;29;35;49m \u001b[0m\u001b[31;48;2;29;35;49m│\u001b[0m\n",
       "\u001b[31;48;2;29;35;49m│\u001b[0m\u001b[48;2;29;35;49m \u001b[0m\u001b[1;38;2;193;192;184;48;2;29;35;49m  \u001b[0m\u001b[38;2;83;87;94;48;2;29;35;49m6 \u001b[0m\u001b[38;2;126;138;161;48;2;29;35;49m# test()\u001b[0m\u001b[48;2;29;35;49m                                                                \u001b[0m\u001b[48;2;29;35;49m \u001b[0m\u001b[31;48;2;29;35;49m│\u001b[0m\n",
       "\u001b[31;48;2;29;35;49m│\u001b[0m\u001b[48;2;29;35;49m \u001b[0m\u001b[31;48;2;29;35;49m❱ \u001b[0m\u001b[1;38;2;193;192;184;48;2;29;35;49m7 \u001b[0m\u001b[38;2;212;210;200;48;2;29;35;49mc\u001b[0m\u001b[38;2;212;210;200;48;2;29;35;49m \u001b[0m\u001b[38;2;255;173;102;48;2;29;35;49m=\u001b[0m\u001b[38;2;212;210;200;48;2;29;35;49m \u001b[0m\u001b[38;2;212;210;200;48;2;29;35;49me\u001b[0m\u001b[38;2;255;173;102;48;2;29;35;49m/\u001b[0m\u001b[38;2;223;191;255;48;2;29;35;49m0\u001b[0m\u001b[48;2;29;35;49m                                                                 \u001b[0m\u001b[48;2;29;35;49m \u001b[0m\u001b[31;48;2;29;35;49m│\u001b[0m\n",
       "\u001b[31;48;2;29;35;49m│\u001b[0m\u001b[48;2;29;35;49m \u001b[0m\u001b[1;38;2;193;192;184;48;2;29;35;49m  \u001b[0m\u001b[38;2;83;87;94;48;2;29;35;49m8 \u001b[0m\u001b[48;2;29;35;49m                                                                        \u001b[0m\u001b[48;2;29;35;49m \u001b[0m\u001b[31;48;2;29;35;49m│\u001b[0m\n",
       "\u001b[31;48;2;29;35;49m╰──────────────────────────────────────────────────────────────────────────────╯\u001b[0m\n",
       "\u001b[1;91mNameError: \u001b[0mname \u001b[32m'e'\u001b[0m is not defined\n"
      ]
     },
     "metadata": {},
     "output_type": "display_data"
    }
   ],
   "source": [
    "from rich.syntax import Syntax\n",
    "from rich.console import Console\n",
    "from rich.theme import Theme\n",
    "\n",
    "\n",
    "try:\n",
    "    filename = \"tmp.py\"\n",
    "    with open(filename, \"r\") as file:\n",
    "        source_code = file.read()\n",
    "    code = compile(source_code, filename, 'exec')\n",
    "    exec(code)\n",
    "except Exception as e:\n",
    "    #LINK - for more style, please read https://pygments.org/styles/\n",
    "    theme = 'lightbulb'\n",
    "    width = 80\n",
    "    console = Console()\n",
    "    syntax = Syntax(source_code, \"python\", theme=theme, line_numbers=True)\n",
    "    console.print(syntax, width=width)\n",
    "    console.print_exception(theme=theme, width=width)\n",
    "    # s = console.format_exception(e)\n",
    "    # print(e)\n"
   ]
  },
  {
   "cell_type": "code",
   "execution_count": 6,
   "metadata": {},
   "outputs": [
    {
     "data": {
      "text/plain": [
       "<console width=115 ColorSystem.TRUECOLOR>"
      ]
     },
     "execution_count": 6,
     "metadata": {},
     "output_type": "execute_result"
    }
   ],
   "source": [
    "console"
   ]
  },
  {
   "cell_type": "code",
   "execution_count": null,
   "metadata": {},
   "outputs": [],
   "source": []
  },
  {
   "cell_type": "code",
   "execution_count": null,
   "metadata": {},
   "outputs": [],
   "source": []
  },
  {
   "cell_type": "code",
   "execution_count": 1,
   "metadata": {},
   "outputs": [],
   "source": [
    "import os"
   ]
  },
  {
   "cell_type": "code",
   "execution_count": 3,
   "metadata": {},
   "outputs": [
    {
     "data": {
      "text/plain": [
       "'/mnt/d'"
      ]
     },
     "execution_count": 3,
     "metadata": {},
     "output_type": "execute_result"
    }
   ],
   "source": [
    "os.path.dirname('/mnt/d/test.py')"
   ]
  },
  {
   "cell_type": "code",
   "execution_count": null,
   "metadata": {},
   "outputs": [],
   "source": []
  },
  {
   "cell_type": "code",
   "execution_count": null,
   "metadata": {},
   "outputs": [],
   "source": [
    "exec(code)"
   ]
  },
  {
   "cell_type": "code",
   "execution_count": 8,
   "metadata": {},
   "outputs": [
    {
     "data": {
      "text/html": [
       "<pre style=\"white-space:pre;overflow-x:auto;line-height:normal;font-family:Menlo,'DejaVu Sans Mono',consolas,'Courier New',monospace\">Traceback <span style=\"font-weight: bold\">(</span>most recent call last<span style=\"font-weight: bold\">)</span>:\n",
       "  File <span style=\"color: #008000; text-decoration-color: #008000\">\"/tmp/ipykernel_471/948580055.py\"</span>, line <span style=\"color: #008080; text-decoration-color: #008080; font-weight: bold\">10</span>, in <span style=\"font-weight: bold\">&lt;</span><span style=\"color: #ff00ff; text-decoration-color: #ff00ff; font-weight: bold\">module</span><span style=\"font-weight: bold\">&gt;</span>\n",
       "    c = <span style=\"color: #008080; text-decoration-color: #008080; font-weight: bold\">1</span> <span style=\"color: #800080; text-decoration-color: #800080\">/</span> <span style=\"color: #008080; text-decoration-color: #008080; font-weight: bold\">0</span>\n",
       "        ~~^~~\n",
       "ZeroDivisionError: division by zero\n",
       "\n",
       "</pre>\n"
      ],
      "text/plain": [
       "Traceback \u001b[1m(\u001b[0mmost recent call last\u001b[1m)\u001b[0m:\n",
       "  File \u001b[32m\"/tmp/ipykernel_471/948580055.py\"\u001b[0m, line \u001b[1;36m10\u001b[0m, in \u001b[1m<\u001b[0m\u001b[1;95mmodule\u001b[0m\u001b[1m>\u001b[0m\n",
       "    c = \u001b[1;36m1\u001b[0m \u001b[35m/\u001b[0m \u001b[1;36m0\u001b[0m\n",
       "        ~~^~~\n",
       "ZeroDivisionError: division by zero\n",
       "\n"
      ]
     },
     "metadata": {},
     "output_type": "display_data"
    }
   ],
   "source": [
    "import traceback\n",
    "from rich import traceback as rich_traceback\n",
    "from rich import print\n",
    "\n",
    "# 替换标准库中的 traceback 模块\n",
    "# rich_traceback.install()\n",
    "\n",
    "try:\n",
    "    # 引发一个异常\n",
    "    c = 1 / 0\n",
    "except ZeroDivisionError:\n",
    "    # 打印 traceback 信息\n",
    "    traceback_str = traceback.format_exc()\n",
    "    print(traceback_str)\n"
   ]
  },
  {
   "cell_type": "code",
   "execution_count": null,
   "metadata": {},
   "outputs": [],
   "source": [
    "lambda: (njit, )"
   ]
  },
  {
   "cell_type": "code",
   "execution_count": null,
   "metadata": {},
   "outputs": [],
   "source": []
  },
  {
   "cell_type": "code",
   "execution_count": null,
   "metadata": {},
   "outputs": [],
   "source": []
  },
  {
   "cell_type": "code",
   "execution_count": null,
   "metadata": {},
   "outputs": [],
   "source": []
  },
  {
   "cell_type": "code",
   "execution_count": null,
   "metadata": {},
   "outputs": [],
   "source": [
    "from rich.syntax import Syntax\n",
    "\n",
    "my_code = '''\n",
    "def iter_first_last(values: Iterable[T]) -&gt; Iterable[Tuple[bool, bool, T]]:\n",
    "    \"\"\"Iterate and generate a tuple with a flag for first and last value.\"\"\"\n",
    "    iter_values = iter(values)\n",
    "    try:\n",
    "        previous_value = next(iter_values)\n",
    "    except StopIteration:\n",
    "        return\n",
    "    first = True\n",
    "    for value in iter_values:\n",
    "        yield first, False, previous_value\n",
    "        first = False\n",
    "        previous_value = value\n",
    "    yield first, True, previous_value\n",
    "'''\n",
    "syntax = Syntax(my_code, \"python\", theme=\"monokai\", line_numbers=True)\n",
    "print(syntax)"
   ]
  },
  {
   "cell_type": "code",
   "execution_count": null,
   "metadata": {},
   "outputs": [],
   "source": [
    "import rich"
   ]
  },
  {
   "cell_type": "code",
   "execution_count": null,
   "metadata": {},
   "outputs": [],
   "source": []
  },
  {
   "cell_type": "code",
   "execution_count": null,
   "metadata": {},
   "outputs": [],
   "source": []
  },
  {
   "cell_type": "code",
   "execution_count": null,
   "metadata": {},
   "outputs": [],
   "source": []
  },
  {
   "cell_type": "code",
   "execution_count": null,
   "metadata": {},
   "outputs": [],
   "source": []
  },
  {
   "cell_type": "code",
   "execution_count": null,
   "metadata": {},
   "outputs": [],
   "source": [
    "from pygments import highlight\n",
    "from pygments.lexers import PythonLexer\n",
    "from pygments.formatters import Terminal256Formatter\n"
   ]
  },
  {
   "cell_type": "code",
   "execution_count": null,
   "metadata": {},
   "outputs": [],
   "source": [
    "highlighted_code = highlight(\n",
    "    s, \n",
    "    PythonLexer(), \n",
    "    Terminal256Formatter(style='default')\n",
    ")\n",
    "print(highlighted_code)"
   ]
  },
  {
   "cell_type": "code",
   "execution_count": 10,
   "metadata": {},
   "outputs": [
    {
     "data": {
      "text/html": [
       "<pre style=\"white-space:pre;overflow-x:auto;line-height:normal;font-family:Menlo,'DejaVu Sans Mono',consolas,'Courier New',monospace\"><span style=\"color: #ffff00; text-decoration-color: #ffff00\">3c605801-0819-430d-8d5a-d22760830c05</span>\n",
       "</pre>\n"
      ],
      "text/plain": [
       "\u001b[93m3c605801-0819-430d-8d5a-d22760830c05\u001b[0m\n"
      ]
     },
     "metadata": {},
     "output_type": "display_data"
    }
   ],
   "source": [
    "import uuid\n",
    "\n",
    "random_uuid = uuid.uuid4()\n",
    "print(random_uuid)\n"
   ]
  },
  {
   "cell_type": "code",
   "execution_count": 15,
   "metadata": {},
   "outputs": [
    {
     "data": {
      "text/plain": [
       "array([4.96027849, 5.48652903, 3.80186374, 3.81207392, 6.59427699,\n",
       "       4.06265082, 7.11909986, 4.62412544, 3.99538114, 4.41469671,\n",
       "       4.22822812, 3.11288333, 3.32241351, 6.08440185, 5.52047221,\n",
       "       5.47755664, 5.88006201, 5.28528501, 4.66798547, 6.38380524,\n",
       "       5.42455143, 4.72496703, 5.0404149 , 5.65845393, 5.82098681,\n",
       "       5.00565456, 3.81487249, 4.46778832, 4.26035397, 4.93131405,\n",
       "       5.33692626, 5.16858997, 6.24281253, 4.71700354, 5.38320577,\n",
       "       4.33436189, 3.94501588, 5.44250035, 4.20392998, 5.68635321,\n",
       "       4.82383236, 3.37136063, 6.71561966, 6.50078307, 2.62774438,\n",
       "       4.87646067, 5.68924699, 5.29910452, 5.54982859, 5.80352831,\n",
       "       5.58553664, 4.89735333, 5.67778343, 5.15202041, 4.06403616,\n",
       "       5.13943746, 4.15345968, 5.03577563, 3.49211059, 3.96863207,\n",
       "       3.86082941, 6.36542116, 5.74209631, 4.99906399, 6.49571108,\n",
       "       3.76396492, 4.43451843, 5.26738876, 6.89918428, 5.12955194,\n",
       "       3.80896837, 5.13624136, 4.55003325, 5.36367658, 3.71090981,\n",
       "       4.74032795, 5.94155448, 4.66437333, 4.70628343, 5.46735071,\n",
       "       5.83542897, 5.93180715, 5.35995055, 5.63845861, 4.69874286,\n",
       "       4.35598523, 4.1739991 , 5.06238662, 4.76525031, 2.95431809,\n",
       "       5.24821605, 4.2176946 , 4.72137864, 5.59094132, 5.54935785,\n",
       "       4.19928209, 5.89539022, 5.60366841, 6.803836  , 6.23695913,\n",
       "       4.97920463, 5.1666531 , 3.24415838, 5.92022037, 4.09028943,\n",
       "       4.97946589, 5.00580679, 4.81322471, 4.30877552, 4.71350462,\n",
       "       4.74222355, 6.03797941, 4.87901126, 6.63719779, 3.53415953,\n",
       "       5.75725451, 3.73273702, 4.9613498 , 5.64883751, 5.13259926,\n",
       "       4.87898252, 5.74674556, 6.35803825, 5.61058388, 4.27776053,\n",
       "       5.92369654, 2.75240547, 5.87512245, 5.09831891, 5.32461293,\n",
       "       4.93364865, 5.60945643, 5.33333145, 4.79937384, 4.47377058,\n",
       "       5.83762417, 4.77457116, 4.41542612, 5.12225482, 7.0219306 ,\n",
       "       4.94823637, 6.14360856, 5.67171405, 4.22524389, 3.8056076 ,\n",
       "       4.75201403, 7.20593423, 5.06417227, 6.12184915, 4.25126955,\n",
       "       5.05103937, 4.89677117, 6.39468605, 4.33454315, 4.95497365,\n",
       "       3.6893576 , 5.7137298 , 5.69319572, 4.40588834, 6.24472132,\n",
       "       4.29562603, 4.44169946, 5.05102884, 4.9886755 , 2.75426209,\n",
       "       3.69795955, 4.67924098, 4.95953147, 5.14417526, 4.44889193,\n",
       "       4.59431828, 5.47818109, 4.84427419, 5.08665395, 4.87928956,\n",
       "       5.32874467, 4.32101486, 5.90452429, 5.56114575, 4.52277059,\n",
       "       3.03957739, 4.27406597, 3.06010938, 4.7719193 , 4.60394279,\n",
       "       4.44449065, 4.64529478, 5.62968842, 4.05431647, 3.61335897,\n",
       "       6.04945391, 4.56497727, 5.67184384, 5.56456214, 4.23886604,\n",
       "       5.60127203, 5.43867458, 5.58852422, 5.32730371, 4.08571582,\n",
       "       5.03786184, 5.77787141, 3.32444706, 4.010132  , 5.39691857,\n",
       "       3.06981083, 5.45013058, 3.03382108, 6.10351697, 3.10541185,\n",
       "       3.93138053, 5.86317037, 5.34018295, 6.38067386, 3.59583666,\n",
       "       4.03890674, 5.81508093, 3.88824992, 5.31499183, 4.49056095,\n",
       "       5.37697378, 4.12879514, 4.57943774, 4.55140639, 5.89565817,\n",
       "       5.45932184, 5.61063028, 6.33919719, 4.04833271, 4.76032591,\n",
       "       3.78947674, 6.66612333, 5.47093403, 5.14851115, 4.75012654,\n",
       "       5.48325213, 5.19149572, 6.13109193, 4.55788734, 6.17514716,\n",
       "       6.18098087, 4.23804352, 5.21102729, 6.31257245, 5.69886777,\n",
       "       3.61950408, 5.10455514, 3.82795896, 4.11601918, 4.50219669,\n",
       "       5.28101229, 5.44211472, 5.9745761 , 4.73919106, 6.04870945,\n",
       "       4.97544479, 5.25352505, 5.1365943 , 5.51620832, 5.75453765,\n",
       "       6.5522028 , 7.03033667, 5.18020565, 5.72515719, 5.13214139,\n",
       "       4.18373427, 5.24170713, 5.50466049, 5.85693385, 6.13378338,\n",
       "       6.73388879, 6.37000693, 5.06929761, 5.3422252 , 4.62233093,\n",
       "       5.67913953, 4.08369938, 5.40075448, 4.90836902, 6.52265186,\n",
       "       4.96397794, 4.35150045, 4.49453181, 7.16534466, 5.64448783,\n",
       "       6.00118037, 4.0202142 , 6.94016722, 5.79680545, 5.68203764,\n",
       "       4.76139451, 5.39191717, 4.01674152, 4.35553501, 6.41953644,\n",
       "       4.91865958, 6.41253105, 4.54517923, 4.27685647, 2.80789529,\n",
       "       5.01781553, 4.16890929, 4.00394611, 5.05388528, 6.00994522,\n",
       "       5.57215832, 3.75777866, 6.09701952, 5.04421949, 4.80902929,\n",
       "       6.02402925, 6.93714397, 3.8342625 , 6.36676786, 6.08771604,\n",
       "       4.86218308, 5.28454258, 5.39484937, 5.83235578, 3.53751334,\n",
       "       5.83000046, 4.24978097, 3.97890972, 4.33608231, 6.07630478,\n",
       "       4.16851157, 4.70724305, 4.84400515, 5.69479935, 4.95263385,\n",
       "       4.50394872, 4.89547658, 4.31695701, 3.82084744, 3.88316742,\n",
       "       5.43996165, 3.67177583, 5.67749002, 5.08398292, 7.10788695,\n",
       "       4.38916722, 5.76306643, 4.8665219 , 5.43513492, 4.74716552,\n",
       "       4.98154201, 4.62383699, 5.50409458, 5.64198684, 4.24033456,\n",
       "       4.89862393, 4.3323321 , 5.83781396, 6.24182555, 6.05321029,\n",
       "       5.4397395 , 3.84337621, 4.93448502, 5.5510739 , 5.08658548,\n",
       "       4.55995183, 4.35807683, 5.17624862, 5.72553781, 4.22754209,\n",
       "       4.69967372, 5.07717226, 4.96034984, 5.16038166, 4.2926835 ,\n",
       "       5.03694337, 5.5143783 , 6.4283456 , 5.37630457, 5.01721813,\n",
       "       5.87321779, 3.93123101, 4.5981851 , 3.25137567, 4.0733601 ,\n",
       "       4.74061202, 4.80349883, 3.55939548, 4.25013797, 5.871698  ,\n",
       "       4.31057357, 4.69803135, 5.78959828, 3.15550102, 5.16972105,\n",
       "       7.46366803, 7.30396138, 4.91639369, 4.81544851, 5.56830267,\n",
       "       6.08198946, 5.28204183, 4.57518698, 4.45950974, 5.72299957,\n",
       "       5.71153237, 4.71679462, 5.96049402, 4.90958635, 5.77418918,\n",
       "       3.66953578, 4.98990224, 4.82229245, 3.94216882, 4.67904099,\n",
       "       5.28194222, 4.6802704 , 3.31870186, 5.04811035, 5.30219947,\n",
       "       5.63869275, 5.12684999, 3.66539454, 4.72943818, 3.80971534,\n",
       "       5.12403938, 6.56982042, 5.14424773, 7.92259576, 4.55915155,\n",
       "       6.66056008, 3.89006669, 5.32982182, 4.1496567 , 7.11974952,\n",
       "       4.38712552, 5.06519769, 5.45641777, 4.08490716, 4.30069925,\n",
       "       4.00817617, 5.03036217, 4.18765284, 4.2643747 , 6.03304275,\n",
       "       6.59280968, 5.01875901, 4.9365466 , 5.42950851, 5.28148995,\n",
       "       5.01117145, 4.78051707, 3.78804702, 4.8533337 , 5.37064189,\n",
       "       5.90060729, 5.41194635, 6.3475872 , 5.85798569, 3.44204106,\n",
       "       4.38022526, 5.35312587, 4.3799535 , 6.23623306, 6.94367559,\n",
       "       5.2279201 , 5.47341191, 2.57391103, 5.39353129, 5.64796608,\n",
       "       5.34660669, 4.5207511 , 5.8725067 , 5.72917795, 6.31156483,\n",
       "       5.30560959, 5.16446548, 5.1815495 , 4.47442558, 5.44222   ,\n",
       "       4.19612321, 5.46454308, 5.44320161, 5.03212865, 4.48946727,\n",
       "       4.0431453 , 4.28719502, 5.23206319, 3.97990694, 5.09501464,\n",
       "       7.56506932, 4.21785179, 3.93643053, 2.95617102, 5.82373807,\n",
       "       5.16181703, 4.06897836, 2.90082144, 4.27496152, 5.4340407 ,\n",
       "       5.68798238, 5.26104221, 5.93357703, 4.17184154, 4.62705566,\n",
       "       4.04480514, 4.98918196, 5.35788799, 5.01585226, 3.33148937,\n",
       "       4.56435732, 6.61764815, 4.91330359, 5.08771944, 4.05498162,\n",
       "       3.77622391, 5.0508752 , 4.08984506, 4.78823012, 5.16521875,\n",
       "       5.54679357, 4.43520225, 8.09249191, 3.82569372, 6.06715251,\n",
       "       6.87780112, 5.17850882, 3.89739183, 4.26603907, 5.71711848,\n",
       "       5.38286865, 5.95827348, 6.66956229, 4.46433243, 4.55639135,\n",
       "       5.58404323, 4.58995132, 3.65754916, 6.18363311, 5.06192276,\n",
       "       3.41352837, 5.26336877, 4.16228154, 4.2798638 , 6.12738017,\n",
       "       5.53910875, 5.66535482, 3.31437573, 5.3856913 , 5.15535043,\n",
       "       6.25077193, 4.41729663, 5.17357812, 5.61272785, 4.80194815,\n",
       "       3.97334091, 5.06470616, 4.75835624, 5.39847873, 3.84811115,\n",
       "       5.98137788, 4.98064487, 5.64680341, 3.89510779, 4.82343235,\n",
       "       4.23843566, 6.46362846, 5.87799214, 4.20216265, 5.55315006,\n",
       "       4.21629096, 5.26038404, 4.04508295, 5.97184935, 4.17831633,\n",
       "       5.3794693 , 5.53541846, 4.06177835, 3.67205328, 4.88209916,\n",
       "       6.39060328, 5.50114408, 3.47540439, 5.93468278, 4.56147529,\n",
       "       6.34547505, 5.70756252, 4.48600137, 5.55094055, 3.69454416,\n",
       "       4.11523206, 3.91297121, 5.41340077, 5.53545202, 5.84433815,\n",
       "       4.76898691, 5.06551391, 5.26645507, 5.33550083, 4.68173157,\n",
       "       3.69239003, 5.61650437, 5.9005198 , 4.86643722, 4.35399065,\n",
       "       4.39773304, 4.85732315, 4.65465479, 4.69158372, 3.24602202,\n",
       "       5.26101708, 4.87235931, 5.29127123, 3.50647633, 5.35291149,\n",
       "       5.66288655, 4.94095143, 5.2053222 , 5.1246612 , 4.28582352,\n",
       "       6.02182163, 5.28766767, 4.97813963, 6.03937542, 4.62122913,\n",
       "       5.25845825, 5.46015288, 5.96357243, 3.10735891, 3.55140087,\n",
       "       4.2273434 , 5.17241548, 4.0842732 , 4.77507274, 5.14356545,\n",
       "       5.82702573, 5.92278522, 5.42181364, 4.60094622, 4.65632011,\n",
       "       6.22106172, 3.6740972 , 5.42870233, 5.14082949, 5.17918675,\n",
       "       3.4279676 , 4.99323173, 4.91930485, 4.54365466, 4.32810714,\n",
       "       5.02008436, 4.33756606, 5.57415809, 3.3227852 , 3.1952754 ,\n",
       "       6.02673693, 4.63627499, 7.03205055, 4.48044619, 5.08242011,\n",
       "       4.9994354 , 5.03382629, 5.22998484, 4.93228673, 4.61621867,\n",
       "       4.93479474, 4.41094303, 6.3608547 , 4.07199728, 4.91242072,\n",
       "       5.61704016, 3.90040721, 3.83623524, 6.1531357 , 4.88958494,\n",
       "       4.95654071, 4.32626095, 4.84269653, 5.21125427, 6.0585194 ,\n",
       "       6.42911595, 3.65354615, 4.51380625, 5.11651565, 5.54009997,\n",
       "       3.99859635, 4.99618464, 3.50107454, 5.14417395, 5.44173899,\n",
       "       5.5864448 , 4.75507176, 5.39382493, 4.85847097, 5.06490383,\n",
       "       5.21417283, 3.844518  , 4.47160224, 4.63286118, 5.27246239,\n",
       "       3.78513266, 5.29929003, 4.23249719, 4.44603035, 6.03639802,\n",
       "       4.97472566, 3.27021276, 5.96863354, 3.05568022, 5.66910994,\n",
       "       3.72846053, 5.17111521, 4.53563871, 4.14857631, 6.28513741,\n",
       "       4.49986169, 5.02970163, 2.96036968, 5.44340661, 5.34599879,\n",
       "       3.91069563, 4.90439489, 2.98434388, 6.86678966, 5.17165412,\n",
       "       5.00002378, 4.43126199, 5.35338889, 5.47404854, 5.16720728,\n",
       "       4.11977439, 4.14485269, 6.21935108, 6.72388615, 4.39989998,\n",
       "       5.03571152, 4.56150205, 4.93177015, 5.38589432, 4.14078657,\n",
       "       4.85084058, 3.30222161, 5.41273099, 5.57291196, 6.10489269,\n",
       "       4.48463399, 5.12136282, 6.01649307, 5.75906659, 4.49179944,\n",
       "       4.80856121, 3.37059109, 5.92087464, 4.98641587, 5.55775576,\n",
       "       3.29229997, 5.12050402, 3.8282424 , 6.04399885, 4.67086671,\n",
       "       6.43369188, 2.37547797, 6.70474423, 6.42653716, 6.79052261,\n",
       "       4.3446027 , 5.12458554, 4.42646611, 4.80867413, 4.15967595,\n",
       "       4.23960196, 5.224311  , 4.42229694, 6.32801243, 6.38823963,\n",
       "       4.83388108, 5.3504565 , 4.05009903, 5.580429  , 3.4546415 ,\n",
       "       5.67340008, 5.05714932, 6.65785738, 6.03768626, 5.26721496,\n",
       "       5.28266396, 4.07753782, 5.95036488, 5.32222244, 5.20586808,\n",
       "       4.94189779, 5.699673  , 4.58380595, 5.07155441, 4.56271157,\n",
       "       5.61840022, 6.02679713, 3.42133459, 5.47503677, 6.03512021,\n",
       "       3.97632721, 4.96401727, 4.35436491, 4.08839682, 2.96939709,\n",
       "       4.88682715, 4.52607974, 3.76116106, 4.55349496, 5.65197481,\n",
       "       4.21170384, 7.30056389, 5.06985   , 5.88989682, 5.62773604,\n",
       "       5.16950514, 4.60572046, 2.66031706, 4.11306493, 5.43971394,\n",
       "       6.85837366, 4.31491708, 5.37090266, 5.73900913, 5.22933389,\n",
       "       3.66749328, 6.41593056, 3.66852903, 4.32641442, 4.50676311,\n",
       "       5.51626486, 3.69979137, 4.58504686, 4.5130832 , 4.88569101,\n",
       "       4.86217574, 3.21123073, 4.13756343, 4.38208157, 4.47660369,\n",
       "       4.83189699, 4.78632936, 3.63575315, 4.5581181 , 5.89700789,\n",
       "       6.30945943, 3.85537128, 5.27506463, 6.0601346 , 3.82945044,\n",
       "       5.3350886 , 5.38225224, 4.82132234, 4.86290852, 4.80828873,\n",
       "       4.75533164, 4.7022582 , 7.20038064, 6.1935217 , 3.46458692,\n",
       "       5.79197575, 4.74220967, 6.32952927, 4.80632318, 5.72997198,\n",
       "       5.96265763, 5.83435792, 4.19786387, 5.86660476, 5.33718693,\n",
       "       5.50778712, 4.95092601, 4.9184534 , 4.67031441, 5.79748614,\n",
       "       6.77013311, 4.12403145, 5.26418117, 4.33400862, 5.96673216,\n",
       "       4.44325372, 5.40099239, 4.18100504, 6.67892349, 4.14528417,\n",
       "       5.18559371, 5.72628781, 3.14818417, 4.19098432, 5.62769284,\n",
       "       5.68988263, 3.58993181, 5.15706103, 4.38758821, 5.27714923,\n",
       "       4.93919828, 3.23413189, 5.55966587, 5.4211459 , 6.04504501,\n",
       "       4.5048935 , 4.30127691, 4.1743846 , 4.71420208, 5.19270007,\n",
       "       4.41782061, 4.76551606, 4.33245812, 4.56128701, 5.48860469,\n",
       "       5.1243984 , 5.24765631, 4.26423963, 4.13342131, 6.33947351,\n",
       "       3.69761572, 5.1512584 , 6.15649577, 4.29967594, 4.645077  ,\n",
       "       4.84187865, 5.43006376, 6.21066993, 5.40227064, 4.74564563,\n",
       "       5.88232651, 5.14845302, 5.45278814, 4.94774076, 3.63791186,\n",
       "       4.93279531, 3.52156532, 2.73808332, 4.79426635, 2.84873471,\n",
       "       4.77636175, 4.35746187, 5.56388076, 4.75071189, 5.46499395,\n",
       "       4.49593213, 5.42687912, 5.58574232, 4.78820373, 6.55377609,\n",
       "       6.75725451, 5.84000533, 6.32124261, 4.70811432, 3.80680077,\n",
       "       5.61457392, 5.53883747, 4.80407233, 4.3707874 , 5.03634679,\n",
       "       5.84015198, 3.91012154, 4.93455715, 3.72652893, 4.78564451,\n",
       "       6.4053031 , 5.3973437 , 5.45876906, 3.81199698, 6.06510709,\n",
       "       4.39710292, 6.56741389, 5.14884659, 4.87218631, 5.42407599,\n",
       "       6.4334736 , 4.08407032, 6.78087564, 4.713107  , 3.74773499,\n",
       "       3.74846714, 4.73105382, 4.32512022, 4.28636681, 4.48277284,\n",
       "       4.82792021, 5.73612187, 4.13049376, 5.51288668, 4.48149563,\n",
       "       5.26911698, 6.12875632, 5.89940799, 5.98642102, 5.33595   ,\n",
       "       5.82803163, 4.75387539, 4.58708348, 3.36176853, 5.89206654,\n",
       "       4.00879583, 6.07294407, 5.08714395, 4.924668  , 4.12711743,\n",
       "       5.73203558, 6.21882382, 5.74369177, 5.43471309, 3.77687823])"
      ]
     },
     "execution_count": 15,
     "metadata": {},
     "output_type": "execute_result"
    }
   ],
   "source": [
    "import numpy as np\n",
    "data = np.random.rand(1000, 10)\n",
    "\n",
    "def my_sum(data):\n",
    "    res = data.sum(axis=1)\n",
    "    return res\n",
    "\n",
    "my_sum(data)"
   ]
  },
  {
   "cell_type": "code",
   "execution_count": 18,
   "metadata": {},
   "outputs": [],
   "source": [
    "N = np.array(0, dtype='i')"
   ]
  },
  {
   "cell_type": "code",
   "execution_count": 21,
   "metadata": {},
   "outputs": [
    {
     "name": "stderr",
     "output_type": "stream",
     "text": [
      "/tmp/ipykernel_471/3389590107.py:1: RuntimeWarning: divide by zero encountered in divide\n",
      "  h = 1/N\n"
     ]
    }
   ],
   "source": [
    "h = 1/N\n",
    "s = 0"
   ]
  },
  {
   "cell_type": "code",
   "execution_count": null,
   "metadata": {},
   "outputs": [],
   "source": []
  },
  {
   "cell_type": "code",
   "execution_count": null,
   "metadata": {},
   "outputs": [],
   "source": [
    "spawn-parallel"
   ]
  },
  {
   "cell_type": "code",
   "execution_count": 6,
   "metadata": {},
   "outputs": [
    {
     "data": {
      "text/plain": [
       "4.0"
      ]
     },
     "execution_count": 6,
     "metadata": {},
     "output_type": "execute_result"
    }
   ],
   "source": [
    "8*1024*1024*64*8/1024**3"
   ]
  },
  {
   "cell_type": "code",
   "execution_count": 5,
   "metadata": {},
   "outputs": [
    {
     "data": {
      "text/plain": [
       "64.0"
      ]
     },
     "execution_count": 5,
     "metadata": {},
     "output_type": "execute_result"
    }
   ],
   "source": [
    "512/8"
   ]
  },
  {
   "cell_type": "markdown",
   "metadata": {},
   "source": [
    "# find_decorator_requires"
   ]
  },
  {
   "cell_type": "code",
   "execution_count": 18,
   "metadata": {},
   "outputs": [],
   "source": [
    "import sys\n",
    "import numpy as np\n",
    "from numba import jit\n",
    "import inspect\n",
    "sys.path.append(\"/mnt/d/Python/minifympi/\")"
   ]
  },
  {
   "cell_type": "markdown",
   "metadata": {},
   "source": []
  },
  {
   "cell_type": "code",
   "execution_count": 10,
   "metadata": {},
   "outputs": [],
   "source": [
    "from minifympi.core import mmp"
   ]
  },
  {
   "cell_type": "code",
   "execution_count": 28,
   "metadata": {},
   "outputs": [
    {
     "data": {
      "text/plain": [
       "{}"
      ]
     },
     "execution_count": 28,
     "metadata": {},
     "output_type": "execute_result"
    }
   ],
   "source": [
    "def test2(a):\n",
    "    print(a)\n",
    "\n",
    "# @mmp.find_requires\n",
    "@jit\n",
    "def test(a, b):\n",
    "    test2(a+b)\n",
    "\n",
    "\n",
    "mmp.find_requires(test, {'jit': jit})"
   ]
  },
  {
   "cell_type": "code",
   "execution_count": 29,
   "metadata": {},
   "outputs": [
    {
     "ename": "AttributeError",
     "evalue": "'CPUDispatcher' object has no attribute '__globals__'",
     "output_type": "error",
     "traceback": [
      "\u001b[0;31m---------------------------------------------------------------------------\u001b[0m",
      "\u001b[0;31mAttributeError\u001b[0m                            Traceback (most recent call last)",
      "Cell \u001b[0;32mIn[29], line 1\u001b[0m\n\u001b[0;32m----> 1\u001b[0m \u001b[43mmmp\u001b[49m\u001b[38;5;241;43m.\u001b[39;49m\u001b[43mfind_decorator_requires\u001b[49m\u001b[43m(\u001b[49m\u001b[43mtest\u001b[49m\u001b[43m)\u001b[49m\n",
      "File \u001b[0;32m/mnt/d/Python/minifympi/minifympi/core.py:235\u001b[0m, in \u001b[0;36mMinifyMPI.find_decorator_requires\u001b[0;34m(self, func)\u001b[0m\n\u001b[1;32m    233\u001b[0m decorators \u001b[38;5;241m=\u001b[39m [line\u001b[38;5;241m.\u001b[39mstrip() \u001b[38;5;28;01mfor\u001b[39;00m line \u001b[38;5;129;01min\u001b[39;00m code\u001b[38;5;241m.\u001b[39msplit(\u001b[38;5;124m'\u001b[39m\u001b[38;5;130;01m\\n\u001b[39;00m\u001b[38;5;124m'\u001b[39m) \u001b[38;5;28;01mif\u001b[39;00m line\u001b[38;5;241m.\u001b[39mstartswith(\u001b[38;5;124m'\u001b[39m\u001b[38;5;124m@\u001b[39m\u001b[38;5;124m'\u001b[39m)]\n\u001b[1;32m    234\u001b[0m decorators \u001b[38;5;241m=\u001b[39m [re\u001b[38;5;241m.\u001b[39mfindall(\u001b[38;5;124m'\u001b[39m\u001b[38;5;124m@(.+\u001b[39m\u001b[38;5;124m'\u001b[39m\u001b[38;5;241m+\u001b[39m(\u001b[38;5;124m'\u001b[39m\u001b[38;5;124m?)\u001b[39m\u001b[38;5;124m\\\u001b[39m\u001b[38;5;124m(\u001b[39m\u001b[38;5;124m'\u001b[39m \u001b[38;5;28;01mif\u001b[39;00m \u001b[38;5;124m'\u001b[39m\u001b[38;5;124m(\u001b[39m\u001b[38;5;124m'\u001b[39m \u001b[38;5;129;01min\u001b[39;00m line \u001b[38;5;28;01melse\u001b[39;00m \u001b[38;5;124m'\u001b[39m\u001b[38;5;124m)\u001b[39m\u001b[38;5;124m'\u001b[39m), line)[\u001b[38;5;241m0\u001b[39m] \u001b[38;5;28;01mfor\u001b[39;00m line \u001b[38;5;129;01min\u001b[39;00m decorators]\n\u001b[0;32m--> 235\u001b[0m requires_decorators \u001b[38;5;241m=\u001b[39m \u001b[38;5;28mself\u001b[39m\u001b[38;5;241m.\u001b[39mfind_requires(\u001b[38;5;28meval\u001b[39m(\u001b[38;5;124m'\u001b[39m\u001b[38;5;124mlambda: (\u001b[39m\u001b[38;5;132;01m{}\u001b[39;00m\u001b[38;5;124m)\u001b[39m\u001b[38;5;124m'\u001b[39m\u001b[38;5;241m.\u001b[39mformat(\u001b[38;5;124m'\u001b[39m\u001b[38;5;124m,\u001b[39m\u001b[38;5;124m'\u001b[39m\u001b[38;5;241m.\u001b[39mjoin(decorators))), \u001b[43mfunc\u001b[49m\u001b[38;5;241;43m.\u001b[39;49m\u001b[38;5;18;43m__globals__\u001b[39;49m)\n\u001b[1;32m    236\u001b[0m \u001b[38;5;28;01mreturn\u001b[39;00m requires_decorators\n",
      "\u001b[0;31mAttributeError\u001b[0m: 'CPUDispatcher' object has no attribute '__globals__'"
     ]
    }
   ],
   "source": [
    "mmp.find_decorator_requires(test)"
   ]
  },
  {
   "cell_type": "code",
   "execution_count": null,
   "metadata": {},
   "outputs": [],
   "source": []
  },
  {
   "cell_type": "code",
   "execution_count": 20,
   "metadata": {},
   "outputs": [
    {
     "name": "stdout",
     "output_type": "stream",
     "text": [
      "@jit\n",
      "def test(a, b):\n",
      "    test2(a+b)\n",
      "\n"
     ]
    }
   ],
   "source": [
    "print(inspect.getsource(test))"
   ]
  },
  {
   "cell_type": "code",
   "execution_count": 6,
   "metadata": {},
   "outputs": [],
   "source": [
    "def test():\n",
    "    data = (1, 2)\n",
    "    return data"
   ]
  },
  {
   "cell_type": "code",
   "execution_count": 7,
   "metadata": {},
   "outputs": [
    {
     "data": {
      "text/plain": [
       "(1, 2)"
      ]
     },
     "execution_count": 7,
     "metadata": {},
     "output_type": "execute_result"
    }
   ],
   "source": [
    "test()"
   ]
  },
  {
   "cell_type": "code",
   "execution_count": 8,
   "metadata": {},
   "outputs": [],
   "source": [
    "import types"
   ]
  },
  {
   "cell_type": "code",
   "execution_count": 18,
   "metadata": {},
   "outputs": [],
   "source": [
    "data = np.arange(100).reshape(10, -1)"
   ]
  },
  {
   "cell_type": "code",
   "execution_count": 19,
   "metadata": {},
   "outputs": [
    {
     "data": {
      "text/plain": [
       "[array([[ 0,  1,  2,  3,  4,  5,  6,  7,  8,  9],\n",
       "        [10, 11, 12, 13, 14, 15, 16, 17, 18, 19],\n",
       "        [20, 21, 22, 23, 24, 25, 26, 27, 28, 29],\n",
       "        [30, 31, 32, 33, 34, 35, 36, 37, 38, 39]]),\n",
       " array([[40, 41, 42, 43, 44, 45, 46, 47, 48, 49],\n",
       "        [50, 51, 52, 53, 54, 55, 56, 57, 58, 59],\n",
       "        [60, 61, 62, 63, 64, 65, 66, 67, 68, 69]]),\n",
       " array([[70, 71, 72, 73, 74, 75, 76, 77, 78, 79],\n",
       "        [80, 81, 82, 83, 84, 85, 86, 87, 88, 89],\n",
       "        [90, 91, 92, 93, 94, 95, 96, 97, 98, 99]])]"
      ]
     },
     "execution_count": 19,
     "metadata": {},
     "output_type": "execute_result"
    }
   ],
   "source": [
    "np.array_split(data, 3, axis=0)"
   ]
  },
  {
   "cell_type": "code",
   "execution_count": 20,
   "metadata": {},
   "outputs": [],
   "source": [
    "class Loc:\n",
    "    def test(self, a):\n",
    "        print(a)\n",
    "\n",
    "class M:\n",
    "    def __init__(self) -> None:\n",
    "        self.loc = Loc()"
   ]
  },
  {
   "cell_type": "code",
   "execution_count": 21,
   "metadata": {},
   "outputs": [],
   "source": [
    "m = M()"
   ]
  },
  {
   "cell_type": "code",
   "execution_count": 25,
   "metadata": {},
   "outputs": [
    {
     "name": "stdout",
     "output_type": "stream",
     "text": [
      "1\n"
     ]
    }
   ],
   "source": [
    "getattr(m, 'loc').test(1)"
   ]
  },
  {
   "cell_type": "code",
   "execution_count": 33,
   "metadata": {},
   "outputs": [
    {
     "ename": "AttributeError",
     "evalue": "'numpy.ndarray' object has no attribute 'dtypwe'",
     "output_type": "error",
     "traceback": [
      "\u001b[0;31m---------------------------------------------------------------------------\u001b[0m",
      "\u001b[0;31mAttributeError\u001b[0m                            Traceback (most recent call last)",
      "Cell \u001b[0;32mIn[33], line 1\u001b[0m\n\u001b[0;32m----> 1\u001b[0m \u001b[38;5;28;43mgetattr\u001b[39;49m\u001b[43m(\u001b[49m\u001b[43mdata\u001b[49m\u001b[43m,\u001b[49m\u001b[43m \u001b[49m\u001b[38;5;124;43m'\u001b[39;49m\u001b[38;5;124;43mdtypwe\u001b[39;49m\u001b[38;5;124;43m'\u001b[39;49m\u001b[43m)\u001b[49m\n",
      "\u001b[0;31mAttributeError\u001b[0m: 'numpy.ndarray' object has no attribute 'dtypwe'"
     ]
    }
   ],
   "source": [
    "getattr(data, 'dtypwe', 'None')"
   ]
  },
  {
   "cell_type": "code",
   "execution_count": 34,
   "metadata": {},
   "outputs": [
    {
     "data": {
      "text/plain": [
       "'ndarray'"
      ]
     },
     "execution_count": 34,
     "metadata": {},
     "output_type": "execute_result"
    }
   ],
   "source": [
    "type(data).__name__"
   ]
  },
  {
   "cell_type": "code",
   "execution_count": 44,
   "metadata": {},
   "outputs": [],
   "source": [
    "metadata = [{'type': 'ndarray', 'shape': (2,), 'dtype': 'int64'}, {'type': 'ndarray', 'shape': (3,), 'dtype': 'int64'}, {'type': 'ndarray', 'shape': (3,), 'dtype': 'int64'}, {'type': 'ndarray', 'shape': (3,), 'dtype': 'int64'}]\n",
    "meta = {'type': 'ndarray', 'shape': (3,), 'dtype': 'int64'}"
   ]
  },
  {
   "cell_type": "code",
   "execution_count": 52,
   "metadata": {},
   "outputs": [
    {
     "name": "stdout",
     "output_type": "stream",
     "text": [
      "sub0: {'type': 'ndarray', 'shape': (2,), 'dtype': 'int64'}\n",
      "sub1: {'type': 'ndarray', 'shape': (3,), 'dtype': 'int64'}\n",
      "sub2: {'type': 'ndarray', 'shape': (3,), 'dtype': 'int64'}\n",
      "sub3: {'type': 'ndarray', 'shape': (3,), 'dtype': 'int64'}\n"
     ]
    }
   ],
   "source": [
    "print('\\n'.join([f'sub{i}: {meta}' for i, meta in enumerate(metadata)]))"
   ]
  },
  {
   "cell_type": "code",
   "execution_count": null,
   "metadata": {},
   "outputs": [],
   "source": []
  },
  {
   "cell_type": "code",
   "execution_count": null,
   "metadata": {},
   "outputs": [],
   "source": []
  },
  {
   "cell_type": "code",
   "execution_count": 46,
   "metadata": {},
   "outputs": [
    {
     "data": {
      "text/plain": [
       "False"
      ]
     },
     "execution_count": 46,
     "metadata": {},
     "output_type": "execute_result"
    }
   ],
   "source": []
  },
  {
   "cell_type": "code",
   "execution_count": 53,
   "metadata": {},
   "outputs": [
    {
     "data": {
      "text/plain": [
       "3840"
      ]
     },
     "execution_count": 53,
     "metadata": {},
     "output_type": "execute_result"
    }
   ],
   "source": [
    "1290+3150-600"
   ]
  },
  {
   "cell_type": "code",
   "execution_count": 58,
   "metadata": {},
   "outputs": [],
   "source": [
    "ave, res = divmod(10, 6)"
   ]
  },
  {
   "cell_type": "markdown",
   "metadata": {},
   "source": [
    "# 分派任务"
   ]
  },
  {
   "cell_type": "code",
   "execution_count": 34,
   "metadata": {},
   "outputs": [
    {
     "data": {
      "text/plain": [
       "(array([4, 4, 4, 3]),\n",
       " array([160., 160., 160., 120.]),\n",
       " array([  0., 160., 320., 480.]))"
      ]
     },
     "execution_count": 34,
     "metadata": {},
     "output_type": "execute_result"
    }
   ],
   "source": [
    "axis = 1\n",
    "n_procs = 4\n",
    "data = np.random.randint(0, 1000, (10, 15, 4))\n",
    "\n",
    "task_count = np.ones(n_procs, int)*data.shape[axis]//n_procs\n",
    "task_count[:data.shape[axis]%n_procs] += 1\n",
    "\n",
    "count = task_count*np.prod(data.shape)/data.shape[axis]\n",
    "count = task_count*np.prod(data.shape)/data.shape[axis]\n",
    "displ = np.zeros_like(count)\n",
    "displ[1:] = np.cumsum(count)[:-1]\n",
    "task_count, count, displ"
   ]
  },
  {
   "cell_type": "code",
   "execution_count": 59,
   "metadata": {},
   "outputs": [],
   "source": [
    "from mpi4py import MPI\n",
    "from mpi4py.util.dtlib import from_numpy_dtype"
   ]
  },
  {
   "cell_type": "code",
   "execution_count": 63,
   "metadata": {},
   "outputs": [
    {
     "data": {
      "text/plain": [
       "<mpi4py.MPI.Datatype at 0x7f1601991d50>"
      ]
     },
     "execution_count": 63,
     "metadata": {},
     "output_type": "execute_result"
    }
   ],
   "source": [
    "from_numpy_dtype(np.float32)"
   ]
  },
  {
   "cell_type": "code",
   "execution_count": 109,
   "metadata": {},
   "outputs": [
    {
     "data": {
      "text/plain": [
       "(2,)"
      ]
     },
     "execution_count": 109,
     "metadata": {},
     "output_type": "execute_result"
    }
   ],
   "source": []
  },
  {
   "cell_type": "code",
   "execution_count": 101,
   "metadata": {},
   "outputs": [
    {
     "data": {
      "text/plain": [
       "array([[ 0,  1,  2,  3,  4,  5],\n",
       "       [ 6,  7,  8,  9, 10, 11],\n",
       "       [12, 13, 14, 15, 16, 17],\n",
       "       [18, 19, 20, 21, 22, 23],\n",
       "       [24, 25, 26, 27, 28, 29],\n",
       "       [30, 31, 32, 33, 34, 35]])"
      ]
     },
     "execution_count": 101,
     "metadata": {},
     "output_type": "execute_result"
    }
   ],
   "source": [
    "data = np.arange(36).reshape(6, 6)\n",
    "data"
   ]
  },
  {
   "cell_type": "code",
   "execution_count": 102,
   "metadata": {},
   "outputs": [
    {
     "data": {
      "text/plain": [
       "array([[ 0,  1],\n",
       "       [ 6,  7],\n",
       "       [12, 13],\n",
       "       [18, 19],\n",
       "       [24, 25],\n",
       "       [30, 31]])"
      ]
     },
     "execution_count": 102,
     "metadata": {},
     "output_type": "execute_result"
    }
   ],
   "source": [
    "data[:, :2]"
   ]
  },
  {
   "cell_type": "code",
   "execution_count": 110,
   "metadata": {},
   "outputs": [
    {
     "name": "stdout",
     "output_type": "stream",
     "text": [
      "(6, 2)\n",
      "(6, 2)\n",
      "(6, 1)\n",
      "(6, 1)\n"
     ]
    }
   ],
   "source": [
    "data_split = np.array_split(data, 4, axis=1)\n",
    "for item in data_split:\n",
    "    print(item.shape)"
   ]
  },
  {
   "cell_type": "code",
   "execution_count": 118,
   "metadata": {},
   "outputs": [
    {
     "data": {
      "text/plain": [
       "array([[ 0,  1,  2,  3,  4,  5],\n",
       "       [ 6,  7,  8,  9, 10, 11],\n",
       "       [12, 13, 14, 15, 16, 17],\n",
       "       [18, 19, 20, 21, 22, 23],\n",
       "       [24, 25, 26, 27, 28, 29],\n",
       "       [30, 31, 32, 33, 34, 35]])"
      ]
     },
     "execution_count": 118,
     "metadata": {},
     "output_type": "execute_result"
    }
   ],
   "source": [
    "np.concatenate(data_split, axis=1)"
   ]
  },
  {
   "cell_type": "code",
   "execution_count": null,
   "metadata": {},
   "outputs": [],
   "source": []
  },
  {
   "cell_type": "code",
   "execution_count": 180,
   "metadata": {},
   "outputs": [],
   "source": [
    "class MBase:\n",
    "    @staticmethod\n",
    "    def decorator(func):\n",
    "        def wrapper(self, *args, **kwargs):\n",
    "            res = self.m.decorator(func)(self, *args, **kwargs)\n",
    "            return res\n",
    "        return wrapper\n",
    "\n",
    "class M1(MBase):\n",
    "    pass\n",
    "        \n",
    "\n",
    "class M2(MBase):\n",
    "    main = False\n",
    "    def decorator(self, func):\n",
    "        if self.main:\n",
    "            return super().decorator(func)\n",
    "        else:\n",
    "            def wrapper(*args, **kwargs):\n",
    "                pass\n",
    "                # res = func(*args, **kwargs)\n",
    "            return wrapper"
   ]
  },
  {
   "cell_type": "code",
   "execution_count": 172,
   "metadata": {},
   "outputs": [
    {
     "ename": "TypeError",
     "evalue": "MBase.decorator.<locals>.wrapper() missing 1 required positional argument: 'self'",
     "output_type": "error",
     "traceback": [
      "\u001b[0;31m---------------------------------------------------------------------------\u001b[0m",
      "\u001b[0;31mTypeError\u001b[0m                                 Traceback (most recent call last)",
      "Cell \u001b[0;32mIn[172], line 5\u001b[0m\n\u001b[1;32m      2\u001b[0m \u001b[38;5;129m@m0\u001b[39m\u001b[38;5;241m.\u001b[39mdecorator\n\u001b[1;32m      3\u001b[0m \u001b[38;5;28;01mdef\u001b[39;00m \u001b[38;5;21mtest\u001b[39m():\n\u001b[1;32m      4\u001b[0m     \u001b[38;5;28mprint\u001b[39m(\u001b[38;5;241m1\u001b[39m)\n\u001b[0;32m----> 5\u001b[0m \u001b[43mtest\u001b[49m\u001b[43m(\u001b[49m\u001b[43m)\u001b[49m\n",
      "\u001b[0;31mTypeError\u001b[0m: MBase.decorator.<locals>.wrapper() missing 1 required positional argument: 'self'"
     ]
    }
   ],
   "source": [
    "m0 = MBase()\n",
    "@m0.decorator\n",
    "def test():\n",
    "    print(1)\n",
    "test()\n"
   ]
  },
  {
   "cell_type": "code",
   "execution_count": 163,
   "metadata": {},
   "outputs": [
    {
     "name": "stdout",
     "output_type": "stream",
     "text": [
      "<function test at 0x7f16001ba480>\n",
      "1\n"
     ]
    }
   ],
   "source": [
    "m1 = M1()\n",
    "@m1.decorator\n",
    "def test():\n",
    "    print(1)\n",
    "\n",
    "test()"
   ]
  },
  {
   "cell_type": "markdown",
   "metadata": {},
   "source": []
  },
  {
   "cell_type": "code",
   "execution_count": 164,
   "metadata": {},
   "outputs": [],
   "source": [
    "m2 = M2()\n",
    "\n",
    "@m2.decorator\n",
    "def test():\n",
    "    print(1)\n",
    "\n",
    "test()"
   ]
  },
  {
   "cell_type": "code",
   "execution_count": 186,
   "metadata": {},
   "outputs": [],
   "source": [
    "class Bcast:\n",
    "    def __init__(self, m) -> None:\n",
    "        self.m = m\n",
    "    \n",
    "    @MBase.decorator\n",
    "    def test(self):\n",
    "        print(1)\n",
    "        return 1\n",
    "\n",
    "    def test2(self):\n",
    "        print(2)\n",
    "        return 2"
   ]
  },
  {
   "cell_type": "code",
   "execution_count": 189,
   "metadata": {},
   "outputs": [
    {
     "name": "stdout",
     "output_type": "stream",
     "text": [
      "<function Bcast.test at 0x7f16001b9440>\n",
      "1\n"
     ]
    },
    {
     "data": {
      "text/plain": [
       "1"
      ]
     },
     "execution_count": 189,
     "metadata": {},
     "output_type": "execute_result"
    }
   ],
   "source": [
    "b = Bcast(m1)\n",
    "b.test()"
   ]
  },
  {
   "cell_type": "code",
   "execution_count": null,
   "metadata": {},
   "outputs": [],
   "source": []
  },
  {
   "cell_type": "code",
   "execution_count": 170,
   "metadata": {},
   "outputs": [
    {
     "data": {
      "text/plain": [
       "method"
      ]
     },
     "execution_count": 170,
     "metadata": {},
     "output_type": "execute_result"
    }
   ],
   "source": [
    "b.test2"
   ]
  },
  {
   "cell_type": "code",
   "execution_count": 12,
   "metadata": {},
   "outputs": [],
   "source": [
    "class M1:\n",
    "    def __init__(self) -> None:\n",
    "        self.Bcast = Bcast(self)\n",
    "    pass\n",
    "\n",
    "class M2:\n",
    "    def __init__(self) -> None:\n",
    "        self.Bcast = Bcast(self)\n",
    "            \n",
    "        def main(resp):\n",
    "            self.Bcast._main(resp)\n",
    "        \n",
    "        self.Bcast.main = main\n",
    "        \n",
    "\n",
    "\n",
    "class Bcast:\n",
    "    def __init__(self, m) -> None:\n",
    "        self.m = m\n",
    "        self.name = 'test'\n",
    "\n",
    "    def run(self, resp, data=None):\n",
    "        if self.is_main:\n",
    "            self._main(resp, data)\n",
    "        if self.is_root:\n",
    "            self._root(resp, data)\n",
    "        if self.is_sub:\n",
    "            self._sub(resp, data)\n",
    "\n",
    "\n",
    "    def _main(self, resp):\n",
    "        print('_main', resp)\n",
    "        pass\n",
    "\n",
    "    def _root(self, resp):\n",
    "        print('_root', resp)\n",
    "        pass\n",
    "\n",
    "    def _sub(self, resp):\n",
    "        print('_sub', resp)\n",
    "        pass"
   ]
  },
  {
   "cell_type": "code",
   "execution_count": 13,
   "metadata": {},
   "outputs": [
    {
     "ename": "AttributeError",
     "evalue": "'Bcast' object has no attribute 'main'",
     "output_type": "error",
     "traceback": [
      "\u001b[0;31m---------------------------------------------------------------------------\u001b[0m",
      "\u001b[0;31mAttributeError\u001b[0m                            Traceback (most recent call last)",
      "Cell \u001b[0;32mIn[13], line 2\u001b[0m\n\u001b[1;32m      1\u001b[0m m \u001b[38;5;241m=\u001b[39m M1()\n\u001b[0;32m----> 2\u001b[0m \u001b[43mm\u001b[49m\u001b[38;5;241;43m.\u001b[39;49m\u001b[43mBcast\u001b[49m\u001b[38;5;241;43m.\u001b[39;49m\u001b[43mmain\u001b[49m(\u001b[38;5;241m1\u001b[39m)\n",
      "\u001b[0;31mAttributeError\u001b[0m: 'Bcast' object has no attribute 'main'"
     ]
    }
   ],
   "source": [
    "m = M1()\n",
    "m.Bcast.main(1)"
   ]
  },
  {
   "cell_type": "code",
   "execution_count": 15,
   "metadata": {},
   "outputs": [],
   "source": [
    "m1 = m \n",
    "m2 = m"
   ]
  },
  {
   "cell_type": "code",
   "execution_count": 16,
   "metadata": {},
   "outputs": [
    {
     "data": {
      "text/plain": [
       "True"
      ]
     },
     "execution_count": 16,
     "metadata": {},
     "output_type": "execute_result"
    }
   ],
   "source": [
    "m1 is m2"
   ]
  },
  {
   "cell_type": "code",
   "execution_count": 213,
   "metadata": {},
   "outputs": [
    {
     "name": "stdout",
     "output_type": "stream",
     "text": [
      "_main 3\n"
     ]
    }
   ],
   "source": [
    "m = M2()\n",
    "m.Bcast.main(3)"
   ]
  },
  {
   "cell_type": "code",
   "execution_count": 17,
   "metadata": {},
   "outputs": [],
   "source": [
    "import re"
   ]
  },
  {
   "cell_type": "code",
   "execution_count": 25,
   "metadata": {},
   "outputs": [
    {
     "data": {
      "text/plain": [
       "['abc']"
      ]
     },
     "execution_count": 25,
     "metadata": {},
     "output_type": "execute_result"
    }
   ],
   "source": [
    "re.findall('^\\s*@(\\w+)', ' @abc.')"
   ]
  },
  {
   "cell_type": "code",
   "execution_count": 35,
   "metadata": {},
   "outputs": [
    {
     "data": {
      "text/plain": [
       "'\\n@parallel(n_procs)\\ndef test(a, b):\\n    return a + b, a\\n'"
      ]
     },
     "execution_count": 35,
     "metadata": {},
     "output_type": "execute_result"
    }
   ],
   "source": [
    "code = '''\n",
    "@parallel(n_procs)\n",
    "def test(a, b):\n",
    "    return a + b, a\n",
    "'''\n",
    "dec_code = 'parallel(n_procs)'\n",
    "re.sub(f'(\\s*)(@{dec_code})', r'\\1#\\2', code)"
   ]
  },
  {
   "cell_type": "code",
   "execution_count": 46,
   "metadata": {},
   "outputs": [
    {
     "data": {
      "text/plain": [
       "[]"
      ]
     },
     "execution_count": 46,
     "metadata": {},
     "output_type": "execute_result"
    }
   ],
   "source": [
    "re.findall(f'@parallel(n_procs)', code)"
   ]
  },
  {
   "cell_type": "code",
   "execution_count": 48,
   "metadata": {},
   "outputs": [
    {
     "data": {
      "text/plain": [
       "'\\n#@@parallel(n_procs)\\ndef test(a, b):\\n    return a + b, a\\n'"
      ]
     },
     "execution_count": 48,
     "metadata": {},
     "output_type": "execute_result"
    }
   ],
   "source": [
    "code.replace(dec_code, '#@'+dec_code)"
   ]
  },
  {
   "cell_type": "code",
   "execution_count": null,
   "metadata": {},
   "outputs": [],
   "source": []
  },
  {
   "cell_type": "code",
   "execution_count": 40,
   "metadata": {},
   "outputs": [
    {
     "name": "stdout",
     "output_type": "stream",
     "text": [
      "@parallel(n_procs)\n",
      "\n",
      "@parallel(n_procs)\n",
      "def test(a, b):\n",
      "    return a + b, a\n",
      "\n"
     ]
    }
   ],
   "source": [
    "print(dec_code)\n",
    "print(code)"
   ]
  },
  {
   "cell_type": "code",
   "execution_count": 218,
   "metadata": {},
   "outputs": [
    {
     "data": {
      "text/plain": [
       "<method-wrapper '__sub__' of numpy.ndarray object at 0x7f16003d8f30>"
      ]
     },
     "execution_count": 218,
     "metadata": {},
     "output_type": "execute_result"
    }
   ],
   "source": [
    "data.__subp__"
   ]
  },
  {
   "cell_type": "code",
   "execution_count": 219,
   "metadata": {},
   "outputs": [],
   "source": [
    "def test(a, *args, c=None, **kwargs):\n",
    "    print(a, args, c, kwargs)"
   ]
  },
  {
   "cell_type": "code",
   "execution_count": 222,
   "metadata": {},
   "outputs": [
    {
     "name": "stdout",
     "output_type": "stream",
     "text": [
      "1 (2, 3) 4 {'d': 5}\n"
     ]
    }
   ],
   "source": [
    "test(1, 2, 3, d=5, c=4)"
   ]
  },
  {
   "cell_type": "code",
   "execution_count": null,
   "metadata": {},
   "outputs": [],
   "source": []
  },
  {
   "cell_type": "code",
   "execution_count": 1,
   "metadata": {},
   "outputs": [],
   "source": [
    "a = {1: 2}\n",
    "a.update({1: 4})"
   ]
  },
  {
   "cell_type": "code",
   "execution_count": 2,
   "metadata": {},
   "outputs": [
    {
     "data": {
      "text/plain": [
       "{1: 4}"
      ]
     },
     "execution_count": 2,
     "metadata": {},
     "output_type": "execute_result"
    }
   ],
   "source": [
    "a"
   ]
  },
  {
   "cell_type": "code",
   "execution_count": 6,
   "metadata": {},
   "outputs": [],
   "source": [
    "import sys\n",
    "import numpy as np\n",
    "sys.path.append(\"/mnt/d/Python/minifympi/\")\n",
    "\n",
    "from minifympi.old_core import MinifyMPI"
   ]
  },
  {
   "cell_type": "code",
   "execution_count": 49,
   "metadata": {},
   "outputs": [],
   "source": [
    "a = {1: 2}"
   ]
  },
  {
   "cell_type": "code",
   "execution_count": 54,
   "metadata": {},
   "outputs": [
    {
     "data": {
      "text/plain": [
       "2"
      ]
     },
     "execution_count": 54,
     "metadata": {},
     "output_type": "execute_result"
    }
   ],
   "source": [
    "a.get(1, '') or 'ab'"
   ]
  },
  {
   "cell_type": "code",
   "execution_count": 58,
   "metadata": {},
   "outputs": [],
   "source": [
    "from functools import reduce\n",
    "import numpy as np"
   ]
  },
  {
   "cell_type": "code",
   "execution_count": 74,
   "metadata": {},
   "outputs": [],
   "source": [
    "data = [(3,2), (3,2), (2,2), (2,2)]"
   ]
  },
  {
   "cell_type": "code",
   "execution_count": 75,
   "metadata": {},
   "outputs": [
    {
     "data": {
      "text/plain": [
       "(10, 2)"
      ]
     },
     "execution_count": 75,
     "metadata": {},
     "output_type": "execute_result"
    }
   ],
   "source": [
    "reduce(lambda x, y: (x[0]+y[0], *x[1:]), data)"
   ]
  },
  {
   "cell_type": "code",
   "execution_count": 81,
   "metadata": {},
   "outputs": [
    {
     "data": {
      "text/plain": [
       "array([ 1,  2,  6, 30])"
      ]
     },
     "execution_count": 81,
     "metadata": {},
     "output_type": "execute_result"
    }
   ],
   "source": [
    "data = np.array([1, 2, 3, 5])\n",
    "np.cumprod(data)"
   ]
  },
  {
   "cell_type": "code",
   "execution_count": 82,
   "metadata": {},
   "outputs": [
    {
     "data": {
      "text/plain": [
       "30"
      ]
     },
     "execution_count": 82,
     "metadata": {},
     "output_type": "execute_result"
    }
   ],
   "source": [
    "data.prod()"
   ]
  },
  {
   "cell_type": "code",
   "execution_count": 84,
   "metadata": {},
   "outputs": [
    {
     "data": {
      "text/plain": [
       "array([1, 3, 6])"
      ]
     },
     "execution_count": 84,
     "metadata": {},
     "output_type": "execute_result"
    }
   ],
   "source": [
    "np.cumsum([1, 2, 3])"
   ]
  },
  {
   "cell_type": "code",
   "execution_count": null,
   "metadata": {},
   "outputs": [],
   "source": []
  },
  {
   "cell_type": "code",
   "execution_count": 1,
   "metadata": {},
   "outputs": [],
   "source": [
    "import sys\n",
    "import numpy as np\n",
    "sys.path.append(\"/mnt/d/Python/minifympi/\")\n",
    "# from minifympi.old_core import MinifyMPI\n",
    "from minifympi.core.notebook import MinifyMPI\n",
    "from pandas.io.parsers.readers import read_csv as rc"
   ]
  },
  {
   "cell_type": "code",
   "execution_count": 2,
   "metadata": {},
   "outputs": [],
   "source": [
    "mmp = MinifyMPI(4, 10)\n",
    "mmp.start_comm()"
   ]
  },
  {
   "cell_type": "code",
   "execution_count": 3,
   "metadata": {},
   "outputs": [
    {
     "name": "stdout",
     "output_type": "stream",
     "text": [
      "\u001b[32m(main)[proc0]\u001b[39m \u001b[34m[parallel]\u001b[39m \n",
      "#@mmp.parallel\n",
      "def test(a, b):\n",
      "    return a + b\n",
      "\n",
      "\u001b[32m(main)[proc0]\u001b[39m \u001b[34m[parallel]\u001b[39m ['mmp']\n",
      "[10, 10, 10, 10]\n"
     ]
    }
   ],
   "source": [
    "mmp.scatter['a'] = [1, 2, 3, 4]\n",
    "code = 'mmp.gs[\"a\"] = 6'\n",
    "mmp.exec(code)\n",
    "\n",
    "@mmp.parallel\n",
    "def test(a, b):\n",
    "    return a + b\n",
    "\n",
    "mmp['res0'] = mmp.test(mmp['a'], 4)\n",
    "\n",
    "print(mmp.gather['res0'])"
   ]
  },
  {
   "cell_type": "code",
   "execution_count": 4,
   "metadata": {},
   "outputs": [],
   "source": [
    "mmp.close_comm()"
   ]
  },
  {
   "cell_type": "code",
   "execution_count": 49,
   "metadata": {},
   "outputs": [
    {
     "data": {
      "text/plain": [
       "{'mmp': <minifympi.core.notebook.MinifyMPI at 0x7f1c84105fd0>, 'a': None}"
      ]
     },
     "execution_count": 49,
     "metadata": {},
     "output_type": "execute_result"
    }
   ],
   "source": [
    "mmp.gs"
   ]
  },
  {
   "cell_type": "code",
   "execution_count": null,
   "metadata": {},
   "outputs": [],
   "source": []
  },
  {
   "cell_type": "code",
   "execution_count": 3,
   "metadata": {},
   "outputs": [
    {
     "data": {
      "text/plain": [
       "{'rc': <function pandas.io.parsers.readers.read_csv(filepath_or_buffer: 'FilePath | ReadCsvBuffer[bytes] | ReadCsvBuffer[str]', *, sep: 'str | None | lib.NoDefault' = <no_default>, delimiter: 'str | None | lib.NoDefault' = None, header: \"int | Sequence[int] | None | Literal['infer']\" = 'infer', names: 'Sequence[Hashable] | None | lib.NoDefault' = <no_default>, index_col: 'IndexLabel | Literal[False] | None' = None, usecols: 'UsecolsArgType' = None, dtype: 'DtypeArg | None' = None, engine: 'CSVEngine | None' = None, converters: 'Mapping[Hashable, Callable] | None' = None, true_values: 'list | None' = None, false_values: 'list | None' = None, skipinitialspace: 'bool' = False, skiprows: 'list[int] | int | Callable[[Hashable], bool] | None' = None, skipfooter: 'int' = 0, nrows: 'int | None' = None, na_values: 'Hashable | Iterable[Hashable] | Mapping[Hashable, Iterable[Hashable]] | None' = None, keep_default_na: 'bool' = True, na_filter: 'bool' = True, verbose: 'bool | lib.NoDefault' = <no_default>, skip_blank_lines: 'bool' = True, parse_dates: 'bool | Sequence[Hashable] | None' = None, infer_datetime_format: 'bool | lib.NoDefault' = <no_default>, keep_date_col: 'bool | lib.NoDefault' = <no_default>, date_parser: 'Callable | lib.NoDefault' = <no_default>, date_format: 'str | dict[Hashable, str] | None' = None, dayfirst: 'bool' = False, cache_dates: 'bool' = True, iterator: 'bool' = False, chunksize: 'int | None' = None, compression: 'CompressionOptions' = 'infer', thousands: 'str | None' = None, decimal: 'str' = '.', lineterminator: 'str | None' = None, quotechar: 'str' = '\"', quoting: 'int' = 0, doublequote: 'bool' = True, escapechar: 'str | None' = None, comment: 'str | None' = None, encoding: 'str | None' = None, encoding_errors: 'str | None' = 'strict', dialect: 'str | csv.Dialect | None' = None, on_bad_lines: 'str' = 'error', delim_whitespace: 'bool | lib.NoDefault' = <no_default>, low_memory: 'bool' = True, memory_map: 'bool' = False, float_precision: \"Literal['high', 'legacy'] | None\" = None, storage_options: 'StorageOptions | None' = None, dtype_backend: 'DtypeBackend | lib.NoDefault' = <no_default>) -> 'DataFrame | TextFileReader'>}"
      ]
     },
     "execution_count": 3,
     "metadata": {},
     "output_type": "execute_result"
    }
   ],
   "source": [
    "mmp.find_requires(test)"
   ]
  },
  {
   "cell_type": "markdown",
   "metadata": {},
   "source": [
    "# find requirement"
   ]
  },
  {
   "cell_type": "code",
   "execution_count": 84,
   "metadata": {},
   "outputs": [],
   "source": [
    "from numba import jit\n",
    "from textwrap import indent, dedent\n",
    "import ast, astor\n",
    "import types\n",
    "import re\n",
    "import inspect\n",
    "from pandas.io.parsers.readers import read_csv as rc\n"
   ]
  },
  {
   "cell_type": "code",
   "execution_count": 52,
   "metadata": {},
   "outputs": [],
   "source": [
    "def find_requires(func, g=None, ignores=None):\n",
    "    ''' \n",
    "    Find dependency libraries and functions for `func`.\n",
    "\n",
    "    Parameters\n",
    "    ----------\n",
    "    func : function\n",
    "        Any function.\n",
    "    '''\n",
    "    ignores = ignores if ignores else [\"__builtins__\", \"__file__\"]\n",
    "    g = g if g else getattr(func, '__globals__', globals())\n",
    "    requires = find_require_code(func, g, ignores)\n",
    "    return {require: g[require] for require in requires if require in g}\n",
    "\n",
    "\n",
    "def find_require_code(func, g, ignores=None):\n",
    "    requires = [\n",
    "        name for name in func.__code__.co_names\n",
    "        if name not in ignores \\\n",
    "        and name != func.__code__.co_name \\\n",
    "        and hasattr(sys.modules['__main__'], name)\n",
    "    ]\n",
    "    for item in requires:\n",
    "        if item in g and isinstance(g[item], types.FunctionType):\n",
    "            for key in find_requires(g[item], ignores + requires):\n",
    "                if key not in requires:\n",
    "                    requires.append(key)\n",
    "    return requires\n",
    "\n",
    "\n",
    "def find_require_decorator(func):\n",
    "    # NOTE - 不支持class类型的装饰器\n",
    "    # class类型的装饰器需要初始化，我们不知道如何初始化，因此不支持class类型的\n",
    "    # 装饰器\n",
    "    # TODO\n",
    "    # 如果有class类型的装饰器，我们应当弹出提示，表示不支持。\n",
    "    code = dedent(inspect.getsource(func))\n",
    "    decorators = [line.strip() for line in code.split('\\n') if line.startswith('@')]\n",
    "    decorators = [re.findall('@(.+'+('?)\\(' if '(' in line else ')'), line)[0] for line in decorators]\n",
    "    requires_decorators = find_requires(\n",
    "        eval('lambda: ({})'.format(','.join(decorators))), \n",
    "        getattr(func, '__globals__', globals())\n",
    "    )\n",
    "    return requires_decorators\n",
    "\n",
    "\n"
   ]
  },
  {
   "cell_type": "code",
   "execution_count": 50,
   "metadata": {},
   "outputs": [
    {
     "name": "stdout",
     "output_type": "stream",
     "text": [
      "@jit\n",
      "def test():\n",
      "    # read_csv\n",
      "    rc\n",
      "    test2()\n",
      "\n"
     ]
    }
   ],
   "source": [
    "@jit\n",
    "def test():\n",
    "    # read_csv\n",
    "    rc\n",
    "    test2()\n",
    "\n",
    "def test2():\n",
    "    print(1)\n",
    "    \n",
    "print(inspect.getsource(test))"
   ]
  },
  {
   "cell_type": "code",
   "execution_count": 53,
   "metadata": {},
   "outputs": [
    {
     "data": {
      "text/plain": [
       "{'rc': <function pandas.io.parsers.readers.read_csv(filepath_or_buffer: 'FilePath | ReadCsvBuffer[bytes] | ReadCsvBuffer[str]', *, sep: 'str | None | lib.NoDefault' = <no_default>, delimiter: 'str | None | lib.NoDefault' = None, header: \"int | Sequence[int] | None | Literal['infer']\" = 'infer', names: 'Sequence[Hashable] | None | lib.NoDefault' = <no_default>, index_col: 'IndexLabel | Literal[False] | None' = None, usecols: 'UsecolsArgType' = None, dtype: 'DtypeArg | None' = None, engine: 'CSVEngine | None' = None, converters: 'Mapping[Hashable, Callable] | None' = None, true_values: 'list | None' = None, false_values: 'list | None' = None, skipinitialspace: 'bool' = False, skiprows: 'list[int] | int | Callable[[Hashable], bool] | None' = None, skipfooter: 'int' = 0, nrows: 'int | None' = None, na_values: 'Hashable | Iterable[Hashable] | Mapping[Hashable, Iterable[Hashable]] | None' = None, keep_default_na: 'bool' = True, na_filter: 'bool' = True, verbose: 'bool | lib.NoDefault' = <no_default>, skip_blank_lines: 'bool' = True, parse_dates: 'bool | Sequence[Hashable] | None' = None, infer_datetime_format: 'bool | lib.NoDefault' = <no_default>, keep_date_col: 'bool | lib.NoDefault' = <no_default>, date_parser: 'Callable | lib.NoDefault' = <no_default>, date_format: 'str | dict[Hashable, str] | None' = None, dayfirst: 'bool' = False, cache_dates: 'bool' = True, iterator: 'bool' = False, chunksize: 'int | None' = None, compression: 'CompressionOptions' = 'infer', thousands: 'str | None' = None, decimal: 'str' = '.', lineterminator: 'str | None' = None, quotechar: 'str' = '\"', quoting: 'int' = 0, doublequote: 'bool' = True, escapechar: 'str | None' = None, comment: 'str | None' = None, encoding: 'str | None' = None, encoding_errors: 'str | None' = 'strict', dialect: 'str | csv.Dialect | None' = None, on_bad_lines: 'str' = 'error', delim_whitespace: 'bool | lib.NoDefault' = <no_default>, low_memory: 'bool' = True, memory_map: 'bool' = False, float_precision: \"Literal['high', 'legacy'] | None\" = None, storage_options: 'StorageOptions | None' = None, dtype_backend: 'DtypeBackend | lib.NoDefault' = <no_default>) -> 'DataFrame | TextFileReader'>,\n",
       " 'test2': <function __main__.test2()>}"
      ]
     },
     "execution_count": 53,
     "metadata": {},
     "output_type": "execute_result"
    }
   ],
   "source": [
    "find_requires(test)\n",
    "find_require_decorator(test)"
   ]
  },
  {
   "cell_type": "markdown",
   "metadata": {},
   "source": []
  },
  {
   "cell_type": "code",
   "execution_count": 45,
   "metadata": {},
   "outputs": [
    {
     "data": {
      "text/plain": [
       "{'jit': <function numba.core.decorators.jit(signature_or_function=None, locals={}, cache=False, pipeline_class=None, boundscheck=None, **options)>}"
      ]
     },
     "execution_count": 45,
     "metadata": {},
     "output_type": "execute_result"
    }
   ],
   "source": [
    "find_require_decorator(test)"
   ]
  },
  {
   "cell_type": "code",
   "execution_count": null,
   "metadata": {},
   "outputs": [],
   "source": []
  },
  {
   "cell_type": "code",
   "execution_count": 40,
   "metadata": {},
   "outputs": [
    {
     "data": {
      "text/plain": [
       "[<ast.FunctionDef at 0x7faf3b233c10>]"
      ]
     },
     "execution_count": 40,
     "metadata": {},
     "output_type": "execute_result"
    }
   ],
   "source": [
    "tree = ast.parse(inspect.getsource(test))\n",
    "tree.body"
   ]
  },
  {
   "cell_type": "code",
   "execution_count": 55,
   "metadata": {},
   "outputs": [],
   "source": [
    "a = lambda x: None"
   ]
  },
  {
   "cell_type": "code",
   "execution_count": 56,
   "metadata": {},
   "outputs": [
    {
     "data": {
      "text/plain": [
       "'<lambda>'"
      ]
     },
     "execution_count": 56,
     "metadata": {},
     "output_type": "execute_result"
    }
   ],
   "source": [
    "a.__code__.co_name"
   ]
  },
  {
   "cell_type": "code",
   "execution_count": 58,
   "metadata": {},
   "outputs": [
    {
     "data": {
      "text/plain": [
       "('rc', 'test2')"
      ]
     },
     "execution_count": 58,
     "metadata": {},
     "output_type": "execute_result"
    }
   ],
   "source": [
    "test.__code__.co_names"
   ]
  },
  {
   "cell_type": "code",
   "execution_count": 68,
   "metadata": {},
   "outputs": [
    {
     "data": {
      "text/plain": [
       "True"
      ]
     },
     "execution_count": 68,
     "metadata": {},
     "output_type": "execute_result"
    }
   ],
   "source": [
    "isinstance(test2, type(a))"
   ]
  },
  {
   "cell_type": "code",
   "execution_count": 76,
   "metadata": {},
   "outputs": [
    {
     "name": "stdout",
     "output_type": "stream",
     "text": [
      "Function 'test' has decorators: [\"Name(id='jit', ctx=Load())\"]\n",
      "Function 'test2' has decorators: []\n",
      "Function 'test3' has decorators: [\"Name(id='test2', ctx=Load())\"]\n",
      "Function 'test4' has decorators: [\"Name(id='test5', ctx=Load())\"]\n"
     ]
    }
   ],
   "source": [
    "import ast\n",
    "\n",
    "# 示例代码，可以替换为你需要分析的代码\n",
    "code = \"\"\"\n",
    "@jit\n",
    "def test():\n",
    "    rc\n",
    "    test3()\n",
    "\n",
    "def test2(func):\n",
    "    @test5\n",
    "    def test4():\n",
    "        print(2)\n",
    "    print(1)\n",
    "    return func\n",
    "\n",
    "@test2\n",
    "def test3():\n",
    "    print(3)\n",
    "\n",
    "\"\"\"\n",
    "\n",
    "decorators = []\n",
    "\n",
    "# 解析代码为抽象语法树\n",
    "tree = ast.parse(code)\n",
    "\n",
    "# 遍历抽象语法树，提取函数定义并获取装饰器\n",
    "for node in ast.walk(tree):\n",
    "    if isinstance(node, ast.FunctionDef):\n",
    "        function_name = node.name\n",
    "        decorators = [ast.dump(dec).strip() for dec in node.decorator_list]\n",
    "        print(f\"Function '{function_name}' has decorators: {decorators}\")"
   ]
  },
  {
   "cell_type": "code",
   "execution_count": 72,
   "metadata": {},
   "outputs": [
    {
     "data": {
      "text/plain": [
       "('my_function',\n",
       " [\"Name(id='decorator1', ctx=Load())\", \"Name(id='decorator2', ctx=Load())\"])"
      ]
     },
     "execution_count": 72,
     "metadata": {},
     "output_type": "execute_result"
    }
   ],
   "source": [
    "function_name, decorators"
   ]
  },
  {
   "cell_type": "code",
   "execution_count": 73,
   "metadata": {},
   "outputs": [
    {
     "ename": "AttributeError",
     "evalue": "'Load' object has no attribute 'decorator_list'",
     "output_type": "error",
     "traceback": [
      "\u001b[0;31m---------------------------------------------------------------------------\u001b[0m",
      "\u001b[0;31mAttributeError\u001b[0m                            Traceback (most recent call last)",
      "Cell \u001b[0;32mIn[73], line 1\u001b[0m\n\u001b[0;32m----> 1\u001b[0m \u001b[43mnode\u001b[49m\u001b[38;5;241;43m.\u001b[39;49m\u001b[43mdecorator_list\u001b[49m\n",
      "\u001b[0;31mAttributeError\u001b[0m: 'Load' object has no attribute 'decorator_list'"
     ]
    }
   ],
   "source": [
    "node.decorator_list"
   ]
  },
  {
   "cell_type": "code",
   "execution_count": null,
   "metadata": {},
   "outputs": [],
   "source": []
  },
  {
   "cell_type": "code",
   "execution_count": 98,
   "metadata": {},
   "outputs": [
    {
     "name": "stdout",
     "output_type": "stream",
     "text": [
      "Function 'read_csv' has decorators: ['Call(func=Name(id=\\'Appender\\', ctx=Load()), args=[Call(func=Attribute(value=Name(id=\\'_doc_read_csv_and_table\\', ctx=Load()), attr=\\'format\\', ctx=Load()), args=[], keywords=[keyword(arg=\\'func_name\\', value=Constant(value=\\'read_csv\\')), keyword(arg=\\'summary\\', value=Constant(value=\\'Read a comma-separated values (csv) file into DataFrame.\\')), keyword(arg=\\'see_also_func_name\\', value=Constant(value=\\'read_table\\')), keyword(arg=\\'see_also_func_summary\\', value=Constant(value=\\'Read general delimited file into DataFrame.\\')), keyword(arg=\\'_default_sep\\', value=Constant(value=\"\\',\\'\")), keyword(arg=\\'storage_options\\', value=Subscript(value=Name(id=\\'_shared_docs\\', ctx=Load()), slice=Constant(value=\\'storage_options\\'), ctx=Load())), keyword(arg=\\'decompression_options\\', value=BinOp(left=Subscript(value=Name(id=\\'_shared_docs\\', ctx=Load()), slice=Constant(value=\\'decompression_options\\'), ctx=Load()), op=Mod(), right=Constant(value=\\'filepath_or_buffer\\')))])], keywords=[])']\n"
     ]
    }
   ],
   "source": [
    "code = \"\"\"\n",
    "@jit\n",
    "def test():\n",
    "    rc\n",
    "    test3()\n",
    "\"\"\"\n",
    "\n",
    "code = dedent(inspect.getsource(rc))\n",
    "\n",
    "\n",
    "# 解析代码为抽象语法树\n",
    "tree = ast.parse(code)\n",
    "# decorators = []\n",
    "\n",
    "# 遍历抽象语法树，提取函数定义并获取装饰器\n",
    "for node in ast.walk(tree):\n",
    "    if isinstance(node, ast.FunctionDef):\n",
    "        function_name = node.name\n",
    "        decorators = [ast.dump(dec).strip() for dec in node.decorator_list]\n",
    "        print(f\"Function '{function_name}' has decorators: {decorators}\")"
   ]
  },
  {
   "cell_type": "code",
   "execution_count": 111,
   "metadata": {},
   "outputs": [],
   "source": [
    "node = ast.parse(code).body[0]\n",
    "decs = [ast.dump(dec).strip() for dec in node.decorator_list] if isinstance(node, ast.FunctionDef) else []"
   ]
  },
  {
   "cell_type": "code",
   "execution_count": 103,
   "metadata": {},
   "outputs": [
    {
     "name": "stdout",
     "output_type": "stream",
     "text": [
      "Call(func=Name(id='Appender', ctx=Load()), args=[Call(func=Attribute(value=Name(id='_doc_read_csv_and_table', ctx=Load()), attr='format', ctx=Load()), args=[], keywords=[keyword(arg='func_name', value=Constant(value='read_csv')), keyword(arg='summary', value=Constant(value='Read a comma-separated values (csv) file into DataFrame.')), keyword(arg='see_also_func_name', value=Constant(value='read_table')), keyword(arg='see_also_func_summary', value=Constant(value='Read general delimited file into DataFrame.')), keyword(arg='_default_sep', value=Constant(value=\"','\")), keyword(arg='storage_options', value=Subscript(value=Name(id='_shared_docs', ctx=Load()), slice=Constant(value='storage_options'), ctx=Load())), keyword(arg='decompression_options', value=BinOp(left=Subscript(value=Name(id='_shared_docs', ctx=Load()), slice=Constant(value='decompression_options'), ctx=Load()), op=Mod(), right=Constant(value='filepath_or_buffer')))])], keywords=[])\n"
     ]
    }
   ],
   "source": [
    "print(decs[0])"
   ]
  },
  {
   "cell_type": "code",
   "execution_count": 113,
   "metadata": {},
   "outputs": [
    {
     "data": {
      "text/plain": [
       "'Call(func=Name(id=\\'Appender\\', ctx=Load()), args=[Call(func=Attribute(value=Name(id=\\'_doc_read_csv_and_table\\', ctx=Load()), attr=\\'format\\', ctx=Load()), args=[], keywords=[keyword(arg=\\'func_name\\', value=Constant(value=\\'read_csv\\')), keyword(arg=\\'summary\\', value=Constant(value=\\'Read a comma-separated values (csv) file into DataFrame.\\')), keyword(arg=\\'see_also_func_name\\', value=Constant(value=\\'read_table\\')), keyword(arg=\\'see_also_func_summary\\', value=Constant(value=\\'Read general delimited file into DataFrame.\\')), keyword(arg=\\'_default_sep\\', value=Constant(value=\"\\',\\'\")), keyword(arg=\\'storage_options\\', value=Subscript(value=Name(id=\\'_shared_docs\\', ctx=Load()), slice=Constant(value=\\'storage_options\\'), ctx=Load())), keyword(arg=\\'decompression_options\\', value=BinOp(left=Subscript(value=Name(id=\\'_shared_docs\\', ctx=Load()), slice=Constant(value=\\'decompression_options\\'), ctx=Load()), op=Mod(), right=Constant(value=\\'filepath_or_buffer\\')))])], keywords=[])'"
      ]
     },
     "execution_count": 113,
     "metadata": {},
     "output_type": "execute_result"
    }
   ],
   "source": [
    "ast.dump(node.decorator_list[0])"
   ]
  },
  {
   "cell_type": "code",
   "execution_count": 115,
   "metadata": {},
   "outputs": [],
   "source": [
    "c = node.decorator_list[0]"
   ]
  },
  {
   "cell_type": "code",
   "execution_count": 118,
   "metadata": {},
   "outputs": [
    {
     "data": {
      "text/plain": [
       "'Appender'"
      ]
     },
     "execution_count": 118,
     "metadata": {},
     "output_type": "execute_result"
    }
   ],
   "source": [
    "hasattr"
   ]
  },
  {
   "cell_type": "code",
   "execution_count": 121,
   "metadata": {},
   "outputs": [
    {
     "data": {
      "text/plain": [
       "'pandas.io.parsers.readers'"
      ]
     },
     "execution_count": 121,
     "metadata": {},
     "output_type": "execute_result"
    }
   ],
   "source": [
    "rc.__module__"
   ]
  },
  {
   "cell_type": "code",
   "execution_count": 125,
   "metadata": {},
   "outputs": [],
   "source": [
    "from minifympi.core.__init__ import a"
   ]
  },
  {
   "cell_type": "code",
   "execution_count": 128,
   "metadata": {},
   "outputs": [
    {
     "data": {
      "text/plain": [
       "'read_csv'"
      ]
     },
     "execution_count": 128,
     "metadata": {},
     "output_type": "execute_result"
    }
   ],
   "source": [
    "rc.__name__"
   ]
  },
  {
   "cell_type": "code",
   "execution_count": 129,
   "metadata": {},
   "outputs": [
    {
     "data": {
      "text/plain": [
       "'test'"
      ]
     },
     "execution_count": 129,
     "metadata": {},
     "output_type": "execute_result"
    }
   ],
   "source": [
    "test.__name__"
   ]
  },
  {
   "cell_type": "code",
   "execution_count": null,
   "metadata": {},
   "outputs": [],
   "source": []
  },
  {
   "cell_type": "code",
   "execution_count": 75,
   "metadata": {},
   "outputs": [
    {
     "data": {
      "text/plain": [
       "[\"Name(id='test2', ctx=Load())\"]"
      ]
     },
     "execution_count": 75,
     "metadata": {},
     "output_type": "execute_result"
    }
   ],
   "source": [
    "decorators"
   ]
  },
  {
   "cell_type": "code",
   "execution_count": 1,
   "metadata": {},
   "outputs": [],
   "source": [
    "import sys\n",
    "import numpy as np\n",
    "sys.path.append(\"/mnt/d/Python/minifympi/\")\n",
    "from minifympi.old_core import MinifyMPI\n",
    "from pandas.io.parsers.readers import read_csv as rc\n",
    "from functools import wraps, update_wrapper, reduce\n",
    "import ast, astor\n",
    "from textwrap import indent, dedent\n",
    "import inspect\n",
    "from minifympi.utils.code import *\n",
    "from numba import jit"
   ]
  },
  {
   "cell_type": "code",
   "execution_count": 2,
   "metadata": {},
   "outputs": [],
   "source": [
    "def test2(func):\n",
    "    return func\n",
    "\n",
    "@jit\n",
    "# @test2\n",
    "def test():\n",
    "    return 1 + 2"
   ]
  },
  {
   "cell_type": "code",
   "execution_count": 3,
   "metadata": {},
   "outputs": [
    {
     "name": "stdout",
     "output_type": "stream",
     "text": [
      "decs ['jit']\n",
      "decs []\n",
      "import numpy as np\n",
      "from numba.core.decorators import jit\n",
      "\n",
      "\n",
      "@jit\n",
      "# @test2\n",
      "def test():\n",
      "    return 1 + 2\n",
      "\n"
     ]
    }
   ],
   "source": [
    "print(get_source_with_requires(test, gs=globals(), requires={'np': np}))"
   ]
  },
  {
   "cell_type": "code",
   "execution_count": null,
   "metadata": {},
   "outputs": [],
   "source": []
  },
  {
   "cell_type": "code",
   "execution_count": 62,
   "metadata": {},
   "outputs": [],
   "source": [
    "from typing import Any\n",
    "\n",
    "\n",
    "class MPIVar:\n",
    "    '''\n",
    "    TODO - MPIVar 的展示\n",
    "    我们最好再Mpi类内维护一个metadata的字典，用于记录进程内变量的信息，\n",
    "    通过MPIVar来标记变量时，就会展示相关的信息，例如类型，大小和传输类型\n",
    "    等信息。\n",
    "    '''\n",
    "    def __init__(self, mmp, key) -> None:\n",
    "        self.mmp = mmp\n",
    "        self.key = key\n",
    "    \n",
    "\n",
    "    def __str__(self) -> str:\n",
    "        return f\"<<MPIVar> name='{self.key}'>\"\n",
    "    \n",
    "    def __repr__(self) -> str:\n",
    "        return self.__str__()\n",
    "\n",
    "\n",
    "class MMP:\n",
    "    gs = {'a': 1, 'b':2}\n",
    "    def __getitem__(self, keys):\n",
    "        '''\n",
    "        获取进程中的变量。这是一种标记符号，并不会放回进程里的数据。\n",
    "        仅在并行函数内作为参数使用，以及删除进程内数据时使用。\n",
    "        '''\n",
    "        _keys = keys\n",
    "        if isinstance(keys, str):\n",
    "            keys = (keys,)\n",
    "        elif not isinstance(keys, (list, tuple)):\n",
    "            raise KeyError(keys)\n",
    "        for key in keys:\n",
    "            if key not in self.gs:\n",
    "                raise KeyError(f'key `{key}` not Found.')\n",
    "\n",
    "        vars = tuple(MPIVar(self, key) for key in keys)            \n",
    "        if isinstance(_keys, str):\n",
    "            return vars[0]\n",
    "        else:\n",
    "            return vars\n",
    "        \n",
    "\n",
    "    def __setitem__(self, keys, values):\n",
    "        if isinstance(values, MPIFunction):\n",
    "            print(keys, values)\n",
    "            print(values.bound)\n",
    "            values.send_arguments()\n",
    "        else:\n",
    "            '''bcast'''\n",
    "\n",
    "\n",
    "    def parallel(self, func, gs=None, ignores=None, requires=None):\n",
    "        # if not self.is_main:\n",
    "        #     return func\n",
    "        code = get_source_with_requires(func, gs, ignores, requires)\n",
    "        print(code)\n",
    "        mpi_func = MPIFunction(self, func)\n",
    "        setattr(self, func.__code__.co_name, mpi_func)\n",
    "        update_wrapper(mpi_func, func)\n",
    "        return func\n",
    "    \n",
    "\n",
    "class MPIFunction:\n",
    "    def __init__(self, mmp, func):\n",
    "        self.mmp = mmp\n",
    "        self.func = func\n",
    "        self.bound = {}\n",
    "    \n",
    "    def __call__(self, *args: Any, **kwargs: Any) -> Any:\n",
    "        sig = inspect.signature(self.func)\n",
    "        bound = sig.bind(*args, **kwargs)\n",
    "        self.bound['pargs'] = bound.arguments\n",
    "        self.bound['args'] = {f'arg{i}': item for i, item in enumerate(bound.arguments.pop('args', {}))}\n",
    "        self.bound['kwargs'] = bound.arguments.pop('kwargs', {})\n",
    "        return self\n",
    "\n",
    "    def send_arguments(self):\n",
    "        resp = {}\n",
    "        for arg_type, dct in self.bound.items():\n",
    "            for key, value in dct.items():\n",
    "                if isinstance(value, MPIVar):\n",
    "                    print(key, value)\n",
    "                if isinstance(value, np.ndarray):\n",
    "                    self.mmp.Bcast(storage='ls', **{key: value})\n",
    "                else:\n",
    "                    self.mmp.bcast(storage='ls', **{key: value})\n",
    "\n"
   ]
  },
  {
   "cell_type": "code",
   "execution_count": 63,
   "metadata": {},
   "outputs": [
    {
     "name": "stdout",
     "output_type": "stream",
     "text": [
      "decs ['mmp.parallel']\n",
      "@mmp.parallel\n",
      "def test(a, b, *args, **kwargs):\n",
      "    print(a, b)\n",
      "\n",
      "a <__main__.MPIFunction object at 0x7f30b3ee8810>\n",
      "{'pargs': {'a': <<MPIVar> name='a'>, 'b': <<MPIVar> name='b'>}, 'args': {'arg0': 3}, 'kwargs': {'c': 4}}\n",
      "a <<MPIVar> name='a'>\n",
      "b <<MPIVar> name='b'>\n"
     ]
    }
   ],
   "source": [
    "mmp = MMP()\n",
    "@mmp.parallel\n",
    "def test(a, b, *args, **kwargs):\n",
    "    print(a, b)\n",
    "\n",
    "mmp['a'] = mmp.test(*mmp['a', 'b'], 3, c=4)"
   ]
  },
  {
   "cell_type": "code",
   "execution_count": 80,
   "metadata": {},
   "outputs": [],
   "source": [
    "arguments = {\n",
    "    'pargs': ['mmp.gs[\"a\"]', 'mmp.ls[\"b\"]'], \n",
    "    'args': ['mmp.ls[\"0\"]'], \n",
    "    'kwargs': ['key=mmp.ls[\"d\"]']\n",
    "}"
   ]
  },
  {
   "cell_type": "code",
   "execution_count": 81,
   "metadata": {},
   "outputs": [
    {
     "data": {
      "text/plain": [
       "'mmp.gs[\"a\"], mmp.ls[\"b\"], mmp.ls[\"0\"], key=mmp.ls[\"d\"], '"
      ]
     },
     "execution_count": 81,
     "metadata": {},
     "output_type": "execute_result"
    }
   ],
   "source": [
    "arguments_code = ''\n",
    "if 'pargs' in arguments:\n",
    "    arguments_code += ', '.join(arguments['pargs']) + ', '\n",
    "if 'args' in arguments:\n",
    "    arguments_code += ', '.join(arguments['args']) + ', '\n",
    "if 'kwargs' in arguments:\n",
    "    arguments_code += ', '.join(arguments['kwargs']) + ', '\n",
    "\n",
    "arguments_code"
   ]
  },
  {
   "cell_type": "code",
   "execution_count": 86,
   "metadata": {},
   "outputs": [],
   "source": [
    "from itertools import chain"
   ]
  },
  {
   "cell_type": "code",
   "execution_count": 96,
   "metadata": {},
   "outputs": [
    {
     "data": {
      "text/plain": [
       "'mmp.gs[\"a\"], mmp.ls[\"b\"], mmp.ls[\"0\"], key=mmp.ls[\"d\"]'"
      ]
     },
     "execution_count": 96,
     "metadata": {},
     "output_type": "execute_result"
    }
   ],
   "source": [
    "', '.join((chain(*arguments.values())))"
   ]
  },
  {
   "cell_type": "code",
   "execution_count": 21,
   "metadata": {},
   "outputs": [],
   "source": [
    "from numba import jit, types\n",
    "@jit\n",
    "def test(a, b, *args, **kwargs):\n",
    "    return a, b"
   ]
  },
  {
   "cell_type": "code",
   "execution_count": 20,
   "metadata": {},
   "outputs": [
    {
     "data": {
      "text/plain": [
       "(1, 2)"
      ]
     },
     "execution_count": 20,
     "metadata": {},
     "output_type": "execute_result"
    }
   ],
   "source": [
    "test(1, 2, 3, 4)"
   ]
  },
  {
   "cell_type": "code",
   "execution_count": null,
   "metadata": {},
   "outputs": [],
   "source": []
  },
  {
   "cell_type": "code",
   "execution_count": 1,
   "metadata": {},
   "outputs": [],
   "source": [
    "dct_annotations = {\n",
    "    's': 'scatter',\n",
    "    'S': 'Scatter',\n",
    "    'b': 'bcast',\n",
    "    'B': 'Bcast',\n",
    "    'g': 'gather',\n",
    "    'G': 'Gather',\n",
    "}"
   ]
  },
  {
   "cell_type": "code",
   "execution_count": 4,
   "metadata": {},
   "outputs": [],
   "source": []
  },
  {
   "cell_type": "code",
   "execution_count": 5,
   "metadata": {},
   "outputs": [
    {
     "data": {
      "text/plain": [
       "{'s': 'scatter',\n",
       " 'S': 'Scatter',\n",
       " 'b': 'bcast',\n",
       " 'B': 'Bcast',\n",
       " 'g': 'gather',\n",
       " 'G': 'Gather',\n",
       " 'scatter': 'scatter',\n",
       " 'Scatter': 'Scatter',\n",
       " 'bcast': 'bcast',\n",
       " 'Bcast': 'Bcast',\n",
       " 'gather': 'gather',\n",
       " 'Gather': 'Gather'}"
      ]
     },
     "execution_count": 5,
     "metadata": {},
     "output_type": "execute_result"
    }
   ],
   "source": [
    "dct_annotations"
   ]
  },
  {
   "cell_type": "code",
   "execution_count": 11,
   "metadata": {},
   "outputs": [
    {
     "data": {
      "text/plain": [
       "24.88888888888889"
      ]
     },
     "execution_count": 11,
     "metadata": {},
     "output_type": "execute_result"
    }
   ],
   "source": [
    "140*1024/60/60/1.6"
   ]
  },
  {
   "cell_type": "code",
   "execution_count": null,
   "metadata": {},
   "outputs": [],
   "source": []
  }
 ],
 "metadata": {
  "kernelspec": {
   "display_name": "mpi",
   "language": "python",
   "name": "mpi"
  },
  "language_info": {
   "codemirror_mode": {
    "name": "ipython",
    "version": 3
   },
   "file_extension": ".py",
   "mimetype": "text/x-python",
   "name": "python",
   "nbconvert_exporter": "python",
   "pygments_lexer": "ipython3",
   "version": "3.11.7"
  }
 },
 "nbformat": 4,
 "nbformat_minor": 2
}
