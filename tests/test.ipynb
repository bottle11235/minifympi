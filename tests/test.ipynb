{
 "cells": [
  {
   "cell_type": "code",
   "execution_count": null,
   "metadata": {},
   "outputs": [],
   "source": [
    "import sys\n",
    "import numpy as np\n",
    "sys.path.append(\"/mnt/d/Python/minifympi/\")\n",
    "from minifympi.wrappers import parallel, decorator2"
   ]
  },
  {
   "cell_type": "code",
   "execution_count": null,
   "metadata": {},
   "outputs": [],
   "source": [
    "n_procs = 4\n",
    "n_tasks = 10\n",
    "@parallel(n_procs, n_tasks)\n",
    "@decorator2\n",
    "def test(a:'S', b:'s', c=None, *args, **kwargs)->'G,g,g':\n",
    "    a *= 2\n",
    "    # a = np.sin(a)\n",
    "    print(c)\n",
    "    return a, b, c\n",
    "\n",
    "a = np.arange(n_tasks*2).reshape(n_tasks, -1)\n",
    "b = list(range(n_procs))\n",
    "c = np.arange(n_procs*2).reshape(n_procs, -1)\n",
    "returns = test(a, b, c, 5, 10, 11, d=3)\n",
    "print('returns', returns)"
   ]
  },
  {
   "cell_type": "code",
   "execution_count": null,
   "metadata": {},
   "outputs": [],
   "source": [
    "print('returns', returns)"
   ]
  },
  {
   "cell_type": "code",
   "execution_count": null,
   "metadata": {},
   "outputs": [],
   "source": []
  },
  {
   "cell_type": "code",
   "execution_count": null,
   "metadata": {},
   "outputs": [],
   "source": [
    "code = '''\n",
    "a = 2\n",
    "b = 3\n",
    "c = 1/0\n",
    "'''\n",
    "exec(code)"
   ]
  },
  {
   "cell_type": "code",
   "execution_count": null,
   "metadata": {},
   "outputs": [],
   "source": [
    "exec(code)"
   ]
  },
  {
   "cell_type": "code",
   "execution_count": null,
   "metadata": {},
   "outputs": [],
   "source": [
    "import traceback\n",
    "\n",
    "def test():\n",
    "    print(1/0)\n",
    "\n",
    "code = '''\n",
    "a = 2\n",
    "b = 3\n",
    "# test()\n",
    "c = 1/0\n",
    "'''\n",
    "code = compile(code, '<string>', 'exec')\n",
    "\n",
    "\n",
    "try:\n",
    "    exec(code)\n",
    "except Exception as e:\n",
    "    print(code)\n",
    "    traceback.print_exc()\n"
   ]
  },
  {
   "cell_type": "code",
   "execution_count": null,
   "metadata": {},
   "outputs": [],
   "source": [
    "exec(code)"
   ]
  },
  {
   "cell_type": "code",
   "execution_count": null,
   "metadata": {},
   "outputs": [],
   "source": [
    "%%writefile tmp.py\n",
    "def test():\n",
    "    print(1/0)\n",
    "    \n",
    "a = 2\n",
    "b = 3\n",
    "# test()\n",
    "c = e/0\n"
   ]
  },
  {
   "cell_type": "code",
   "execution_count": null,
   "metadata": {},
   "outputs": [],
   "source": []
  },
  {
   "cell_type": "code",
   "execution_count": 11,
   "metadata": {},
   "outputs": [
    {
     "name": "stdout",
     "output_type": "stream",
     "text": [
      "     \u001b[34m   1\u001b[39m \u001b[38;5;90;01mdef\u001b[39;00m \u001b[38;5;29mtest\u001b[39m():\n",
      "     \u001b[34m   2\u001b[39m     \u001b[38;5;64mprint\u001b[39m(\u001b[38;5;134m1\u001b[39m/\u001b[38;5;134m0\u001b[39m)\n",
      "     \u001b[34m   3\u001b[39m     \n",
      "     \u001b[34m   4\u001b[39m a = \u001b[38;5;134m2\u001b[39m\n",
      "     \u001b[34m   5\u001b[39m b = \u001b[38;5;134m3\u001b[39m\n",
      "     \u001b[34m   6\u001b[39m \u001b[38;5;28m# test()\u001b[39m\n",
      "\u001b[32m---->\u001b[34m   7\u001b[39m c = e/\u001b[38;5;134m0\u001b[39m\n",
      "     \u001b[34m   8\u001b[39m \n",
      "\n",
      "\u001b[31m---------------------------------------------------------------------------\u001b[39m\n",
      "Traceback (most recent call last):\n",
      "  File \u001b[38;5;167m\"\u001b[39m\u001b[38;5;167m/tmp/ipykernel_31472/2155288172.py\u001b[39m\u001b[38;5;167m\"\u001b[39m, line \u001b[38;5;134m17\u001b[39m, \u001b[38;5;90min\u001b[39m <module>\n",
      "    exec(code)\n",
      "  File \u001b[38;5;167m\"\u001b[39m\u001b[38;5;167mtmp.py\u001b[39m\u001b[38;5;167m\"\u001b[39m, line \u001b[38;5;134m7\u001b[39m, \u001b[38;5;90min\u001b[39m <module>\n",
      "    c = e/\u001b[38;5;134m0\u001b[39m\n",
      "        ^\n",
      "\u001b[38;5;29;01mNameError\u001b[39;00m: name \u001b[38;5;167m'\u001b[39m\u001b[38;5;167me\u001b[39m\u001b[38;5;167m'\u001b[39m \u001b[38;5;90mis\u001b[39m \u001b[38;5;90mnot\u001b[39m defined\n",
      "\n"
     ]
    }
   ],
   "source": [
    "import traceback\n",
    "from colorama import Fore, Back, Style\n",
    "from pygments import highlight\n",
    "from pygments.lexers import PythonLexer\n",
    "from pygments.formatters import Terminal256Formatter\n",
    "\n",
    "import re\n",
    "\n",
    "\n",
    "\n",
    "\n",
    "try:\n",
    "    filename = \"tmp.py\"\n",
    "    with open(filename, \"r\") as file:\n",
    "        source_code = file.read()\n",
    "    code = compile(source_code, filename, 'exec')\n",
    "    exec(code)\n",
    "except Exception as e:\n",
    "    style = 'perldoc'\n",
    "    exception_str = traceback.format_exc()\n",
    "    line_number = re.findall('File \"tmp.py\", line (\\d+),', exception_str)\n",
    "    line_number = int(line_number[-1])\n",
    "\n",
    "    highlighted_code = highlight(\n",
    "        source_code, \n",
    "        PythonLexer(), \n",
    "        Terminal256Formatter(style=style)\n",
    "    )\n",
    "\n",
    "    for number, line in enumerate(highlighted_code.split('\\n')):\n",
    "        number += 1\n",
    "        arrow = f'{Fore.GREEN}---->' if number == line_number else '     '\n",
    "        lineno = f'{arrow}{Fore.BLUE}{number:4d}{Fore.RESET}'\n",
    "        print(f'{lineno} {line}')\n",
    "        # number += 1\n",
    "    print()\n",
    "    print(f'{Fore.RED}{\"-\"*75}{Fore.RESET}')\n",
    "\n",
    "    highlighted_code = highlight(\n",
    "        exception_str, \n",
    "        PythonLexer(), \n",
    "        Terminal256Formatter(style=style)\n",
    "    )\n",
    "    print(highlighted_code)\n"
   ]
  },
  {
   "cell_type": "code",
   "execution_count": 7,
   "metadata": {},
   "outputs": [
    {
     "data": {
      "text/html": [
       "<pre style=\"white-space:pre;overflow-x:auto;line-height:normal;font-family:Menlo,'DejaVu Sans Mono',consolas,'Courier New',monospace\"><span style=\"color: #c1c0b8; text-decoration-color: #c1c0b8; background-color: #1d2331; font-weight: bold\">  </span><span style=\"color: #53575e; text-decoration-color: #53575e; background-color: #1d2331\">1 </span><span style=\"color: #ffad66; text-decoration-color: #ffad66; background-color: #1d2331\">def</span><span style=\"color: #d4d2c8; text-decoration-color: #d4d2c8; background-color: #1d2331\"> </span><span style=\"color: #ffd173; text-decoration-color: #ffd173; background-color: #1d2331\">test</span><span style=\"color: #d4d2c8; text-decoration-color: #d4d2c8; background-color: #1d2331\">():</span><span style=\"background-color: #1d2331\">                                                                 </span>\n",
       "<span style=\"color: #c1c0b8; text-decoration-color: #c1c0b8; background-color: #1d2331; font-weight: bold\">  </span><span style=\"color: #53575e; text-decoration-color: #53575e; background-color: #1d2331\">2 </span><span style=\"color: #d4d2c8; text-decoration-color: #d4d2c8; background-color: #1d2331\">    </span><span style=\"color: #ffd173; text-decoration-color: #ffd173; background-color: #1d2331\">print</span><span style=\"color: #d4d2c8; text-decoration-color: #d4d2c8; background-color: #1d2331\">(</span><span style=\"color: #dfbfff; text-decoration-color: #dfbfff; background-color: #1d2331\">1</span><span style=\"color: #ffad66; text-decoration-color: #ffad66; background-color: #1d2331\">/</span><span style=\"color: #dfbfff; text-decoration-color: #dfbfff; background-color: #1d2331\">0</span><span style=\"color: #d4d2c8; text-decoration-color: #d4d2c8; background-color: #1d2331\">)</span><span style=\"background-color: #1d2331\">                                                              </span>\n",
       "<span style=\"color: #c1c0b8; text-decoration-color: #c1c0b8; background-color: #1d2331; font-weight: bold\">  </span><span style=\"color: #53575e; text-decoration-color: #53575e; background-color: #1d2331\">3 </span><span style=\"color: #d4d2c8; text-decoration-color: #d4d2c8; background-color: #1d2331\">    </span><span style=\"background-color: #1d2331\">                                                                        </span>\n",
       "<span style=\"color: #c1c0b8; text-decoration-color: #c1c0b8; background-color: #1d2331; font-weight: bold\">  </span><span style=\"color: #53575e; text-decoration-color: #53575e; background-color: #1d2331\">4 </span><span style=\"color: #d4d2c8; text-decoration-color: #d4d2c8; background-color: #1d2331\">a </span><span style=\"color: #ffad66; text-decoration-color: #ffad66; background-color: #1d2331\">=</span><span style=\"color: #d4d2c8; text-decoration-color: #d4d2c8; background-color: #1d2331\"> </span><span style=\"color: #dfbfff; text-decoration-color: #dfbfff; background-color: #1d2331\">2</span><span style=\"background-color: #1d2331\">                                                                       </span>\n",
       "<span style=\"color: #c1c0b8; text-decoration-color: #c1c0b8; background-color: #1d2331; font-weight: bold\">  </span><span style=\"color: #53575e; text-decoration-color: #53575e; background-color: #1d2331\">5 </span><span style=\"color: #d4d2c8; text-decoration-color: #d4d2c8; background-color: #1d2331\">b </span><span style=\"color: #ffad66; text-decoration-color: #ffad66; background-color: #1d2331\">=</span><span style=\"color: #d4d2c8; text-decoration-color: #d4d2c8; background-color: #1d2331\"> </span><span style=\"color: #dfbfff; text-decoration-color: #dfbfff; background-color: #1d2331\">3</span><span style=\"background-color: #1d2331\">                                                                       </span>\n",
       "<span style=\"color: #c1c0b8; text-decoration-color: #c1c0b8; background-color: #1d2331; font-weight: bold\">  </span><span style=\"color: #53575e; text-decoration-color: #53575e; background-color: #1d2331\">6 </span><span style=\"color: #7e8aa1; text-decoration-color: #7e8aa1; background-color: #1d2331\"># test()</span><span style=\"background-color: #1d2331\">                                                                    </span>\n",
       "<span style=\"color: #c1c0b8; text-decoration-color: #c1c0b8; background-color: #1d2331; font-weight: bold\">  </span><span style=\"color: #53575e; text-decoration-color: #53575e; background-color: #1d2331\">7 </span><span style=\"color: #d4d2c8; text-decoration-color: #d4d2c8; background-color: #1d2331\">c </span><span style=\"color: #ffad66; text-decoration-color: #ffad66; background-color: #1d2331\">=</span><span style=\"color: #d4d2c8; text-decoration-color: #d4d2c8; background-color: #1d2331\"> e</span><span style=\"color: #ffad66; text-decoration-color: #ffad66; background-color: #1d2331\">/</span><span style=\"color: #dfbfff; text-decoration-color: #dfbfff; background-color: #1d2331\">0</span><span style=\"background-color: #1d2331\">                                                                     </span>\n",
       "<span style=\"color: #c1c0b8; text-decoration-color: #c1c0b8; background-color: #1d2331; font-weight: bold\">  </span><span style=\"color: #53575e; text-decoration-color: #53575e; background-color: #1d2331\">8 </span><span style=\"background-color: #1d2331\">                                                                            </span>\n",
       "</pre>\n"
      ],
      "text/plain": [
       "\u001b[1;38;2;193;192;184;48;2;29;35;49m  \u001b[0m\u001b[38;2;83;87;94;48;2;29;35;49m1 \u001b[0m\u001b[38;2;255;173;102;48;2;29;35;49mdef\u001b[0m\u001b[38;2;212;210;200;48;2;29;35;49m \u001b[0m\u001b[38;2;255;209;115;48;2;29;35;49mtest\u001b[0m\u001b[38;2;212;210;200;48;2;29;35;49m(\u001b[0m\u001b[38;2;212;210;200;48;2;29;35;49m)\u001b[0m\u001b[38;2;212;210;200;48;2;29;35;49m:\u001b[0m\u001b[48;2;29;35;49m                                                                 \u001b[0m\n",
       "\u001b[1;38;2;193;192;184;48;2;29;35;49m  \u001b[0m\u001b[38;2;83;87;94;48;2;29;35;49m2 \u001b[0m\u001b[38;2;212;210;200;48;2;29;35;49m    \u001b[0m\u001b[38;2;255;209;115;48;2;29;35;49mprint\u001b[0m\u001b[38;2;212;210;200;48;2;29;35;49m(\u001b[0m\u001b[38;2;223;191;255;48;2;29;35;49m1\u001b[0m\u001b[38;2;255;173;102;48;2;29;35;49m/\u001b[0m\u001b[38;2;223;191;255;48;2;29;35;49m0\u001b[0m\u001b[38;2;212;210;200;48;2;29;35;49m)\u001b[0m\u001b[48;2;29;35;49m                                                              \u001b[0m\n",
       "\u001b[1;38;2;193;192;184;48;2;29;35;49m  \u001b[0m\u001b[38;2;83;87;94;48;2;29;35;49m3 \u001b[0m\u001b[38;2;212;210;200;48;2;29;35;49m    \u001b[0m\u001b[48;2;29;35;49m                                                                        \u001b[0m\n",
       "\u001b[1;38;2;193;192;184;48;2;29;35;49m  \u001b[0m\u001b[38;2;83;87;94;48;2;29;35;49m4 \u001b[0m\u001b[38;2;212;210;200;48;2;29;35;49ma\u001b[0m\u001b[38;2;212;210;200;48;2;29;35;49m \u001b[0m\u001b[38;2;255;173;102;48;2;29;35;49m=\u001b[0m\u001b[38;2;212;210;200;48;2;29;35;49m \u001b[0m\u001b[38;2;223;191;255;48;2;29;35;49m2\u001b[0m\u001b[48;2;29;35;49m                                                                       \u001b[0m\n",
       "\u001b[1;38;2;193;192;184;48;2;29;35;49m  \u001b[0m\u001b[38;2;83;87;94;48;2;29;35;49m5 \u001b[0m\u001b[38;2;212;210;200;48;2;29;35;49mb\u001b[0m\u001b[38;2;212;210;200;48;2;29;35;49m \u001b[0m\u001b[38;2;255;173;102;48;2;29;35;49m=\u001b[0m\u001b[38;2;212;210;200;48;2;29;35;49m \u001b[0m\u001b[38;2;223;191;255;48;2;29;35;49m3\u001b[0m\u001b[48;2;29;35;49m                                                                       \u001b[0m\n",
       "\u001b[1;38;2;193;192;184;48;2;29;35;49m  \u001b[0m\u001b[38;2;83;87;94;48;2;29;35;49m6 \u001b[0m\u001b[38;2;126;138;161;48;2;29;35;49m# test()\u001b[0m\u001b[48;2;29;35;49m                                                                    \u001b[0m\n",
       "\u001b[1;38;2;193;192;184;48;2;29;35;49m  \u001b[0m\u001b[38;2;83;87;94;48;2;29;35;49m7 \u001b[0m\u001b[38;2;212;210;200;48;2;29;35;49mc\u001b[0m\u001b[38;2;212;210;200;48;2;29;35;49m \u001b[0m\u001b[38;2;255;173;102;48;2;29;35;49m=\u001b[0m\u001b[38;2;212;210;200;48;2;29;35;49m \u001b[0m\u001b[38;2;212;210;200;48;2;29;35;49me\u001b[0m\u001b[38;2;255;173;102;48;2;29;35;49m/\u001b[0m\u001b[38;2;223;191;255;48;2;29;35;49m0\u001b[0m\u001b[48;2;29;35;49m                                                                     \u001b[0m\n",
       "\u001b[1;38;2;193;192;184;48;2;29;35;49m  \u001b[0m\u001b[38;2;83;87;94;48;2;29;35;49m8 \u001b[0m\u001b[48;2;29;35;49m                                                                            \u001b[0m\n"
      ]
     },
     "metadata": {},
     "output_type": "display_data"
    },
    {
     "data": {
      "text/html": [
       "<pre style=\"white-space:pre;overflow-x:auto;line-height:normal;font-family:Menlo,'DejaVu Sans Mono',consolas,'Courier New',monospace\"><span style=\"color: #800000; text-decoration-color: #800000; background-color: #1d2331\">╭───────────────────── </span><span style=\"color: #800000; text-decoration-color: #800000; background-color: #1d2331; font-weight: bold\">Traceback </span><span style=\"color: #bf7f7f; text-decoration-color: #bf7f7f; background-color: #1d2331; font-weight: bold\">(most recent call last)</span><span style=\"color: #800000; text-decoration-color: #800000; background-color: #1d2331\"> ──────────────────────╮</span>\n",
       "<span style=\"color: #800000; text-decoration-color: #800000; background-color: #1d2331\">│</span><span style=\"background-color: #1d2331\"> </span><span style=\"color: #d4d2c8; text-decoration-color: #d4d2c8; background-color: #1d2331\">in </span><span style=\"color: #ffd173; text-decoration-color: #ffd173; background-color: #1d2331\">&lt;module&gt;</span><span style=\"color: #d4d2c8; text-decoration-color: #d4d2c8; background-color: #1d2331\">:</span><span style=\"color: #dfbfff; text-decoration-color: #dfbfff; background-color: #1d2331\">11</span><span style=\"background-color: #1d2331\">                                                               </span><span style=\"color: #800000; text-decoration-color: #800000; background-color: #1d2331\">│</span>\n",
       "<span style=\"color: #800000; text-decoration-color: #800000; background-color: #1d2331\">│</span><span style=\"background-color: #1d2331\">                                                                              </span><span style=\"color: #800000; text-decoration-color: #800000; background-color: #1d2331\">│</span>\n",
       "<span style=\"color: #800000; text-decoration-color: #800000; background-color: #1d2331\">│</span><span style=\"background-color: #1d2331\"> </span><span style=\"color: #c1c0b8; text-decoration-color: #c1c0b8; background-color: #1d2331; font-weight: bold\">  </span><span style=\"color: #53575e; text-decoration-color: #53575e; background-color: #1d2331\"> 8 </span><span style=\"color: #bec4d0; text-decoration-color: #bec4d0; background-color: #1d2331\">│   </span><span style=\"color: #ffad66; text-decoration-color: #ffad66; background-color: #1d2331\">with</span><span style=\"color: #d4d2c8; text-decoration-color: #d4d2c8; background-color: #1d2331\"> </span><span style=\"color: #ffd173; text-decoration-color: #ffd173; background-color: #1d2331\">open</span><span style=\"color: #d4d2c8; text-decoration-color: #d4d2c8; background-color: #1d2331\">(filename, </span><span style=\"color: #d5ff80; text-decoration-color: #d5ff80; background-color: #1d2331\">\"r\"</span><span style=\"color: #d4d2c8; text-decoration-color: #d4d2c8; background-color: #1d2331\">) </span><span style=\"color: #ffad66; text-decoration-color: #ffad66; background-color: #1d2331\">as</span><span style=\"color: #d4d2c8; text-decoration-color: #d4d2c8; background-color: #1d2331\"> file:</span><span style=\"background-color: #1d2331\">                                   </span><span style=\"color: #800000; text-decoration-color: #800000; background-color: #1d2331\">│</span>\n",
       "<span style=\"color: #800000; text-decoration-color: #800000; background-color: #1d2331\">│</span><span style=\"background-color: #1d2331\"> </span><span style=\"color: #c1c0b8; text-decoration-color: #c1c0b8; background-color: #1d2331; font-weight: bold\">  </span><span style=\"color: #53575e; text-decoration-color: #53575e; background-color: #1d2331\"> 9 </span><span style=\"color: #bec4d0; text-decoration-color: #bec4d0; background-color: #1d2331\">│   │   </span><span style=\"color: #d4d2c8; text-decoration-color: #d4d2c8; background-color: #1d2331\">source_code </span><span style=\"color: #ffad66; text-decoration-color: #ffad66; background-color: #1d2331\">=</span><span style=\"color: #d4d2c8; text-decoration-color: #d4d2c8; background-color: #1d2331\"> file</span><span style=\"color: #ffad66; text-decoration-color: #ffad66; background-color: #1d2331\">.</span><span style=\"color: #d4d2c8; text-decoration-color: #d4d2c8; background-color: #1d2331\">read()</span><span style=\"background-color: #1d2331\">                                       </span><span style=\"color: #800000; text-decoration-color: #800000; background-color: #1d2331\">│</span>\n",
       "<span style=\"color: #800000; text-decoration-color: #800000; background-color: #1d2331\">│</span><span style=\"background-color: #1d2331\"> </span><span style=\"color: #c1c0b8; text-decoration-color: #c1c0b8; background-color: #1d2331; font-weight: bold\">  </span><span style=\"color: #53575e; text-decoration-color: #53575e; background-color: #1d2331\">10 </span><span style=\"color: #bec4d0; text-decoration-color: #bec4d0; background-color: #1d2331\">│   </span><span style=\"color: #d4d2c8; text-decoration-color: #d4d2c8; background-color: #1d2331\">code </span><span style=\"color: #ffad66; text-decoration-color: #ffad66; background-color: #1d2331\">=</span><span style=\"color: #d4d2c8; text-decoration-color: #d4d2c8; background-color: #1d2331\"> </span><span style=\"color: #ffd173; text-decoration-color: #ffd173; background-color: #1d2331\">compile</span><span style=\"color: #d4d2c8; text-decoration-color: #d4d2c8; background-color: #1d2331\">(source_code, filename, </span><span style=\"color: #d5ff80; text-decoration-color: #d5ff80; background-color: #1d2331\">'exec'</span><span style=\"color: #d4d2c8; text-decoration-color: #d4d2c8; background-color: #1d2331\">)</span><span style=\"background-color: #1d2331\">                       </span><span style=\"color: #800000; text-decoration-color: #800000; background-color: #1d2331\">│</span>\n",
       "<span style=\"color: #800000; text-decoration-color: #800000; background-color: #1d2331\">│</span><span style=\"background-color: #1d2331\"> </span><span style=\"color: #800000; text-decoration-color: #800000; background-color: #1d2331\">❱ </span><span style=\"color: #c1c0b8; text-decoration-color: #c1c0b8; background-color: #1d2331; font-weight: bold\">11 </span><span style=\"color: #bec4d0; text-decoration-color: #bec4d0; background-color: #1d2331\">│   </span><span style=\"color: #d4d2c8; text-decoration-color: #d4d2c8; background-color: #1d2331\">exec(code)</span><span style=\"background-color: #1d2331\">                                                          </span><span style=\"color: #800000; text-decoration-color: #800000; background-color: #1d2331\">│</span>\n",
       "<span style=\"color: #800000; text-decoration-color: #800000; background-color: #1d2331\">│</span><span style=\"background-color: #1d2331\"> </span><span style=\"color: #c1c0b8; text-decoration-color: #c1c0b8; background-color: #1d2331; font-weight: bold\">  </span><span style=\"color: #53575e; text-decoration-color: #53575e; background-color: #1d2331\">12 </span><span style=\"color: #ffad66; text-decoration-color: #ffad66; background-color: #1d2331\">except</span><span style=\"color: #d4d2c8; text-decoration-color: #d4d2c8; background-color: #1d2331\"> </span><span style=\"color: #73d0ff; text-decoration-color: #73d0ff; background-color: #1d2331\">Exception</span><span style=\"color: #d4d2c8; text-decoration-color: #d4d2c8; background-color: #1d2331\"> </span><span style=\"color: #ffad66; text-decoration-color: #ffad66; background-color: #1d2331\">as</span><span style=\"color: #d4d2c8; text-decoration-color: #d4d2c8; background-color: #1d2331\"> e:</span><span style=\"background-color: #1d2331\">                                                  </span><span style=\"color: #800000; text-decoration-color: #800000; background-color: #1d2331\">│</span>\n",
       "<span style=\"color: #800000; text-decoration-color: #800000; background-color: #1d2331\">│</span><span style=\"background-color: #1d2331\"> </span><span style=\"color: #c1c0b8; text-decoration-color: #c1c0b8; background-color: #1d2331; font-weight: bold\">  </span><span style=\"color: #53575e; text-decoration-color: #53575e; background-color: #1d2331\">13 </span><span style=\"color: #bec4d0; text-decoration-color: #bec4d0; background-color: #1d2331\">│   </span><span style=\"color: #7e8aa1; text-decoration-color: #7e8aa1; background-color: #1d2331\">#LINK - for more style, please read https://pygments.org/styles/</span><span style=\"background-color: #1d2331\">    </span><span style=\"color: #800000; text-decoration-color: #800000; background-color: #1d2331\">│</span>\n",
       "<span style=\"color: #800000; text-decoration-color: #800000; background-color: #1d2331\">│</span><span style=\"background-color: #1d2331\"> </span><span style=\"color: #c1c0b8; text-decoration-color: #c1c0b8; background-color: #1d2331; font-weight: bold\">  </span><span style=\"color: #53575e; text-decoration-color: #53575e; background-color: #1d2331\">14 </span><span style=\"color: #bec4d0; text-decoration-color: #bec4d0; background-color: #1d2331\">│   </span><span style=\"color: #d4d2c8; text-decoration-color: #d4d2c8; background-color: #1d2331\">theme </span><span style=\"color: #ffad66; text-decoration-color: #ffad66; background-color: #1d2331\">=</span><span style=\"color: #d4d2c8; text-decoration-color: #d4d2c8; background-color: #1d2331\"> </span><span style=\"color: #d5ff80; text-decoration-color: #d5ff80; background-color: #1d2331\">'lightbulb'</span><span style=\"background-color: #1d2331\">                                                 </span><span style=\"color: #800000; text-decoration-color: #800000; background-color: #1d2331\">│</span>\n",
       "<span style=\"color: #800000; text-decoration-color: #800000; background-color: #1d2331\">│</span><span style=\"background-color: #1d2331\">                                                                              </span><span style=\"color: #800000; text-decoration-color: #800000; background-color: #1d2331\">│</span>\n",
       "<span style=\"color: #800000; text-decoration-color: #800000; background-color: #1d2331\">│</span><span style=\"background-color: #1d2331\"> </span><span style=\"color: #eaffbf; text-decoration-color: #eaffbf; background-color: #1d2331\">/mnt/d/Python/minifympi/tests/</span><span style=\"color: #d5ff80; text-decoration-color: #d5ff80; background-color: #1d2331; font-weight: bold\">tmp.py</span><span style=\"color: #d4d2c8; text-decoration-color: #d4d2c8; background-color: #1d2331\">:</span><span style=\"color: #dfbfff; text-decoration-color: #dfbfff; background-color: #1d2331\">7</span><span style=\"color: #d4d2c8; text-decoration-color: #d4d2c8; background-color: #1d2331\"> in </span><span style=\"color: #ffd173; text-decoration-color: #ffd173; background-color: #1d2331\">&lt;module&gt;</span><span style=\"background-color: #1d2331\">                           </span><span style=\"color: #800000; text-decoration-color: #800000; background-color: #1d2331\">│</span>\n",
       "<span style=\"color: #800000; text-decoration-color: #800000; background-color: #1d2331\">│</span><span style=\"background-color: #1d2331\">                                                                              </span><span style=\"color: #800000; text-decoration-color: #800000; background-color: #1d2331\">│</span>\n",
       "<span style=\"color: #800000; text-decoration-color: #800000; background-color: #1d2331\">│</span><span style=\"background-color: #1d2331\"> </span><span style=\"color: #c1c0b8; text-decoration-color: #c1c0b8; background-color: #1d2331; font-weight: bold\">  </span><span style=\"color: #53575e; text-decoration-color: #53575e; background-color: #1d2331\">4 </span><span style=\"color: #d4d2c8; text-decoration-color: #d4d2c8; background-color: #1d2331\">a </span><span style=\"color: #ffad66; text-decoration-color: #ffad66; background-color: #1d2331\">=</span><span style=\"color: #d4d2c8; text-decoration-color: #d4d2c8; background-color: #1d2331\"> </span><span style=\"color: #dfbfff; text-decoration-color: #dfbfff; background-color: #1d2331\">2</span><span style=\"background-color: #1d2331\">                                                                    </span><span style=\"color: #800000; text-decoration-color: #800000; background-color: #1d2331\">│</span>\n",
       "<span style=\"color: #800000; text-decoration-color: #800000; background-color: #1d2331\">│</span><span style=\"background-color: #1d2331\"> </span><span style=\"color: #c1c0b8; text-decoration-color: #c1c0b8; background-color: #1d2331; font-weight: bold\">  </span><span style=\"color: #53575e; text-decoration-color: #53575e; background-color: #1d2331\">5 </span><span style=\"color: #d4d2c8; text-decoration-color: #d4d2c8; background-color: #1d2331\">b </span><span style=\"color: #ffad66; text-decoration-color: #ffad66; background-color: #1d2331\">=</span><span style=\"color: #d4d2c8; text-decoration-color: #d4d2c8; background-color: #1d2331\"> </span><span style=\"color: #dfbfff; text-decoration-color: #dfbfff; background-color: #1d2331\">3</span><span style=\"background-color: #1d2331\">                                                                    </span><span style=\"color: #800000; text-decoration-color: #800000; background-color: #1d2331\">│</span>\n",
       "<span style=\"color: #800000; text-decoration-color: #800000; background-color: #1d2331\">│</span><span style=\"background-color: #1d2331\"> </span><span style=\"color: #c1c0b8; text-decoration-color: #c1c0b8; background-color: #1d2331; font-weight: bold\">  </span><span style=\"color: #53575e; text-decoration-color: #53575e; background-color: #1d2331\">6 </span><span style=\"color: #7e8aa1; text-decoration-color: #7e8aa1; background-color: #1d2331\"># test()</span><span style=\"background-color: #1d2331\">                                                                 </span><span style=\"color: #800000; text-decoration-color: #800000; background-color: #1d2331\">│</span>\n",
       "<span style=\"color: #800000; text-decoration-color: #800000; background-color: #1d2331\">│</span><span style=\"background-color: #1d2331\"> </span><span style=\"color: #800000; text-decoration-color: #800000; background-color: #1d2331\">❱ </span><span style=\"color: #c1c0b8; text-decoration-color: #c1c0b8; background-color: #1d2331; font-weight: bold\">7 </span><span style=\"color: #d4d2c8; text-decoration-color: #d4d2c8; background-color: #1d2331\">c </span><span style=\"color: #ffad66; text-decoration-color: #ffad66; background-color: #1d2331\">=</span><span style=\"color: #d4d2c8; text-decoration-color: #d4d2c8; background-color: #1d2331\"> e</span><span style=\"color: #ffad66; text-decoration-color: #ffad66; background-color: #1d2331\">/</span><span style=\"color: #dfbfff; text-decoration-color: #dfbfff; background-color: #1d2331\">0</span><span style=\"background-color: #1d2331\">                                                                  </span><span style=\"color: #800000; text-decoration-color: #800000; background-color: #1d2331\">│</span>\n",
       "<span style=\"color: #800000; text-decoration-color: #800000; background-color: #1d2331\">│</span><span style=\"background-color: #1d2331\"> </span><span style=\"color: #c1c0b8; text-decoration-color: #c1c0b8; background-color: #1d2331; font-weight: bold\">  </span><span style=\"color: #53575e; text-decoration-color: #53575e; background-color: #1d2331\">8 </span><span style=\"background-color: #1d2331\">                                                                         </span><span style=\"color: #800000; text-decoration-color: #800000; background-color: #1d2331\">│</span>\n",
       "<span style=\"color: #800000; text-decoration-color: #800000; background-color: #1d2331\">╰──────────────────────────────────────────────────────────────────────────────╯</span>\n",
       "<span style=\"color: #ff0000; text-decoration-color: #ff0000; font-weight: bold\">NameError: </span>name <span style=\"color: #008000; text-decoration-color: #008000\">'e'</span> is not defined\n",
       "</pre>\n"
      ],
      "text/plain": [
       "\u001b[31;48;2;29;35;49m╭─\u001b[0m\u001b[31;48;2;29;35;49m────────────────────\u001b[0m\u001b[31;48;2;29;35;49m \u001b[0m\u001b[1;31;48;2;29;35;49mTraceback \u001b[0m\u001b[1;2;31;48;2;29;35;49m(most recent call last)\u001b[0m\u001b[31;48;2;29;35;49m \u001b[0m\u001b[31;48;2;29;35;49m─────────────────────\u001b[0m\u001b[31;48;2;29;35;49m─╮\u001b[0m\n",
       "\u001b[31;48;2;29;35;49m│\u001b[0m\u001b[48;2;29;35;49m \u001b[0m\u001b[38;2;212;210;200;48;2;29;35;49min \u001b[0m\u001b[38;2;255;209;115;48;2;29;35;49m<module>\u001b[0m\u001b[38;2;212;210;200;48;2;29;35;49m:\u001b[0m\u001b[38;2;223;191;255;48;2;29;35;49m11\u001b[0m\u001b[48;2;29;35;49m                                                              \u001b[0m\u001b[48;2;29;35;49m \u001b[0m\u001b[31;48;2;29;35;49m│\u001b[0m\n",
       "\u001b[31;48;2;29;35;49m│\u001b[0m\u001b[48;2;29;35;49m \u001b[0m\u001b[48;2;29;35;49m                                                                            \u001b[0m\u001b[48;2;29;35;49m \u001b[0m\u001b[31;48;2;29;35;49m│\u001b[0m\n",
       "\u001b[31;48;2;29;35;49m│\u001b[0m\u001b[48;2;29;35;49m \u001b[0m\u001b[1;38;2;193;192;184;48;2;29;35;49m  \u001b[0m\u001b[38;2;83;87;94;48;2;29;35;49m 8 \u001b[0m\u001b[2;38;2;126;138;161;48;2;29;35;49m│   \u001b[0m\u001b[38;2;255;173;102;48;2;29;35;49mwith\u001b[0m\u001b[38;2;212;210;200;48;2;29;35;49m \u001b[0m\u001b[38;2;255;209;115;48;2;29;35;49mopen\u001b[0m\u001b[38;2;212;210;200;48;2;29;35;49m(\u001b[0m\u001b[38;2;212;210;200;48;2;29;35;49mfilename\u001b[0m\u001b[38;2;212;210;200;48;2;29;35;49m,\u001b[0m\u001b[38;2;212;210;200;48;2;29;35;49m \u001b[0m\u001b[38;2;213;255;128;48;2;29;35;49m\"\u001b[0m\u001b[38;2;213;255;128;48;2;29;35;49mr\u001b[0m\u001b[38;2;213;255;128;48;2;29;35;49m\"\u001b[0m\u001b[38;2;212;210;200;48;2;29;35;49m)\u001b[0m\u001b[38;2;212;210;200;48;2;29;35;49m \u001b[0m\u001b[38;2;255;173;102;48;2;29;35;49mas\u001b[0m\u001b[38;2;212;210;200;48;2;29;35;49m \u001b[0m\u001b[38;2;212;210;200;48;2;29;35;49mfile\u001b[0m\u001b[38;2;212;210;200;48;2;29;35;49m:\u001b[0m\u001b[48;2;29;35;49m                                  \u001b[0m\u001b[48;2;29;35;49m \u001b[0m\u001b[31;48;2;29;35;49m│\u001b[0m\n",
       "\u001b[31;48;2;29;35;49m│\u001b[0m\u001b[48;2;29;35;49m \u001b[0m\u001b[1;38;2;193;192;184;48;2;29;35;49m  \u001b[0m\u001b[38;2;83;87;94;48;2;29;35;49m 9 \u001b[0m\u001b[2;38;2;126;138;161;48;2;29;35;49m│   │   \u001b[0m\u001b[38;2;212;210;200;48;2;29;35;49msource_code\u001b[0m\u001b[38;2;212;210;200;48;2;29;35;49m \u001b[0m\u001b[38;2;255;173;102;48;2;29;35;49m=\u001b[0m\u001b[38;2;212;210;200;48;2;29;35;49m \u001b[0m\u001b[38;2;212;210;200;48;2;29;35;49mfile\u001b[0m\u001b[38;2;255;173;102;48;2;29;35;49m.\u001b[0m\u001b[38;2;212;210;200;48;2;29;35;49mread\u001b[0m\u001b[38;2;212;210;200;48;2;29;35;49m(\u001b[0m\u001b[38;2;212;210;200;48;2;29;35;49m)\u001b[0m\u001b[48;2;29;35;49m                                      \u001b[0m\u001b[48;2;29;35;49m \u001b[0m\u001b[31;48;2;29;35;49m│\u001b[0m\n",
       "\u001b[31;48;2;29;35;49m│\u001b[0m\u001b[48;2;29;35;49m \u001b[0m\u001b[1;38;2;193;192;184;48;2;29;35;49m  \u001b[0m\u001b[38;2;83;87;94;48;2;29;35;49m10 \u001b[0m\u001b[2;38;2;126;138;161;48;2;29;35;49m│   \u001b[0m\u001b[38;2;212;210;200;48;2;29;35;49mcode\u001b[0m\u001b[38;2;212;210;200;48;2;29;35;49m \u001b[0m\u001b[38;2;255;173;102;48;2;29;35;49m=\u001b[0m\u001b[38;2;212;210;200;48;2;29;35;49m \u001b[0m\u001b[38;2;255;209;115;48;2;29;35;49mcompile\u001b[0m\u001b[38;2;212;210;200;48;2;29;35;49m(\u001b[0m\u001b[38;2;212;210;200;48;2;29;35;49msource_code\u001b[0m\u001b[38;2;212;210;200;48;2;29;35;49m,\u001b[0m\u001b[38;2;212;210;200;48;2;29;35;49m \u001b[0m\u001b[38;2;212;210;200;48;2;29;35;49mfilename\u001b[0m\u001b[38;2;212;210;200;48;2;29;35;49m,\u001b[0m\u001b[38;2;212;210;200;48;2;29;35;49m \u001b[0m\u001b[38;2;213;255;128;48;2;29;35;49m'\u001b[0m\u001b[38;2;213;255;128;48;2;29;35;49mexec\u001b[0m\u001b[38;2;213;255;128;48;2;29;35;49m'\u001b[0m\u001b[38;2;212;210;200;48;2;29;35;49m)\u001b[0m\u001b[48;2;29;35;49m                      \u001b[0m\u001b[48;2;29;35;49m \u001b[0m\u001b[31;48;2;29;35;49m│\u001b[0m\n",
       "\u001b[31;48;2;29;35;49m│\u001b[0m\u001b[48;2;29;35;49m \u001b[0m\u001b[31;48;2;29;35;49m❱ \u001b[0m\u001b[1;38;2;193;192;184;48;2;29;35;49m11 \u001b[0m\u001b[2;38;2;126;138;161;48;2;29;35;49m│   \u001b[0m\u001b[38;2;212;210;200;48;2;29;35;49mexec\u001b[0m\u001b[38;2;212;210;200;48;2;29;35;49m(\u001b[0m\u001b[38;2;212;210;200;48;2;29;35;49mcode\u001b[0m\u001b[38;2;212;210;200;48;2;29;35;49m)\u001b[0m\u001b[48;2;29;35;49m                                                         \u001b[0m\u001b[48;2;29;35;49m \u001b[0m\u001b[31;48;2;29;35;49m│\u001b[0m\n",
       "\u001b[31;48;2;29;35;49m│\u001b[0m\u001b[48;2;29;35;49m \u001b[0m\u001b[1;38;2;193;192;184;48;2;29;35;49m  \u001b[0m\u001b[38;2;83;87;94;48;2;29;35;49m12 \u001b[0m\u001b[38;2;255;173;102;48;2;29;35;49mexcept\u001b[0m\u001b[38;2;212;210;200;48;2;29;35;49m \u001b[0m\u001b[38;2;115;208;255;48;2;29;35;49mException\u001b[0m\u001b[38;2;212;210;200;48;2;29;35;49m \u001b[0m\u001b[38;2;255;173;102;48;2;29;35;49mas\u001b[0m\u001b[38;2;212;210;200;48;2;29;35;49m \u001b[0m\u001b[38;2;212;210;200;48;2;29;35;49me\u001b[0m\u001b[38;2;212;210;200;48;2;29;35;49m:\u001b[0m\u001b[48;2;29;35;49m                                                 \u001b[0m\u001b[48;2;29;35;49m \u001b[0m\u001b[31;48;2;29;35;49m│\u001b[0m\n",
       "\u001b[31;48;2;29;35;49m│\u001b[0m\u001b[48;2;29;35;49m \u001b[0m\u001b[1;38;2;193;192;184;48;2;29;35;49m  \u001b[0m\u001b[38;2;83;87;94;48;2;29;35;49m13 \u001b[0m\u001b[2;38;2;126;138;161;48;2;29;35;49m│   \u001b[0m\u001b[38;2;126;138;161;48;2;29;35;49m#LINK - for more style, please read https://pygments.org/styles/\u001b[0m\u001b[48;2;29;35;49m   \u001b[0m\u001b[48;2;29;35;49m \u001b[0m\u001b[31;48;2;29;35;49m│\u001b[0m\n",
       "\u001b[31;48;2;29;35;49m│\u001b[0m\u001b[48;2;29;35;49m \u001b[0m\u001b[1;38;2;193;192;184;48;2;29;35;49m  \u001b[0m\u001b[38;2;83;87;94;48;2;29;35;49m14 \u001b[0m\u001b[2;38;2;126;138;161;48;2;29;35;49m│   \u001b[0m\u001b[38;2;212;210;200;48;2;29;35;49mtheme\u001b[0m\u001b[38;2;212;210;200;48;2;29;35;49m \u001b[0m\u001b[38;2;255;173;102;48;2;29;35;49m=\u001b[0m\u001b[38;2;212;210;200;48;2;29;35;49m \u001b[0m\u001b[38;2;213;255;128;48;2;29;35;49m'\u001b[0m\u001b[38;2;213;255;128;48;2;29;35;49mlightbulb\u001b[0m\u001b[38;2;213;255;128;48;2;29;35;49m'\u001b[0m\u001b[48;2;29;35;49m                                                \u001b[0m\u001b[48;2;29;35;49m \u001b[0m\u001b[31;48;2;29;35;49m│\u001b[0m\n",
       "\u001b[31;48;2;29;35;49m│\u001b[0m\u001b[48;2;29;35;49m \u001b[0m\u001b[48;2;29;35;49m                                                                            \u001b[0m\u001b[48;2;29;35;49m \u001b[0m\u001b[31;48;2;29;35;49m│\u001b[0m\n",
       "\u001b[31;48;2;29;35;49m│\u001b[0m\u001b[48;2;29;35;49m \u001b[0m\u001b[2;38;2;213;255;128;48;2;29;35;49m/mnt/d/Python/minifympi/tests/\u001b[0m\u001b[1;38;2;213;255;128;48;2;29;35;49mtmp.py\u001b[0m\u001b[38;2;212;210;200;48;2;29;35;49m:\u001b[0m\u001b[38;2;223;191;255;48;2;29;35;49m7\u001b[0m\u001b[38;2;212;210;200;48;2;29;35;49m in \u001b[0m\u001b[38;2;255;209;115;48;2;29;35;49m<module>\u001b[0m\u001b[48;2;29;35;49m                          \u001b[0m\u001b[48;2;29;35;49m \u001b[0m\u001b[31;48;2;29;35;49m│\u001b[0m\n",
       "\u001b[31;48;2;29;35;49m│\u001b[0m\u001b[48;2;29;35;49m \u001b[0m\u001b[48;2;29;35;49m                                                                            \u001b[0m\u001b[48;2;29;35;49m \u001b[0m\u001b[31;48;2;29;35;49m│\u001b[0m\n",
       "\u001b[31;48;2;29;35;49m│\u001b[0m\u001b[48;2;29;35;49m \u001b[0m\u001b[1;38;2;193;192;184;48;2;29;35;49m  \u001b[0m\u001b[38;2;83;87;94;48;2;29;35;49m4 \u001b[0m\u001b[38;2;212;210;200;48;2;29;35;49ma\u001b[0m\u001b[38;2;212;210;200;48;2;29;35;49m \u001b[0m\u001b[38;2;255;173;102;48;2;29;35;49m=\u001b[0m\u001b[38;2;212;210;200;48;2;29;35;49m \u001b[0m\u001b[38;2;223;191;255;48;2;29;35;49m2\u001b[0m\u001b[48;2;29;35;49m                                                                   \u001b[0m\u001b[48;2;29;35;49m \u001b[0m\u001b[31;48;2;29;35;49m│\u001b[0m\n",
       "\u001b[31;48;2;29;35;49m│\u001b[0m\u001b[48;2;29;35;49m \u001b[0m\u001b[1;38;2;193;192;184;48;2;29;35;49m  \u001b[0m\u001b[38;2;83;87;94;48;2;29;35;49m5 \u001b[0m\u001b[38;2;212;210;200;48;2;29;35;49mb\u001b[0m\u001b[38;2;212;210;200;48;2;29;35;49m \u001b[0m\u001b[38;2;255;173;102;48;2;29;35;49m=\u001b[0m\u001b[38;2;212;210;200;48;2;29;35;49m \u001b[0m\u001b[38;2;223;191;255;48;2;29;35;49m3\u001b[0m\u001b[48;2;29;35;49m                                                                   \u001b[0m\u001b[48;2;29;35;49m \u001b[0m\u001b[31;48;2;29;35;49m│\u001b[0m\n",
       "\u001b[31;48;2;29;35;49m│\u001b[0m\u001b[48;2;29;35;49m \u001b[0m\u001b[1;38;2;193;192;184;48;2;29;35;49m  \u001b[0m\u001b[38;2;83;87;94;48;2;29;35;49m6 \u001b[0m\u001b[38;2;126;138;161;48;2;29;35;49m# test()\u001b[0m\u001b[48;2;29;35;49m                                                                \u001b[0m\u001b[48;2;29;35;49m \u001b[0m\u001b[31;48;2;29;35;49m│\u001b[0m\n",
       "\u001b[31;48;2;29;35;49m│\u001b[0m\u001b[48;2;29;35;49m \u001b[0m\u001b[31;48;2;29;35;49m❱ \u001b[0m\u001b[1;38;2;193;192;184;48;2;29;35;49m7 \u001b[0m\u001b[38;2;212;210;200;48;2;29;35;49mc\u001b[0m\u001b[38;2;212;210;200;48;2;29;35;49m \u001b[0m\u001b[38;2;255;173;102;48;2;29;35;49m=\u001b[0m\u001b[38;2;212;210;200;48;2;29;35;49m \u001b[0m\u001b[38;2;212;210;200;48;2;29;35;49me\u001b[0m\u001b[38;2;255;173;102;48;2;29;35;49m/\u001b[0m\u001b[38;2;223;191;255;48;2;29;35;49m0\u001b[0m\u001b[48;2;29;35;49m                                                                 \u001b[0m\u001b[48;2;29;35;49m \u001b[0m\u001b[31;48;2;29;35;49m│\u001b[0m\n",
       "\u001b[31;48;2;29;35;49m│\u001b[0m\u001b[48;2;29;35;49m \u001b[0m\u001b[1;38;2;193;192;184;48;2;29;35;49m  \u001b[0m\u001b[38;2;83;87;94;48;2;29;35;49m8 \u001b[0m\u001b[48;2;29;35;49m                                                                        \u001b[0m\u001b[48;2;29;35;49m \u001b[0m\u001b[31;48;2;29;35;49m│\u001b[0m\n",
       "\u001b[31;48;2;29;35;49m╰──────────────────────────────────────────────────────────────────────────────╯\u001b[0m\n",
       "\u001b[1;91mNameError: \u001b[0mname \u001b[32m'e'\u001b[0m is not defined\n"
      ]
     },
     "metadata": {},
     "output_type": "display_data"
    }
   ],
   "source": [
    "from rich.syntax import Syntax\n",
    "from rich.console import Console\n",
    "from rich.theme import Theme\n",
    "\n",
    "\n",
    "try:\n",
    "    filename = \"tmp.py\"\n",
    "    with open(filename, \"r\") as file:\n",
    "        source_code = file.read()\n",
    "    code = compile(source_code, filename, 'exec')\n",
    "    exec(code)\n",
    "except Exception as e:\n",
    "    #LINK - for more style, please read https://pygments.org/styles/\n",
    "    theme = 'lightbulb'\n",
    "    width = 80\n",
    "    console = Console()\n",
    "    syntax = Syntax(source_code, \"python\", theme=theme, line_numbers=True)\n",
    "    console.print(syntax, width=width)\n",
    "    console.print_exception(theme=theme, width=width)\n",
    "    # s = console.format_exception(e)\n",
    "    # print(e)\n"
   ]
  },
  {
   "cell_type": "code",
   "execution_count": 6,
   "metadata": {},
   "outputs": [
    {
     "data": {
      "text/plain": [
       "<console width=115 ColorSystem.TRUECOLOR>"
      ]
     },
     "execution_count": 6,
     "metadata": {},
     "output_type": "execute_result"
    }
   ],
   "source": [
    "console"
   ]
  },
  {
   "cell_type": "code",
   "execution_count": null,
   "metadata": {},
   "outputs": [],
   "source": []
  },
  {
   "cell_type": "code",
   "execution_count": null,
   "metadata": {},
   "outputs": [],
   "source": []
  },
  {
   "cell_type": "code",
   "execution_count": 1,
   "metadata": {},
   "outputs": [],
   "source": [
    "import os"
   ]
  },
  {
   "cell_type": "code",
   "execution_count": 3,
   "metadata": {},
   "outputs": [
    {
     "data": {
      "text/plain": [
       "'/mnt/d'"
      ]
     },
     "execution_count": 3,
     "metadata": {},
     "output_type": "execute_result"
    }
   ],
   "source": [
    "os.path.dirname('/mnt/d/test.py')"
   ]
  },
  {
   "cell_type": "code",
   "execution_count": null,
   "metadata": {},
   "outputs": [],
   "source": []
  },
  {
   "cell_type": "code",
   "execution_count": null,
   "metadata": {},
   "outputs": [],
   "source": [
    "exec(code)"
   ]
  },
  {
   "cell_type": "code",
   "execution_count": 8,
   "metadata": {},
   "outputs": [
    {
     "data": {
      "text/html": [
       "<pre style=\"white-space:pre;overflow-x:auto;line-height:normal;font-family:Menlo,'DejaVu Sans Mono',consolas,'Courier New',monospace\">Traceback <span style=\"font-weight: bold\">(</span>most recent call last<span style=\"font-weight: bold\">)</span>:\n",
       "  File <span style=\"color: #008000; text-decoration-color: #008000\">\"/tmp/ipykernel_471/948580055.py\"</span>, line <span style=\"color: #008080; text-decoration-color: #008080; font-weight: bold\">10</span>, in <span style=\"font-weight: bold\">&lt;</span><span style=\"color: #ff00ff; text-decoration-color: #ff00ff; font-weight: bold\">module</span><span style=\"font-weight: bold\">&gt;</span>\n",
       "    c = <span style=\"color: #008080; text-decoration-color: #008080; font-weight: bold\">1</span> <span style=\"color: #800080; text-decoration-color: #800080\">/</span> <span style=\"color: #008080; text-decoration-color: #008080; font-weight: bold\">0</span>\n",
       "        ~~^~~\n",
       "ZeroDivisionError: division by zero\n",
       "\n",
       "</pre>\n"
      ],
      "text/plain": [
       "Traceback \u001b[1m(\u001b[0mmost recent call last\u001b[1m)\u001b[0m:\n",
       "  File \u001b[32m\"/tmp/ipykernel_471/948580055.py\"\u001b[0m, line \u001b[1;36m10\u001b[0m, in \u001b[1m<\u001b[0m\u001b[1;95mmodule\u001b[0m\u001b[1m>\u001b[0m\n",
       "    c = \u001b[1;36m1\u001b[0m \u001b[35m/\u001b[0m \u001b[1;36m0\u001b[0m\n",
       "        ~~^~~\n",
       "ZeroDivisionError: division by zero\n",
       "\n"
      ]
     },
     "metadata": {},
     "output_type": "display_data"
    }
   ],
   "source": [
    "import traceback\n",
    "from rich import traceback as rich_traceback\n",
    "from rich import print\n",
    "\n",
    "# 替换标准库中的 traceback 模块\n",
    "# rich_traceback.install()\n",
    "\n",
    "try:\n",
    "    # 引发一个异常\n",
    "    c = 1 / 0\n",
    "except ZeroDivisionError:\n",
    "    # 打印 traceback 信息\n",
    "    traceback_str = traceback.format_exc()\n",
    "    print(traceback_str)\n"
   ]
  },
  {
   "cell_type": "code",
   "execution_count": null,
   "metadata": {},
   "outputs": [],
   "source": [
    "lambda: (njit, )"
   ]
  },
  {
   "cell_type": "code",
   "execution_count": null,
   "metadata": {},
   "outputs": [],
   "source": []
  },
  {
   "cell_type": "code",
   "execution_count": null,
   "metadata": {},
   "outputs": [],
   "source": []
  },
  {
   "cell_type": "code",
   "execution_count": null,
   "metadata": {},
   "outputs": [],
   "source": []
  },
  {
   "cell_type": "code",
   "execution_count": null,
   "metadata": {},
   "outputs": [],
   "source": [
    "from rich.syntax import Syntax\n",
    "\n",
    "my_code = '''\n",
    "def iter_first_last(values: Iterable[T]) -&gt; Iterable[Tuple[bool, bool, T]]:\n",
    "    \"\"\"Iterate and generate a tuple with a flag for first and last value.\"\"\"\n",
    "    iter_values = iter(values)\n",
    "    try:\n",
    "        previous_value = next(iter_values)\n",
    "    except StopIteration:\n",
    "        return\n",
    "    first = True\n",
    "    for value in iter_values:\n",
    "        yield first, False, previous_value\n",
    "        first = False\n",
    "        previous_value = value\n",
    "    yield first, True, previous_value\n",
    "'''\n",
    "syntax = Syntax(my_code, \"python\", theme=\"monokai\", line_numbers=True)\n",
    "print(syntax)"
   ]
  },
  {
   "cell_type": "code",
   "execution_count": null,
   "metadata": {},
   "outputs": [],
   "source": [
    "import rich"
   ]
  },
  {
   "cell_type": "code",
   "execution_count": null,
   "metadata": {},
   "outputs": [],
   "source": []
  },
  {
   "cell_type": "code",
   "execution_count": null,
   "metadata": {},
   "outputs": [],
   "source": []
  },
  {
   "cell_type": "code",
   "execution_count": null,
   "metadata": {},
   "outputs": [],
   "source": []
  },
  {
   "cell_type": "code",
   "execution_count": null,
   "metadata": {},
   "outputs": [],
   "source": []
  },
  {
   "cell_type": "code",
   "execution_count": null,
   "metadata": {},
   "outputs": [],
   "source": [
    "from pygments import highlight\n",
    "from pygments.lexers import PythonLexer\n",
    "from pygments.formatters import Terminal256Formatter\n"
   ]
  },
  {
   "cell_type": "code",
   "execution_count": null,
   "metadata": {},
   "outputs": [],
   "source": [
    "highlighted_code = highlight(\n",
    "    s, \n",
    "    PythonLexer(), \n",
    "    Terminal256Formatter(style='default')\n",
    ")\n",
    "print(highlighted_code)"
   ]
  },
  {
   "cell_type": "code",
   "execution_count": 10,
   "metadata": {},
   "outputs": [
    {
     "data": {
      "text/html": [
       "<pre style=\"white-space:pre;overflow-x:auto;line-height:normal;font-family:Menlo,'DejaVu Sans Mono',consolas,'Courier New',monospace\"><span style=\"color: #ffff00; text-decoration-color: #ffff00\">3c605801-0819-430d-8d5a-d22760830c05</span>\n",
       "</pre>\n"
      ],
      "text/plain": [
       "\u001b[93m3c605801-0819-430d-8d5a-d22760830c05\u001b[0m\n"
      ]
     },
     "metadata": {},
     "output_type": "display_data"
    }
   ],
   "source": [
    "import uuid\n",
    "\n",
    "random_uuid = uuid.uuid4()\n",
    "print(random_uuid)\n"
   ]
  },
  {
   "cell_type": "code",
   "execution_count": 15,
   "metadata": {},
   "outputs": [
    {
     "data": {
      "text/plain": [
       "array([4.96027849, 5.48652903, 3.80186374, 3.81207392, 6.59427699,\n",
       "       4.06265082, 7.11909986, 4.62412544, 3.99538114, 4.41469671,\n",
       "       4.22822812, 3.11288333, 3.32241351, 6.08440185, 5.52047221,\n",
       "       5.47755664, 5.88006201, 5.28528501, 4.66798547, 6.38380524,\n",
       "       5.42455143, 4.72496703, 5.0404149 , 5.65845393, 5.82098681,\n",
       "       5.00565456, 3.81487249, 4.46778832, 4.26035397, 4.93131405,\n",
       "       5.33692626, 5.16858997, 6.24281253, 4.71700354, 5.38320577,\n",
       "       4.33436189, 3.94501588, 5.44250035, 4.20392998, 5.68635321,\n",
       "       4.82383236, 3.37136063, 6.71561966, 6.50078307, 2.62774438,\n",
       "       4.87646067, 5.68924699, 5.29910452, 5.54982859, 5.80352831,\n",
       "       5.58553664, 4.89735333, 5.67778343, 5.15202041, 4.06403616,\n",
       "       5.13943746, 4.15345968, 5.03577563, 3.49211059, 3.96863207,\n",
       "       3.86082941, 6.36542116, 5.74209631, 4.99906399, 6.49571108,\n",
       "       3.76396492, 4.43451843, 5.26738876, 6.89918428, 5.12955194,\n",
       "       3.80896837, 5.13624136, 4.55003325, 5.36367658, 3.71090981,\n",
       "       4.74032795, 5.94155448, 4.66437333, 4.70628343, 5.46735071,\n",
       "       5.83542897, 5.93180715, 5.35995055, 5.63845861, 4.69874286,\n",
       "       4.35598523, 4.1739991 , 5.06238662, 4.76525031, 2.95431809,\n",
       "       5.24821605, 4.2176946 , 4.72137864, 5.59094132, 5.54935785,\n",
       "       4.19928209, 5.89539022, 5.60366841, 6.803836  , 6.23695913,\n",
       "       4.97920463, 5.1666531 , 3.24415838, 5.92022037, 4.09028943,\n",
       "       4.97946589, 5.00580679, 4.81322471, 4.30877552, 4.71350462,\n",
       "       4.74222355, 6.03797941, 4.87901126, 6.63719779, 3.53415953,\n",
       "       5.75725451, 3.73273702, 4.9613498 , 5.64883751, 5.13259926,\n",
       "       4.87898252, 5.74674556, 6.35803825, 5.61058388, 4.27776053,\n",
       "       5.92369654, 2.75240547, 5.87512245, 5.09831891, 5.32461293,\n",
       "       4.93364865, 5.60945643, 5.33333145, 4.79937384, 4.47377058,\n",
       "       5.83762417, 4.77457116, 4.41542612, 5.12225482, 7.0219306 ,\n",
       "       4.94823637, 6.14360856, 5.67171405, 4.22524389, 3.8056076 ,\n",
       "       4.75201403, 7.20593423, 5.06417227, 6.12184915, 4.25126955,\n",
       "       5.05103937, 4.89677117, 6.39468605, 4.33454315, 4.95497365,\n",
       "       3.6893576 , 5.7137298 , 5.69319572, 4.40588834, 6.24472132,\n",
       "       4.29562603, 4.44169946, 5.05102884, 4.9886755 , 2.75426209,\n",
       "       3.69795955, 4.67924098, 4.95953147, 5.14417526, 4.44889193,\n",
       "       4.59431828, 5.47818109, 4.84427419, 5.08665395, 4.87928956,\n",
       "       5.32874467, 4.32101486, 5.90452429, 5.56114575, 4.52277059,\n",
       "       3.03957739, 4.27406597, 3.06010938, 4.7719193 , 4.60394279,\n",
       "       4.44449065, 4.64529478, 5.62968842, 4.05431647, 3.61335897,\n",
       "       6.04945391, 4.56497727, 5.67184384, 5.56456214, 4.23886604,\n",
       "       5.60127203, 5.43867458, 5.58852422, 5.32730371, 4.08571582,\n",
       "       5.03786184, 5.77787141, 3.32444706, 4.010132  , 5.39691857,\n",
       "       3.06981083, 5.45013058, 3.03382108, 6.10351697, 3.10541185,\n",
       "       3.93138053, 5.86317037, 5.34018295, 6.38067386, 3.59583666,\n",
       "       4.03890674, 5.81508093, 3.88824992, 5.31499183, 4.49056095,\n",
       "       5.37697378, 4.12879514, 4.57943774, 4.55140639, 5.89565817,\n",
       "       5.45932184, 5.61063028, 6.33919719, 4.04833271, 4.76032591,\n",
       "       3.78947674, 6.66612333, 5.47093403, 5.14851115, 4.75012654,\n",
       "       5.48325213, 5.19149572, 6.13109193, 4.55788734, 6.17514716,\n",
       "       6.18098087, 4.23804352, 5.21102729, 6.31257245, 5.69886777,\n",
       "       3.61950408, 5.10455514, 3.82795896, 4.11601918, 4.50219669,\n",
       "       5.28101229, 5.44211472, 5.9745761 , 4.73919106, 6.04870945,\n",
       "       4.97544479, 5.25352505, 5.1365943 , 5.51620832, 5.75453765,\n",
       "       6.5522028 , 7.03033667, 5.18020565, 5.72515719, 5.13214139,\n",
       "       4.18373427, 5.24170713, 5.50466049, 5.85693385, 6.13378338,\n",
       "       6.73388879, 6.37000693, 5.06929761, 5.3422252 , 4.62233093,\n",
       "       5.67913953, 4.08369938, 5.40075448, 4.90836902, 6.52265186,\n",
       "       4.96397794, 4.35150045, 4.49453181, 7.16534466, 5.64448783,\n",
       "       6.00118037, 4.0202142 , 6.94016722, 5.79680545, 5.68203764,\n",
       "       4.76139451, 5.39191717, 4.01674152, 4.35553501, 6.41953644,\n",
       "       4.91865958, 6.41253105, 4.54517923, 4.27685647, 2.80789529,\n",
       "       5.01781553, 4.16890929, 4.00394611, 5.05388528, 6.00994522,\n",
       "       5.57215832, 3.75777866, 6.09701952, 5.04421949, 4.80902929,\n",
       "       6.02402925, 6.93714397, 3.8342625 , 6.36676786, 6.08771604,\n",
       "       4.86218308, 5.28454258, 5.39484937, 5.83235578, 3.53751334,\n",
       "       5.83000046, 4.24978097, 3.97890972, 4.33608231, 6.07630478,\n",
       "       4.16851157, 4.70724305, 4.84400515, 5.69479935, 4.95263385,\n",
       "       4.50394872, 4.89547658, 4.31695701, 3.82084744, 3.88316742,\n",
       "       5.43996165, 3.67177583, 5.67749002, 5.08398292, 7.10788695,\n",
       "       4.38916722, 5.76306643, 4.8665219 , 5.43513492, 4.74716552,\n",
       "       4.98154201, 4.62383699, 5.50409458, 5.64198684, 4.24033456,\n",
       "       4.89862393, 4.3323321 , 5.83781396, 6.24182555, 6.05321029,\n",
       "       5.4397395 , 3.84337621, 4.93448502, 5.5510739 , 5.08658548,\n",
       "       4.55995183, 4.35807683, 5.17624862, 5.72553781, 4.22754209,\n",
       "       4.69967372, 5.07717226, 4.96034984, 5.16038166, 4.2926835 ,\n",
       "       5.03694337, 5.5143783 , 6.4283456 , 5.37630457, 5.01721813,\n",
       "       5.87321779, 3.93123101, 4.5981851 , 3.25137567, 4.0733601 ,\n",
       "       4.74061202, 4.80349883, 3.55939548, 4.25013797, 5.871698  ,\n",
       "       4.31057357, 4.69803135, 5.78959828, 3.15550102, 5.16972105,\n",
       "       7.46366803, 7.30396138, 4.91639369, 4.81544851, 5.56830267,\n",
       "       6.08198946, 5.28204183, 4.57518698, 4.45950974, 5.72299957,\n",
       "       5.71153237, 4.71679462, 5.96049402, 4.90958635, 5.77418918,\n",
       "       3.66953578, 4.98990224, 4.82229245, 3.94216882, 4.67904099,\n",
       "       5.28194222, 4.6802704 , 3.31870186, 5.04811035, 5.30219947,\n",
       "       5.63869275, 5.12684999, 3.66539454, 4.72943818, 3.80971534,\n",
       "       5.12403938, 6.56982042, 5.14424773, 7.92259576, 4.55915155,\n",
       "       6.66056008, 3.89006669, 5.32982182, 4.1496567 , 7.11974952,\n",
       "       4.38712552, 5.06519769, 5.45641777, 4.08490716, 4.30069925,\n",
       "       4.00817617, 5.03036217, 4.18765284, 4.2643747 , 6.03304275,\n",
       "       6.59280968, 5.01875901, 4.9365466 , 5.42950851, 5.28148995,\n",
       "       5.01117145, 4.78051707, 3.78804702, 4.8533337 , 5.37064189,\n",
       "       5.90060729, 5.41194635, 6.3475872 , 5.85798569, 3.44204106,\n",
       "       4.38022526, 5.35312587, 4.3799535 , 6.23623306, 6.94367559,\n",
       "       5.2279201 , 5.47341191, 2.57391103, 5.39353129, 5.64796608,\n",
       "       5.34660669, 4.5207511 , 5.8725067 , 5.72917795, 6.31156483,\n",
       "       5.30560959, 5.16446548, 5.1815495 , 4.47442558, 5.44222   ,\n",
       "       4.19612321, 5.46454308, 5.44320161, 5.03212865, 4.48946727,\n",
       "       4.0431453 , 4.28719502, 5.23206319, 3.97990694, 5.09501464,\n",
       "       7.56506932, 4.21785179, 3.93643053, 2.95617102, 5.82373807,\n",
       "       5.16181703, 4.06897836, 2.90082144, 4.27496152, 5.4340407 ,\n",
       "       5.68798238, 5.26104221, 5.93357703, 4.17184154, 4.62705566,\n",
       "       4.04480514, 4.98918196, 5.35788799, 5.01585226, 3.33148937,\n",
       "       4.56435732, 6.61764815, 4.91330359, 5.08771944, 4.05498162,\n",
       "       3.77622391, 5.0508752 , 4.08984506, 4.78823012, 5.16521875,\n",
       "       5.54679357, 4.43520225, 8.09249191, 3.82569372, 6.06715251,\n",
       "       6.87780112, 5.17850882, 3.89739183, 4.26603907, 5.71711848,\n",
       "       5.38286865, 5.95827348, 6.66956229, 4.46433243, 4.55639135,\n",
       "       5.58404323, 4.58995132, 3.65754916, 6.18363311, 5.06192276,\n",
       "       3.41352837, 5.26336877, 4.16228154, 4.2798638 , 6.12738017,\n",
       "       5.53910875, 5.66535482, 3.31437573, 5.3856913 , 5.15535043,\n",
       "       6.25077193, 4.41729663, 5.17357812, 5.61272785, 4.80194815,\n",
       "       3.97334091, 5.06470616, 4.75835624, 5.39847873, 3.84811115,\n",
       "       5.98137788, 4.98064487, 5.64680341, 3.89510779, 4.82343235,\n",
       "       4.23843566, 6.46362846, 5.87799214, 4.20216265, 5.55315006,\n",
       "       4.21629096, 5.26038404, 4.04508295, 5.97184935, 4.17831633,\n",
       "       5.3794693 , 5.53541846, 4.06177835, 3.67205328, 4.88209916,\n",
       "       6.39060328, 5.50114408, 3.47540439, 5.93468278, 4.56147529,\n",
       "       6.34547505, 5.70756252, 4.48600137, 5.55094055, 3.69454416,\n",
       "       4.11523206, 3.91297121, 5.41340077, 5.53545202, 5.84433815,\n",
       "       4.76898691, 5.06551391, 5.26645507, 5.33550083, 4.68173157,\n",
       "       3.69239003, 5.61650437, 5.9005198 , 4.86643722, 4.35399065,\n",
       "       4.39773304, 4.85732315, 4.65465479, 4.69158372, 3.24602202,\n",
       "       5.26101708, 4.87235931, 5.29127123, 3.50647633, 5.35291149,\n",
       "       5.66288655, 4.94095143, 5.2053222 , 5.1246612 , 4.28582352,\n",
       "       6.02182163, 5.28766767, 4.97813963, 6.03937542, 4.62122913,\n",
       "       5.25845825, 5.46015288, 5.96357243, 3.10735891, 3.55140087,\n",
       "       4.2273434 , 5.17241548, 4.0842732 , 4.77507274, 5.14356545,\n",
       "       5.82702573, 5.92278522, 5.42181364, 4.60094622, 4.65632011,\n",
       "       6.22106172, 3.6740972 , 5.42870233, 5.14082949, 5.17918675,\n",
       "       3.4279676 , 4.99323173, 4.91930485, 4.54365466, 4.32810714,\n",
       "       5.02008436, 4.33756606, 5.57415809, 3.3227852 , 3.1952754 ,\n",
       "       6.02673693, 4.63627499, 7.03205055, 4.48044619, 5.08242011,\n",
       "       4.9994354 , 5.03382629, 5.22998484, 4.93228673, 4.61621867,\n",
       "       4.93479474, 4.41094303, 6.3608547 , 4.07199728, 4.91242072,\n",
       "       5.61704016, 3.90040721, 3.83623524, 6.1531357 , 4.88958494,\n",
       "       4.95654071, 4.32626095, 4.84269653, 5.21125427, 6.0585194 ,\n",
       "       6.42911595, 3.65354615, 4.51380625, 5.11651565, 5.54009997,\n",
       "       3.99859635, 4.99618464, 3.50107454, 5.14417395, 5.44173899,\n",
       "       5.5864448 , 4.75507176, 5.39382493, 4.85847097, 5.06490383,\n",
       "       5.21417283, 3.844518  , 4.47160224, 4.63286118, 5.27246239,\n",
       "       3.78513266, 5.29929003, 4.23249719, 4.44603035, 6.03639802,\n",
       "       4.97472566, 3.27021276, 5.96863354, 3.05568022, 5.66910994,\n",
       "       3.72846053, 5.17111521, 4.53563871, 4.14857631, 6.28513741,\n",
       "       4.49986169, 5.02970163, 2.96036968, 5.44340661, 5.34599879,\n",
       "       3.91069563, 4.90439489, 2.98434388, 6.86678966, 5.17165412,\n",
       "       5.00002378, 4.43126199, 5.35338889, 5.47404854, 5.16720728,\n",
       "       4.11977439, 4.14485269, 6.21935108, 6.72388615, 4.39989998,\n",
       "       5.03571152, 4.56150205, 4.93177015, 5.38589432, 4.14078657,\n",
       "       4.85084058, 3.30222161, 5.41273099, 5.57291196, 6.10489269,\n",
       "       4.48463399, 5.12136282, 6.01649307, 5.75906659, 4.49179944,\n",
       "       4.80856121, 3.37059109, 5.92087464, 4.98641587, 5.55775576,\n",
       "       3.29229997, 5.12050402, 3.8282424 , 6.04399885, 4.67086671,\n",
       "       6.43369188, 2.37547797, 6.70474423, 6.42653716, 6.79052261,\n",
       "       4.3446027 , 5.12458554, 4.42646611, 4.80867413, 4.15967595,\n",
       "       4.23960196, 5.224311  , 4.42229694, 6.32801243, 6.38823963,\n",
       "       4.83388108, 5.3504565 , 4.05009903, 5.580429  , 3.4546415 ,\n",
       "       5.67340008, 5.05714932, 6.65785738, 6.03768626, 5.26721496,\n",
       "       5.28266396, 4.07753782, 5.95036488, 5.32222244, 5.20586808,\n",
       "       4.94189779, 5.699673  , 4.58380595, 5.07155441, 4.56271157,\n",
       "       5.61840022, 6.02679713, 3.42133459, 5.47503677, 6.03512021,\n",
       "       3.97632721, 4.96401727, 4.35436491, 4.08839682, 2.96939709,\n",
       "       4.88682715, 4.52607974, 3.76116106, 4.55349496, 5.65197481,\n",
       "       4.21170384, 7.30056389, 5.06985   , 5.88989682, 5.62773604,\n",
       "       5.16950514, 4.60572046, 2.66031706, 4.11306493, 5.43971394,\n",
       "       6.85837366, 4.31491708, 5.37090266, 5.73900913, 5.22933389,\n",
       "       3.66749328, 6.41593056, 3.66852903, 4.32641442, 4.50676311,\n",
       "       5.51626486, 3.69979137, 4.58504686, 4.5130832 , 4.88569101,\n",
       "       4.86217574, 3.21123073, 4.13756343, 4.38208157, 4.47660369,\n",
       "       4.83189699, 4.78632936, 3.63575315, 4.5581181 , 5.89700789,\n",
       "       6.30945943, 3.85537128, 5.27506463, 6.0601346 , 3.82945044,\n",
       "       5.3350886 , 5.38225224, 4.82132234, 4.86290852, 4.80828873,\n",
       "       4.75533164, 4.7022582 , 7.20038064, 6.1935217 , 3.46458692,\n",
       "       5.79197575, 4.74220967, 6.32952927, 4.80632318, 5.72997198,\n",
       "       5.96265763, 5.83435792, 4.19786387, 5.86660476, 5.33718693,\n",
       "       5.50778712, 4.95092601, 4.9184534 , 4.67031441, 5.79748614,\n",
       "       6.77013311, 4.12403145, 5.26418117, 4.33400862, 5.96673216,\n",
       "       4.44325372, 5.40099239, 4.18100504, 6.67892349, 4.14528417,\n",
       "       5.18559371, 5.72628781, 3.14818417, 4.19098432, 5.62769284,\n",
       "       5.68988263, 3.58993181, 5.15706103, 4.38758821, 5.27714923,\n",
       "       4.93919828, 3.23413189, 5.55966587, 5.4211459 , 6.04504501,\n",
       "       4.5048935 , 4.30127691, 4.1743846 , 4.71420208, 5.19270007,\n",
       "       4.41782061, 4.76551606, 4.33245812, 4.56128701, 5.48860469,\n",
       "       5.1243984 , 5.24765631, 4.26423963, 4.13342131, 6.33947351,\n",
       "       3.69761572, 5.1512584 , 6.15649577, 4.29967594, 4.645077  ,\n",
       "       4.84187865, 5.43006376, 6.21066993, 5.40227064, 4.74564563,\n",
       "       5.88232651, 5.14845302, 5.45278814, 4.94774076, 3.63791186,\n",
       "       4.93279531, 3.52156532, 2.73808332, 4.79426635, 2.84873471,\n",
       "       4.77636175, 4.35746187, 5.56388076, 4.75071189, 5.46499395,\n",
       "       4.49593213, 5.42687912, 5.58574232, 4.78820373, 6.55377609,\n",
       "       6.75725451, 5.84000533, 6.32124261, 4.70811432, 3.80680077,\n",
       "       5.61457392, 5.53883747, 4.80407233, 4.3707874 , 5.03634679,\n",
       "       5.84015198, 3.91012154, 4.93455715, 3.72652893, 4.78564451,\n",
       "       6.4053031 , 5.3973437 , 5.45876906, 3.81199698, 6.06510709,\n",
       "       4.39710292, 6.56741389, 5.14884659, 4.87218631, 5.42407599,\n",
       "       6.4334736 , 4.08407032, 6.78087564, 4.713107  , 3.74773499,\n",
       "       3.74846714, 4.73105382, 4.32512022, 4.28636681, 4.48277284,\n",
       "       4.82792021, 5.73612187, 4.13049376, 5.51288668, 4.48149563,\n",
       "       5.26911698, 6.12875632, 5.89940799, 5.98642102, 5.33595   ,\n",
       "       5.82803163, 4.75387539, 4.58708348, 3.36176853, 5.89206654,\n",
       "       4.00879583, 6.07294407, 5.08714395, 4.924668  , 4.12711743,\n",
       "       5.73203558, 6.21882382, 5.74369177, 5.43471309, 3.77687823])"
      ]
     },
     "execution_count": 15,
     "metadata": {},
     "output_type": "execute_result"
    }
   ],
   "source": [
    "import numpy as np\n",
    "data = np.random.rand(1000, 10)\n",
    "\n",
    "def my_sum(data):\n",
    "    res = data.sum(axis=1)\n",
    "    return res\n",
    "\n",
    "my_sum(data)"
   ]
  },
  {
   "cell_type": "code",
   "execution_count": 18,
   "metadata": {},
   "outputs": [],
   "source": [
    "N = np.array(0, dtype='i')"
   ]
  },
  {
   "cell_type": "code",
   "execution_count": 21,
   "metadata": {},
   "outputs": [
    {
     "name": "stderr",
     "output_type": "stream",
     "text": [
      "/tmp/ipykernel_471/3389590107.py:1: RuntimeWarning: divide by zero encountered in divide\n",
      "  h = 1/N\n"
     ]
    }
   ],
   "source": [
    "h = 1/N\n",
    "s = 0"
   ]
  },
  {
   "cell_type": "code",
   "execution_count": null,
   "metadata": {},
   "outputs": [],
   "source": []
  },
  {
   "cell_type": "code",
   "execution_count": null,
   "metadata": {},
   "outputs": [],
   "source": [
    "spawn-parallel"
   ]
  },
  {
   "cell_type": "code",
   "execution_count": 6,
   "metadata": {},
   "outputs": [
    {
     "data": {
      "text/plain": [
       "4.0"
      ]
     },
     "execution_count": 6,
     "metadata": {},
     "output_type": "execute_result"
    }
   ],
   "source": [
    "8*1024*1024*64*8/1024**3"
   ]
  },
  {
   "cell_type": "code",
   "execution_count": 5,
   "metadata": {},
   "outputs": [
    {
     "data": {
      "text/plain": [
       "64.0"
      ]
     },
     "execution_count": 5,
     "metadata": {},
     "output_type": "execute_result"
    }
   ],
   "source": [
    "512/8"
   ]
  },
  {
   "cell_type": "markdown",
   "metadata": {},
   "source": [
    "# find_decorator_requires"
   ]
  },
  {
   "cell_type": "code",
   "execution_count": 18,
   "metadata": {},
   "outputs": [],
   "source": [
    "import sys\n",
    "import numpy as np\n",
    "from numba import jit\n",
    "import inspect\n",
    "sys.path.append(\"/mnt/d/Python/minifympi/\")"
   ]
  },
  {
   "cell_type": "code",
   "execution_count": 10,
   "metadata": {},
   "outputs": [],
   "source": [
    "from minifympi.core import mmp"
   ]
  },
  {
   "cell_type": "code",
   "execution_count": 28,
   "metadata": {},
   "outputs": [
    {
     "data": {
      "text/plain": [
       "{}"
      ]
     },
     "execution_count": 28,
     "metadata": {},
     "output_type": "execute_result"
    }
   ],
   "source": [
    "def test2(a):\n",
    "    print(a)\n",
    "\n",
    "# @mmp.find_requires\n",
    "@jit\n",
    "def test(a, b):\n",
    "    test2(a+b)\n",
    "\n",
    "\n",
    "mmp.find_requires(test, {'jit': jit})"
   ]
  },
  {
   "cell_type": "code",
   "execution_count": 29,
   "metadata": {},
   "outputs": [
    {
     "ename": "AttributeError",
     "evalue": "'CPUDispatcher' object has no attribute '__globals__'",
     "output_type": "error",
     "traceback": [
      "\u001b[0;31m---------------------------------------------------------------------------\u001b[0m",
      "\u001b[0;31mAttributeError\u001b[0m                            Traceback (most recent call last)",
      "Cell \u001b[0;32mIn[29], line 1\u001b[0m\n\u001b[0;32m----> 1\u001b[0m \u001b[43mmmp\u001b[49m\u001b[38;5;241;43m.\u001b[39;49m\u001b[43mfind_decorator_requires\u001b[49m\u001b[43m(\u001b[49m\u001b[43mtest\u001b[49m\u001b[43m)\u001b[49m\n",
      "File \u001b[0;32m/mnt/d/Python/minifympi/minifympi/core.py:235\u001b[0m, in \u001b[0;36mMinifyMPI.find_decorator_requires\u001b[0;34m(self, func)\u001b[0m\n\u001b[1;32m    233\u001b[0m decorators \u001b[38;5;241m=\u001b[39m [line\u001b[38;5;241m.\u001b[39mstrip() \u001b[38;5;28;01mfor\u001b[39;00m line \u001b[38;5;129;01min\u001b[39;00m code\u001b[38;5;241m.\u001b[39msplit(\u001b[38;5;124m'\u001b[39m\u001b[38;5;130;01m\\n\u001b[39;00m\u001b[38;5;124m'\u001b[39m) \u001b[38;5;28;01mif\u001b[39;00m line\u001b[38;5;241m.\u001b[39mstartswith(\u001b[38;5;124m'\u001b[39m\u001b[38;5;124m@\u001b[39m\u001b[38;5;124m'\u001b[39m)]\n\u001b[1;32m    234\u001b[0m decorators \u001b[38;5;241m=\u001b[39m [re\u001b[38;5;241m.\u001b[39mfindall(\u001b[38;5;124m'\u001b[39m\u001b[38;5;124m@(.+\u001b[39m\u001b[38;5;124m'\u001b[39m\u001b[38;5;241m+\u001b[39m(\u001b[38;5;124m'\u001b[39m\u001b[38;5;124m?)\u001b[39m\u001b[38;5;124m\\\u001b[39m\u001b[38;5;124m(\u001b[39m\u001b[38;5;124m'\u001b[39m \u001b[38;5;28;01mif\u001b[39;00m \u001b[38;5;124m'\u001b[39m\u001b[38;5;124m(\u001b[39m\u001b[38;5;124m'\u001b[39m \u001b[38;5;129;01min\u001b[39;00m line \u001b[38;5;28;01melse\u001b[39;00m \u001b[38;5;124m'\u001b[39m\u001b[38;5;124m)\u001b[39m\u001b[38;5;124m'\u001b[39m), line)[\u001b[38;5;241m0\u001b[39m] \u001b[38;5;28;01mfor\u001b[39;00m line \u001b[38;5;129;01min\u001b[39;00m decorators]\n\u001b[0;32m--> 235\u001b[0m requires_decorators \u001b[38;5;241m=\u001b[39m \u001b[38;5;28mself\u001b[39m\u001b[38;5;241m.\u001b[39mfind_requires(\u001b[38;5;28meval\u001b[39m(\u001b[38;5;124m'\u001b[39m\u001b[38;5;124mlambda: (\u001b[39m\u001b[38;5;132;01m{}\u001b[39;00m\u001b[38;5;124m)\u001b[39m\u001b[38;5;124m'\u001b[39m\u001b[38;5;241m.\u001b[39mformat(\u001b[38;5;124m'\u001b[39m\u001b[38;5;124m,\u001b[39m\u001b[38;5;124m'\u001b[39m\u001b[38;5;241m.\u001b[39mjoin(decorators))), \u001b[43mfunc\u001b[49m\u001b[38;5;241;43m.\u001b[39;49m\u001b[38;5;18;43m__globals__\u001b[39;49m)\n\u001b[1;32m    236\u001b[0m \u001b[38;5;28;01mreturn\u001b[39;00m requires_decorators\n",
      "\u001b[0;31mAttributeError\u001b[0m: 'CPUDispatcher' object has no attribute '__globals__'"
     ]
    }
   ],
   "source": [
    "mmp.find_decorator_requires(test)"
   ]
  },
  {
   "cell_type": "code",
   "execution_count": null,
   "metadata": {},
   "outputs": [],
   "source": []
  },
  {
   "cell_type": "code",
   "execution_count": 20,
   "metadata": {},
   "outputs": [
    {
     "name": "stdout",
     "output_type": "stream",
     "text": [
      "@jit\n",
      "def test(a, b):\n",
      "    test2(a+b)\n",
      "\n"
     ]
    }
   ],
   "source": [
    "print(inspect.getsource(test))"
   ]
  },
  {
   "cell_type": "code",
   "execution_count": null,
   "metadata": {},
   "outputs": [],
   "source": []
  },
  {
   "cell_type": "code",
   "execution_count": null,
   "metadata": {},
   "outputs": [],
   "source": []
  }
 ],
 "metadata": {
  "kernelspec": {
   "display_name": "mpi",
   "language": "python",
   "name": "mpi"
  },
  "language_info": {
   "codemirror_mode": {
    "name": "ipython",
    "version": 3
   },
   "file_extension": ".py",
   "mimetype": "text/x-python",
   "name": "python",
   "nbconvert_exporter": "python",
   "pygments_lexer": "ipython3",
   "version": "3.11.7"
  }
 },
 "nbformat": 4,
 "nbformat_minor": 2
}
